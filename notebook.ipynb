{
  "nbformat": 4,
  "nbformat_minor": 0,
  "metadata": {
    "colab": {
      "name": "Copie de Tutorial_notebook.ipynb",
      "provenance": [],
      "collapsed_sections": []
    },
    "kernelspec": {
      "display_name": "Python 3",
      "name": "python3"
    },
    "language_info": {
      "name": "python"
    }
  },
  "cells": [
    {
      "cell_type": "markdown",
      "metadata": {
        "id": "oA_fe4oxWT6p"
      },
      "source": [
        "# Mouting the Google Drive\n",
        "\n",
        "It is possible to mount your Google Drive to Colab if you need additional storage or if you need to use files from it. To do that run (click on play button or use keyboard shortcut 'Command/Ctrl+Enter') the following code cell:"
      ]
    },
    {
      "cell_type": "code",
      "metadata": {
        "colab": {
          "base_uri": "https://localhost:8080/"
        },
        "id": "CEcIlRwfWY4C",
        "outputId": "9b93c407-e39b-41ea-cb04-ed5f6b7e15b0"
      },
      "source": [
        "from google.colab import drive\n",
        "drive.mount('/content/drive')"
      ],
      "execution_count": null,
      "outputs": [
        {
          "name": "stdout",
          "output_type": "stream",
          "text": [
            "Mounted at /content/drive\n"
          ]
        }
      ]
    },
    {
      "cell_type": "markdown",
      "metadata": {
        "id": "ARjU_sCnWFMP"
      },
      "source": [
        "## Filtering data"
      ]
    },
    {
      "cell_type": "code",
      "metadata": {
        "id": "GlbeeBzNWKu7"
      },
      "source": [
        "import bz2\n",
        "import json\n",
        "import urllib.parse\n",
        "import re\n",
        "\n",
        "def filter_quotation_file_on_keywords(keywords, input_file, output_file):\n",
        "  # Special treatement for url where spaces do not exist and replace those by \"-\" or \"_\"\n",
        "  url_keywords={*set(map(lambda x: urllib.parse.quote(x.replace(\" \", '-')), keywords)), *set(map(lambda x: urllib.parse.quote(x.replace(\" \", '_')), keywords))}\n",
        "  regex_keywords=re.compile('|'.join(keywords),re.IGNORECASE)\n",
        "  regex_url_keywords=re.compile('|'.join(url_keywords),re.IGNORECASE)\n",
        "\n",
        "  def find(f, seq):\n",
        "    \"\"\"Return first item in sequence where f(item) == True.\"\"\"\n",
        "    for item in seq:\n",
        "      if f(item): \n",
        "        return True\n",
        "    return False\n",
        "\n",
        "  with bz2.open(input_file, 'rb') as s_file:\n",
        "      with bz2.open(output_file, 'wb') as d_file:\n",
        "          for instance in s_file:\n",
        "              # Load one input\n",
        "              instance = json.loads(instance)\n",
        "              # Filter using regex\n",
        "              if regex_keywords.search(instance['quotation']) or find(lambda x: regex_url_keywords.search(x), instance['urls']):\n",
        "                # writing in the new file\n",
        "                d_file.write((json.dumps(instance)+'\\n').encode('utf-8'))"
      ],
      "execution_count": null,
      "outputs": []
    },
    {
      "cell_type": "code",
      "metadata": {
        "id": "67oUbRfMWMVt"
      },
      "source": [
        "# Generate \"climate change\" dataset for 2015\n",
        "\n",
        "keywords=[\"climate\", \"global warming\", \"biodiversity\", \"greta\", \"thunberg\", \"sustainability\", \"extinction\", \"global week for future\", \"fridays for future\", \"paris agreement\", \"deforestation\", \"heat extremes\", \"IPCC\"]\n",
        "\n",
        "input_file = '/content/drive/MyDrive/Quotebank/quotes-2015.json.bz2' \n",
        "output_file = '/content/drive/MyDrive/quotes-2015-filtered.json.bz2'\n",
        "\n",
        "filter_quotation_file_on_keywords(keywords, input_file, output_file)"
      ],
      "execution_count": null,
      "outputs": []
    },
    {
      "cell_type": "code",
      "metadata": {
        "id": "riTUZZHof4gN"
      },
      "source": [
        "# Generate 2 natural disasters datasets for 2015 and 2019\n",
        "\n",
        "input_file_2015 = '/content/drive/MyDrive/Quotebank/quotes-2015.json.bz2'\n",
        "output_file_natural_disaster_2015 = '/content/drive/MyDrive/quotes-2015-filtered-natural-event.json.bz2'\n",
        "input_file_2019 = '/content/drive/MyDrive/Quotebank/quotes-2019.json.bz2'\n",
        "output_file_natural_disaster_2019 = '/content/drive/MyDrive/quotes-2019-filtered-natural-event.json.bz2'\n",
        "\n",
        "keywords=[\"heat waves\", \"heat extremes\", \"tornado\", \"wildfire\", \"drought\", \"hurricane\", \"flood\"]\n",
        "\n",
        "filter_quotation_file_on_keywords(keywords, input_file_2015, output_file_natural_disaster_2015)\n",
        "filter_quotation_file_on_keywords(keywords, input_file_2019, output_file_natural_disaster_2019)"
      ],
      "execution_count": null,
      "outputs": []
    },
    {
      "cell_type": "markdown",
      "metadata": {
        "id": "iuAoToz1WyaG"
      },
      "source": [
        "## Initial analysis - The vision of climate change through quotes\n",
        "\n",
        "> How have climate change gained newspapers’ interest through the years ?\n",
        "> Do the newspapers have impacts on the public interests regarding climate change ? "
      ]
    },
    {
      "cell_type": "markdown",
      "metadata": {
        "id": "cUk628mEzM9j"
      },
      "source": [
        "## Timeline of climate subject occurence"
      ]
    },
    {
      "cell_type": "code",
      "metadata": {
        "id": "L1nOpB__Ww9p"
      },
      "source": [
        "# TODO graph : timeline des événements liés au climat que l’on pense majeur → climate change has especially gained interest through important events"
      ],
      "execution_count": null,
      "outputs": []
    },
    {
      "cell_type": "code",
      "metadata": {
        "colab": {
          "base_uri": "https://localhost:8080/",
          "height": 283
        },
        "id": "lY8Jzo7sAGCU",
        "outputId": "b5ae4049-4e56-4ed7-8660-c7e7f7e861c6"
      },
      "source": [
        "import pandas as pd\n",
        "input_file='/content/drive/MyDrive/quotes-2019-filtered.json.bz2'\n",
        "# Load at once only because the dataset is not too big, 243'000 items\n",
        "data_2019_df = pd.read_json(input_file, lines=True)\n",
        "data_2019_df['date'].hist(bins=60)\n",
        "#data.groupby('date').count().plot()\n",
        "# First we can see some peaks in this case the climate strikes of septembre 2019 "
      ],
      "execution_count": null,
      "outputs": [
        {
          "data": {
            "text/plain": [
              "<matplotlib.axes._subplots.AxesSubplot at 0x7f7867196890>"
            ]
          },
          "execution_count": 2,
          "metadata": {},
          "output_type": "execute_result"
        },
        {
          "data": {
            "image/png": "[encoded data removed]",
            "text/plain": [
              "<Figure size 432x288 with 1 Axes>"
            ]
          },
          "metadata": {},
          "output_type": "display_data"
        }
      ]
    },
    {
      "cell_type": "code",
      "metadata": {
        "colab": {
          "base_uri": "https://localhost:8080/"
        },
        "id": "wzlcvJNOG81m",
        "outputId": "e72c13ca-320b-4216-8bc6-dfbcfb60bd7b"
      },
      "source": [
        "data['quotation'].count()"
      ],
      "execution_count": null,
      "outputs": [
        {
          "data": {
            "text/plain": [
              "243680"
            ]
          },
          "execution_count": 18,
          "metadata": {},
          "output_type": "execute_result"
        }
      ]
    },
    {
      "cell_type": "markdown",
      "metadata": {
        "id": "RuqtICNqYv9D"
      },
      "source": [
        "## Test Google trends\n",
        "\n"
      ]
    },
    {
      "cell_type": "code",
      "metadata": {
        "colab": {
          "base_uri": "https://localhost:8080/"
        },
        "id": "SrTnT28PxEu4",
        "outputId": "a733f5a5-e505-4ec1-eea4-5e479fd4540f"
      },
      "source": [
        "!pip install pytrends\n",
        "from pytrends.request import TrendReq"
      ],
      "execution_count": null,
      "outputs": [
        {
          "name": "stdout",
          "output_type": "stream",
          "text": [
            "Collecting pytrends\n",
            "  Downloading pytrends-4.7.3-py3-none-any.whl (14 kB)\n",
            "Requirement already satisfied: pandas>=0.25 in /usr/local/lib/python3.7/dist-packages (from pytrends) (1.1.5)\n",
            "Requirement already satisfied: requests in /usr/local/lib/python3.7/dist-packages (from pytrends) (2.23.0)\n",
            "Requirement already satisfied: lxml in /usr/local/lib/python3.7/dist-packages (from pytrends) (4.2.6)\n",
            "Requirement already satisfied: python-dateutil>=2.7.3 in /usr/local/lib/python3.7/dist-packages (from pandas>=0.25->pytrends) (2.8.2)\n",
            "Requirement already satisfied: pytz>=2017.2 in /usr/local/lib/python3.7/dist-packages (from pandas>=0.25->pytrends) (2018.9)\n",
            "Requirement already satisfied: numpy>=1.15.4 in /usr/local/lib/python3.7/dist-packages (from pandas>=0.25->pytrends) (1.19.5)\n",
            "Requirement already satisfied: six>=1.5 in /usr/local/lib/python3.7/dist-packages (from python-dateutil>=2.7.3->pandas>=0.25->pytrends) (1.15.0)\n",
            "Requirement already satisfied: chardet<4,>=3.0.2 in /usr/local/lib/python3.7/dist-packages (from requests->pytrends) (3.0.4)\n",
            "Requirement already satisfied: certifi>=2017.4.17 in /usr/local/lib/python3.7/dist-packages (from requests->pytrends) (2021.10.8)\n",
            "Requirement already satisfied: idna<3,>=2.5 in /usr/local/lib/python3.7/dist-packages (from requests->pytrends) (2.10)\n",
            "Requirement already satisfied: urllib3!=1.25.0,!=1.25.1,<1.26,>=1.21.1 in /usr/local/lib/python3.7/dist-packages (from requests->pytrends) (1.24.3)\n",
            "Installing collected packages: pytrends\n",
            "Successfully installed pytrends-4.7.3\n"
          ]
        }
      ]
    },
    {
      "cell_type": "code",
      "metadata": {
        "colab": {
          "base_uri": "https://localhost:8080/",
          "height": 206
        },
        "id": "sNYh0dGQH3DT",
        "outputId": "bb983277-6204-409a-c387-b11806924177"
      },
      "source": [
        "pytrends = TrendReq(hl='en-US', tz=360)\n",
        "pytrends.build_payload(kw_list=['climate'], gprop='news', geo='US')\n",
        "related_queries = pytrends.related_queries()\n",
        "related_queries['climate']['top'].head()\n",
        "# Related queries"
      ],
      "execution_count": null,
      "outputs": [
        {
          "data": {
            "text/html": [
              "<div>\n",
              "<style scoped>\n",
              "    .dataframe tbody tr th:only-of-type {\n",
              "        vertical-align: middle;\n",
              "    }\n",
              "\n",
              "    .dataframe tbody tr th {\n",
              "        vertical-align: top;\n",
              "    }\n",
              "\n",
              "    .dataframe thead th {\n",
              "        text-align: right;\n",
              "    }\n",
              "</style>\n",
              "<table border=\"1\" class=\"dataframe\">\n",
              "  <thead>\n",
              "    <tr style=\"text-align: right;\">\n",
              "      <th></th>\n",
              "      <th>query</th>\n",
              "      <th>value</th>\n",
              "    </tr>\n",
              "  </thead>\n",
              "  <tbody>\n",
              "    <tr>\n",
              "      <th>0</th>\n",
              "      <td>climate change</td>\n",
              "      <td>100</td>\n",
              "    </tr>\n",
              "    <tr>\n",
              "      <th>1</th>\n",
              "      <td>climate news</td>\n",
              "      <td>10</td>\n",
              "    </tr>\n",
              "    <tr>\n",
              "      <th>2</th>\n",
              "      <td>trump climate change</td>\n",
              "      <td>9</td>\n",
              "    </tr>\n",
              "    <tr>\n",
              "      <th>3</th>\n",
              "      <td>climate change news</td>\n",
              "      <td>7</td>\n",
              "    </tr>\n",
              "    <tr>\n",
              "      <th>4</th>\n",
              "      <td>paris climate agreement</td>\n",
              "      <td>4</td>\n",
              "    </tr>\n",
              "  </tbody>\n",
              "</table>\n",
              "</div>"
            ],
            "text/plain": [
              "                     query  value\n",
              "0           climate change    100\n",
              "1             climate news     10\n",
              "2     trump climate change      9\n",
              "3      climate change news      7\n",
              "4  paris climate agreement      4"
            ]
          },
          "execution_count": 6,
          "metadata": {},
          "output_type": "execute_result"
        }
      ]
    },
    {
      "cell_type": "code",
      "metadata": {
        "colab": {
          "base_uri": "https://localhost:8080/",
          "height": 309
        },
        "id": "H9kTiqjvUv7d",
        "outputId": "ffaa92c3-43c2-4a68-acc3-02e02a5d2155"
      },
      "source": [
        "pytrends.build_payload(kw_list=['climate', 'greta'], cat=0, timeframe='2019-01-01 2019-12-31', geo='US')\n",
        "data = pytrends.interest_over_time()\n",
        "data.plot()"
      ],
      "execution_count": null,
      "outputs": [
        {
          "data": {
            "text/plain": [
              "<matplotlib.axes._subplots.AxesSubplot at 0x7f49cc33fe50>"
            ]
          },
          "execution_count": 7,
          "metadata": {},
          "output_type": "execute_result"
        },
        {
          "data": {
            "image/png": "[encoded data removed]",
            "text/plain": [
              "<Figure size 432x288 with 1 Axes>"
            ]
          },
          "metadata": {},
          "output_type": "display_data"
        }
      ]
    },
    {
      "cell_type": "markdown",
      "metadata": {
        "id": "bnph8MeilAEg"
      },
      "source": [
        "## Enriching data\n",
        "\n",
        "Use the script provided by TAs to enrich data and add infos about the authors of the quotes.\n"
      ]
    },
    {
      "cell_type": "code",
      "metadata": {
        "colab": {
          "base_uri": "https://localhost:8080/",
          "height": 455
        },
        "id": "fc6dQ9ktWuf3",
        "outputId": "f0aba69f-a559-49d8-dda8-60a4a01d945a"
      },
      "source": [
        "# Loading wikidata labels\n",
        "wikidata_file='/content/drive/MyDrive/Project datasets/wikidata_labels_descriptions_quotebank.csv.bz2'\n",
        "# wikidata_file='/content/drive/MyDrive/Project datasets/wikidata_labels_descriptions.csv.bz2'\n",
        "wiki_df = pd.read_csv(wikidata_file, compression='bz2', index_col='QID')\n",
        "wiki_df"
      ],
      "execution_count": null,
      "outputs": [
        {
          "data": {
            "text/html": [
              "<div>\n",
              "<style scoped>\n",
              "    .dataframe tbody tr th:only-of-type {\n",
              "        vertical-align: middle;\n",
              "    }\n",
              "\n",
              "    .dataframe tbody tr th {\n",
              "        vertical-align: top;\n",
              "    }\n",
              "\n",
              "    .dataframe thead th {\n",
              "        text-align: right;\n",
              "    }\n",
              "</style>\n",
              "<table border=\"1\" class=\"dataframe\">\n",
              "  <thead>\n",
              "    <tr style=\"text-align: right;\">\n",
              "      <th></th>\n",
              "      <th>Label</th>\n",
              "      <th>Description</th>\n",
              "    </tr>\n",
              "    <tr>\n",
              "      <th>QID</th>\n",
              "      <th></th>\n",
              "      <th></th>\n",
              "    </tr>\n",
              "  </thead>\n",
              "  <tbody>\n",
              "    <tr>\n",
              "      <th>Q31</th>\n",
              "      <td>Belgium</td>\n",
              "      <td>country in western Europe</td>\n",
              "    </tr>\n",
              "    <tr>\n",
              "      <th>Q45</th>\n",
              "      <td>Portugal</td>\n",
              "      <td>country in southwestern Europe</td>\n",
              "    </tr>\n",
              "    <tr>\n",
              "      <th>Q75</th>\n",
              "      <td>Internet</td>\n",
              "      <td>global system of connected computer networks</td>\n",
              "    </tr>\n",
              "    <tr>\n",
              "      <th>Q148</th>\n",
              "      <td>People's Republic of China</td>\n",
              "      <td>sovereign state in East Asia</td>\n",
              "    </tr>\n",
              "    <tr>\n",
              "      <th>Q155</th>\n",
              "      <td>Brazil</td>\n",
              "      <td>country in South America</td>\n",
              "    </tr>\n",
              "    <tr>\n",
              "      <th>...</th>\n",
              "      <td>...</td>\n",
              "      <td>...</td>\n",
              "    </tr>\n",
              "    <tr>\n",
              "      <th>Q106302506</th>\n",
              "      <td>didgeridooist</td>\n",
              "      <td>musician who plays the didgeridoo</td>\n",
              "    </tr>\n",
              "    <tr>\n",
              "      <th>Q106341153</th>\n",
              "      <td>biochemistry teacher</td>\n",
              "      <td>teacher of biochemistry at any level</td>\n",
              "    </tr>\n",
              "    <tr>\n",
              "      <th>Q106368830</th>\n",
              "      <td>2018 Wigan Metropolitan Borough Council electi...</td>\n",
              "      <td>NaN</td>\n",
              "    </tr>\n",
              "    <tr>\n",
              "      <th>Q106369692</th>\n",
              "      <td>2018 Wigan Metropolitan Borough Council electi...</td>\n",
              "      <td>NaN</td>\n",
              "    </tr>\n",
              "    <tr>\n",
              "      <th>Q106376887</th>\n",
              "      <td>NaN</td>\n",
              "      <td>NaN</td>\n",
              "    </tr>\n",
              "  </tbody>\n",
              "</table>\n",
              "<p>36969 rows × 2 columns</p>\n",
              "</div>"
            ],
            "text/plain": [
              "                                                        Label                                   Description\n",
              "QID                                                                                                        \n",
              "Q31                                                   Belgium                     country in western Europe\n",
              "Q45                                                  Portugal                country in southwestern Europe\n",
              "Q75                                                  Internet  global system of connected computer networks\n",
              "Q148                               People's Republic of China                  sovereign state in East Asia\n",
              "Q155                                                   Brazil                      country in South America\n",
              "...                                                       ...                                           ...\n",
              "Q106302506                                      didgeridooist             musician who plays the didgeridoo\n",
              "Q106341153                               biochemistry teacher          teacher of biochemistry at any level\n",
              "Q106368830  2018 Wigan Metropolitan Borough Council electi...                                           NaN\n",
              "Q106369692  2018 Wigan Metropolitan Borough Council electi...                                           NaN\n",
              "Q106376887                                                NaN                                           NaN\n",
              "\n",
              "[36969 rows x 2 columns]"
            ]
          },
          "execution_count": 2,
          "metadata": {},
          "output_type": "execute_result"
        }
      ]
    },
    {
      "cell_type": "code",
      "metadata": {
        "id": "6ESlBchgmjok"
      },
      "source": [
        "# Process parties of speakers in the parquet file\n",
        "import pandas as pd\n",
        "import numpy as np\n",
        "wikidata_parquet_file='/content/drive/MyDrive/Project datasets/speaker_attributes.parquet'\n",
        "parquet_df = pd.read_parquet(wikidata_parquet_file)\n",
        "parties_df = parquet_df[~(parquet_df.party.isna())]['party']\n",
        "res = parties_df.map(lambda parties: list(map(lambda party: wiki_df['Label'].get(party), parties)))\n",
        "res.explode().value_counts().head(25)\n",
        "\n",
        "# This brieve analysis just give an idea of the parties of the different speakers\n",
        "# We take into account all parties of the speakers and not only their last one,\n",
        "# this make sense as they might have een in a different party when they express their opinion"
      ],
      "execution_count": null,
      "outputs": []
    },
    {
      "cell_type": "code",
      "metadata": {
        "colab": {
          "base_uri": "https://localhost:8080/"
        },
        "id": "3coLa2irgbPe",
        "outputId": "00d3ed31-767a-42e4-ccc3-2f6e4f4825ff"
      },
      "source": [
        "# Create index of parties for authors\n",
        "authors = parquet_df.set_index('id')\n",
        "authors_parties = authors['party']\n",
        "authors_parties = authors_parties[~(authors_parties.isna())]\n",
        "authors_parties"
      ],
      "execution_count": null,
      "outputs": [
        {
          "data": {
            "text/plain": [
              "id\n",
              "Q23            [Q327591]\n",
              "Q207            [Q29468]\n",
              "Q368           [Q327591]\n",
              "Q815          [Q1759368]\n",
              "Q873            [Q29552]\n",
              "                 ...    \n",
              "Q106371401     [Q234277]\n",
              "Q106377030      [Q79854]\n",
              "Q106377068     [Q234277]\n",
              "Q106378203       [Q9630]\n",
              "Q106391184      [Q49768]\n",
              "Name: party, Length: 399176, dtype: object"
            ]
          },
          "execution_count": 7,
          "metadata": {},
          "output_type": "execute_result"
        }
      ]
    },
    {
      "cell_type": "code",
      "metadata": {
        "colab": {
          "base_uri": "https://localhost:8080/"
        },
        "id": "FO18Hr9ieRjw",
        "outputId": "5387e35c-19a9-43cc-f4e2-c727a078d906"
      },
      "source": [
        "speakers_df = data_2019_df['qids'].explode().drop_duplicates()\n",
        "speakers_df = speakers_df[~(speakers_df.isna())]\n",
        "speakers_parties_df = speakers_df.map(lambda s:authors_parties.get(s))\n",
        "speakers_parties_df\n",
        "res = speakers_parties_df.map(lambda parties: None if parties is None else list(map(lambda party: wiki_df['Label'].get(party), parties)))\n",
        "res.explode().value_counts().head(10)\n",
        "\n",
        "# Out of our 243680 quotations only a few authors are linked with a political party\n",
        "# In this quick analyses to showcase our ability to extract parties of authors of a subsets of quotations,\n",
        "# we only took into a single quotation per author but it might be realistic to imagine that some very influencial people\n",
        "# are responsible of a lot of quotations. "
      ],
      "execution_count": null,
      "outputs": [
        {
          "data": {
            "text/plain": [
              "Democratic Party                      1727\n",
              "Republican Party                      1432\n",
              "Labour Party                           406\n",
              "Conservative Party                     324\n",
              "Australian Labor Party                 205\n",
              "Liberal Party of Australia             153\n",
              "Liberal Party of Canada                151\n",
              "independent politician                  98\n",
              "Bharatiya Janata Party                  91\n",
              "Social Democratic Party of Germany      73\n",
              "Name: qids, dtype: int64"
            ]
          },
          "execution_count": 17,
          "metadata": {},
          "output_type": "execute_result"
        }
      ]
    },
    {
      "cell_type": "markdown",
      "metadata": {
        "id": "HmVTVL2LBcsE"
      },
      "source": [
        "## Natural disaster linked with climate change\n",
        "\n",
        "Here is a first analyses to see if we can notice some progress in the quotation by attributing some natural disaster to climate change (between 2015 and 2019).\n",
        "First analysis, just check if natural disaster quotation containing climate change related terms is more frequent in 2019 than in 2015.\n",
        "\n",
        "Idea of further analyses to conduct: instead of comparing directly quotations about natural disasters, see if there is a time relation between climate change and natural disaster and if we can see some peaks about climate change after a natural disaster."
      ]
    },
    {
      "cell_type": "code",
      "metadata": {
        "id": "8PbZPhaaBlSs"
      },
      "source": [
        "import urllib.parse\n",
        "import re\n",
        "import pandas as pd\n",
        "\n",
        "def find_regex(regex, seq):\n",
        "  \"\"\"Return first item in sequence where regex.search(item) == True.\"\"\"\n",
        "  for item in seq:\n",
        "    if regex.search(item): \n",
        "      return True\n",
        "  return False\n",
        "\n",
        "def filter_quotation_chunk_on_keywords(chunk, keywords):\n",
        "  url_keywords={*set(map(lambda x: urllib.parse.quote(x.replace(' ', '-')), keywords)), *set(map(lambda x: urllib.parse.quote(x.replace(' ', '_')), keywords))}\n",
        "  regex_keywords=re.compile('|'.join(keywords),re.IGNORECASE)\n",
        "  regex_url_keywords=re.compile('|'.join(url_keywords),re.IGNORECASE)\n",
        "\n",
        "  # Search keywords in quotation\n",
        "  return chunk[(chunk['quotation'].apply(lambda x: True if regex_keywords.search(x) else False)) | (chunk['urls'].apply(lambda urls: find_regex(regex_url_keywords, urls)))]"
      ],
      "execution_count": null,
      "outputs": []
    },
    {
      "cell_type": "code",
      "metadata": {
        "id": "xmtRKhmPg1IK"
      },
      "source": [
        "keywords=[\"climate\", \"global warming\"]\n",
        "\n",
        "# Calculate for 2015\n",
        "data_natural_disaster = pd.read_json(output_file_natural_disaster_2015, lines=True)\n",
        "total_2015 = data_natural_disaster.count()[0]\n",
        "filtered_2015 = filter_quotation_chunk_on_keywords(data_natural_disaster, keywords).count()[0]\n",
        "\n",
        "# Calculate for 2019\n",
        "data_natural_disaster = pd.read_json(output_file_natural_disaster_2019, lines=True)\n",
        "total_2019 = data_natural_disaster.count()[0]\n",
        "filtered_2019 = filter_quotation_chunk_on_keywords(data_natural_disaster, keywords).count()[0]"
      ],
      "execution_count": null,
      "outputs": []
    },
    {
      "cell_type": "code",
      "metadata": {
        "colab": {
          "base_uri": "https://localhost:8080/"
        },
        "id": "layfJ-DKDMYK",
        "outputId": "56caad31-4c58-4e2d-f55f-0d0c26544de2"
      },
      "source": [
        "# Print results\n",
        "print(f\"2015 --> Total: {total_2015}\\t Climated related: {filtered_2015}\")\n",
        "print(f\"2019 --> Total: {total_2019}\\t Climated related: {filtered_2019}\")\n",
        "print(f\"Proportion 2015 VS 2019: {filtered_2015/total_2015:.2%} vs {filtered_2019/total_2019:.2%}\")"
      ],
      "execution_count": null,
      "outputs": [
        {
          "name": "stdout",
          "output_type": "stream",
          "text": [
            "2015 --> Total: 72528\t Climated related: 4238\n",
            "2019 --> Total: 110597\t Climated related: 7619\n",
            "Proportion 2015 VS 2019: 5.84% vs 6.89%\n"
          ]
        }
      ]
    },
    {
      "cell_type": "markdown",
      "metadata": {
        "id": "e5vIPTN4KR2-"
      },
      "source": [
        "First brieve conclusion, we can see an increase in the number of quotation about climate and natural disaster between 2015 and 2019. Furthermore the proportion of quotation with both topics (natural disaster linked with climate change) has raised from ~5.8% to ~6.8%."
      ]
    },
    {
      "cell_type": "markdown",
      "metadata": {
        "id": "HCy4tckXX8B8"
      },
      "source": [
        "## Sentiment analysis"
      ]
    },
    {
      "cell_type": "markdown",
      "metadata": {
        "id": "FHy_VWJCRKcT"
      },
      "source": [
        "## Filtrage"
      ]
    },
    {
      "cell_type": "code",
      "metadata": {
        "colab": {
          "base_uri": "https://localhost:8080/",
          "height": 380
        },
        "id": "lIkq2ihgX_yL",
        "outputId": "939cdfb1-1bd9-4762-cb0f-3a22a11c6b3f"
      },
      "source": [
        "threshold = 0.65\n",
        "\n",
        "data_2019_df['probas_speaker'] = data_2019_df['probas'].map(lambda x:float(x[0][1]))\n",
        "\n",
        "def real_speaker (row):\n",
        "   a = row['speaker']\n",
        "   if row['probas_speaker'] >= threshold :\n",
        "      return row['speaker']\n",
        "   if row['probas_speaker'] < threshold :\n",
        "      return 'None'\n",
        "   return 'Other'\n",
        "\n",
        "data_2019_df['speaker'] = data_2019_df.apply(lambda row: real_speaker(row), axis=1)\n",
        "data_2019_df.head()"
      ],
      "execution_count": null,
      "outputs": [
        {
          "data": {
            "text/html": [
              "<div>\n",
              "<style scoped>\n",
              "    .dataframe tbody tr th:only-of-type {\n",
              "        vertical-align: middle;\n",
              "    }\n",
              "\n",
              "    .dataframe tbody tr th {\n",
              "        vertical-align: top;\n",
              "    }\n",
              "\n",
              "    .dataframe thead th {\n",
              "        text-align: right;\n",
              "    }\n",
              "</style>\n",
              "<table border=\"1\" class=\"dataframe\">\n",
              "  <thead>\n",
              "    <tr style=\"text-align: right;\">\n",
              "      <th></th>\n",
              "      <th>quoteID</th>\n",
              "      <th>quotation</th>\n",
              "      <th>speaker</th>\n",
              "      <th>qids</th>\n",
              "      <th>date</th>\n",
              "      <th>numOccurrences</th>\n",
              "      <th>probas</th>\n",
              "      <th>urls</th>\n",
              "      <th>phase</th>\n",
              "      <th>probas_speaker</th>\n",
              "    </tr>\n",
              "  </thead>\n",
              "  <tbody>\n",
              "    <tr>\n",
              "      <th>0</th>\n",
              "      <td>2019-11-25-000510</td>\n",
              "      <td>10 years ago, partnerships for sustainability ...</td>\n",
              "      <td>None</td>\n",
              "      <td>[]</td>\n",
              "      <td>2019-11-25 15:53:07</td>\n",
              "      <td>1</td>\n",
              "      <td>[[None, 0.7942], [Steve Jennings, 0.2058]]</td>\n",
              "      <td>[https://sustainablebrands.com/brands/fsc]</td>\n",
              "      <td>E</td>\n",
              "      <td>0.7942</td>\n",
              "    </tr>\n",
              "    <tr>\n",
              "      <th>1</th>\n",
              "      <td>2019-10-11-000663</td>\n",
              "      <td>11:00 o’clock every Friday morning come get ar...</td>\n",
              "      <td>None</td>\n",
              "      <td>[]</td>\n",
              "      <td>2019-10-11 18:50:53</td>\n",
              "      <td>2</td>\n",
              "      <td>[[None, 0.9028], [Jane Fonda, 0.0972]]</td>\n",
              "      <td>[http://breitbart.com/politics/2019/10/11/watc...</td>\n",
              "      <td>E</td>\n",
              "      <td>0.9028</td>\n",
              "    </tr>\n",
              "    <tr>\n",
              "      <th>2</th>\n",
              "      <td>2019-01-22-001304</td>\n",
              "      <td>A Free-Enterprise Solution to Climate Change</td>\n",
              "      <td>Bob Inglis</td>\n",
              "      <td>[Q52696935, Q888008]</td>\n",
              "      <td>2019-01-22 09:04:54</td>\n",
              "      <td>1</td>\n",
              "      <td>[[Bob Inglis, 0.8663], [None, 0.1285], [Peter ...</td>\n",
              "      <td>[https://onwardstate.com/2019/01/22/sustainabi...</td>\n",
              "      <td>E</td>\n",
              "      <td>0.8663</td>\n",
              "    </tr>\n",
              "    <tr>\n",
              "      <th>3</th>\n",
              "      <td>2019-11-27-049616</td>\n",
              "      <td>It sounded impossible at first, but it has tau...</td>\n",
              "      <td>Ron Milo</td>\n",
              "      <td>[Q30504299, Q54113482]</td>\n",
              "      <td>2019-11-27 16:14:15</td>\n",
              "      <td>6</td>\n",
              "      <td>[[Ron Milo, 0.7998], [None, 0.1982], [Tom Beck...</td>\n",
              "      <td>[https://www.miragenews.com/greenest-diet-bact...</td>\n",
              "      <td>E</td>\n",
              "      <td>0.7998</td>\n",
              "    </tr>\n",
              "    <tr>\n",
              "      <th>4</th>\n",
              "      <td>2019-09-13-002852</td>\n",
              "      <td>acutely aware we are in the midst of a climate...</td>\n",
              "      <td>Michael Thomson</td>\n",
              "      <td>[Q16239395, Q23418728, Q6834872, Q6834873]</td>\n",
              "      <td>2019-09-13 00:00:00</td>\n",
              "      <td>1</td>\n",
              "      <td>[[Michael Thomson, 0.6821], [None, 0.2595], [A...</td>\n",
              "      <td>[http://theherald.com.au/story/6383605/univers...</td>\n",
              "      <td>E</td>\n",
              "      <td>0.6821</td>\n",
              "    </tr>\n",
              "  </tbody>\n",
              "</table>\n",
              "</div>"
            ],
            "text/plain": [
              "             quoteID  ... probas_speaker\n",
              "0  2019-11-25-000510  ...         0.7942\n",
              "1  2019-10-11-000663  ...         0.9028\n",
              "2  2019-01-22-001304  ...         0.8663\n",
              "3  2019-11-27-049616  ...         0.7998\n",
              "4  2019-09-13-002852  ...         0.6821\n",
              "\n",
              "[5 rows x 10 columns]"
            ]
          },
          "execution_count": 7,
          "metadata": {},
          "output_type": "execute_result"
        }
      ]
    },
    {
      "cell_type": "markdown",
      "metadata": {
        "id": "DSxg3zOCrlZk"
      },
      "source": [
        "## Sentiment analysis\n",
        "Here are some preliminaries trials to see if sentiment analysis is can run in a realistically time."
      ]
    },
    {
      "cell_type": "code",
      "metadata": {
        "colab": {
          "base_uri": "https://localhost:8080/"
        },
        "id": "aaPgfc7xSHGB",
        "outputId": "6847320e-4016-4072-8642-69b9d1b58920"
      },
      "source": [
        "!pip install vaderSentiment\n",
        "!pip install -U pip setuptools wheel\n",
        "!pip install -U spacy\n",
        "!python -m spacy download en_core_web_sm\n",
        "!pip install empath\n",
        "!pip install textblob"
      ],
      "execution_count": null,
      "outputs": [
        {
          "name": "stdout",
          "output_type": "stream",
          "text": [
            "Requirement already satisfied: vaderSentiment in /usr/local/lib/python3.7/dist-packages (3.3.2)\n",
            "Requirement already satisfied: requests in /usr/local/lib/python3.7/dist-packages (from vaderSentiment) (2.23.0)\n",
            "Requirement already satisfied: idna<3,>=2.5 in /usr/local/lib/python3.7/dist-packages (from requests->vaderSentiment) (2.10)\n",
            "Requirement already satisfied: certifi>=2017.4.17 in /usr/local/lib/python3.7/dist-packages (from requests->vaderSentiment) (2021.10.8)\n",
            "Requirement already satisfied: urllib3!=1.25.0,!=1.25.1,<1.26,>=1.21.1 in /usr/local/lib/python3.7/dist-packages (from requests->vaderSentiment) (1.24.3)\n",
            "Requirement already satisfied: chardet<4,>=3.0.2 in /usr/local/lib/python3.7/dist-packages (from requests->vaderSentiment) (3.0.4)\n",
            "\u001b[33mWARNING: Running pip as the 'root' user can result in broken permissions and conflicting behaviour with the system package manager. It is recommended to use a virtual environment instead: https://pip.pypa.io/warnings/venv\u001b[0m\n",
            "Requirement already satisfied: pip in /usr/local/lib/python3.7/dist-packages (21.3.1)\n",
            "Requirement already satisfied: setuptools in /usr/local/lib/python3.7/dist-packages (58.5.3)\n",
            "Requirement already satisfied: wheel in /usr/local/lib/python3.7/dist-packages (0.37.0)\n",
            "\u001b[33mWARNING: Running pip as the 'root' user can result in broken permissions and conflicting behaviour with the system package manager. It is recommended to use a virtual environment instead: https://pip.pypa.io/warnings/venv\u001b[0m\n",
            "Requirement already satisfied: spacy in /usr/local/lib/python3.7/dist-packages (3.2.0)\n",
            "Requirement already satisfied: pydantic!=1.8,!=1.8.1,<1.9.0,>=1.7.4 in /usr/local/lib/python3.7/dist-packages (from spacy) (1.8.2)\n",
            "Requirement already satisfied: srsly<3.0.0,>=2.4.1 in /usr/local/lib/python3.7/dist-packages (from spacy) (2.4.2)\n",
            "Requirement already satisfied: numpy>=1.15.0 in /usr/local/lib/python3.7/dist-packages (from spacy) (1.19.5)\n",
            "Requirement already satisfied: spacy-loggers<2.0.0,>=1.0.0 in /usr/local/lib/python3.7/dist-packages (from spacy) (1.0.1)\n",
            "Requirement already satisfied: murmurhash<1.1.0,>=0.28.0 in /usr/local/lib/python3.7/dist-packages (from spacy) (1.0.6)\n",
            "Requirement already satisfied: typing-extensions<4.0.0.0,>=3.7.4 in /usr/local/lib/python3.7/dist-packages (from spacy) (3.10.0.2)\n",
            "Requirement already satisfied: typer<0.5.0,>=0.3.0 in /usr/local/lib/python3.7/dist-packages (from spacy) (0.4.0)\n",
            "Requirement already satisfied: wasabi<1.1.0,>=0.8.1 in /usr/local/lib/python3.7/dist-packages (from spacy) (0.8.2)\n",
            "Requirement already satisfied: spacy-legacy<3.1.0,>=3.0.8 in /usr/local/lib/python3.7/dist-packages (from spacy) (3.0.8)\n",
            "Requirement already satisfied: requests<3.0.0,>=2.13.0 in /usr/local/lib/python3.7/dist-packages (from spacy) (2.23.0)\n",
            "Requirement already satisfied: jinja2 in /usr/local/lib/python3.7/dist-packages (from spacy) (2.11.3)\n",
            "Requirement already satisfied: pathy>=0.3.5 in /usr/local/lib/python3.7/dist-packages (from spacy) (0.6.1)\n",
            "Requirement already satisfied: tqdm<5.0.0,>=4.38.0 in /usr/local/lib/python3.7/dist-packages (from spacy) (4.62.3)\n",
            "Requirement already satisfied: preshed<3.1.0,>=3.0.2 in /usr/local/lib/python3.7/dist-packages (from spacy) (3.0.6)\n",
            "Requirement already satisfied: packaging>=20.0 in /usr/local/lib/python3.7/dist-packages (from spacy) (21.2)\n",
            "Requirement already satisfied: catalogue<2.1.0,>=2.0.6 in /usr/local/lib/python3.7/dist-packages (from spacy) (2.0.6)\n",
            "Requirement already satisfied: blis<0.8.0,>=0.4.0 in /usr/local/lib/python3.7/dist-packages (from spacy) (0.4.1)\n",
            "Requirement already satisfied: cymem<2.1.0,>=2.0.2 in /usr/local/lib/python3.7/dist-packages (from spacy) (2.0.6)\n",
            "Requirement already satisfied: thinc<8.1.0,>=8.0.12 in /usr/local/lib/python3.7/dist-packages (from spacy) (8.0.13)\n",
            "Requirement already satisfied: setuptools in /usr/local/lib/python3.7/dist-packages (from spacy) (58.5.3)\n",
            "Requirement already satisfied: langcodes<4.0.0,>=3.2.0 in /usr/local/lib/python3.7/dist-packages (from spacy) (3.3.0)\n",
            "Requirement already satisfied: zipp>=0.5 in /usr/local/lib/python3.7/dist-packages (from catalogue<2.1.0,>=2.0.6->spacy) (3.6.0)\n",
            "Requirement already satisfied: pyparsing<3,>=2.0.2 in /usr/local/lib/python3.7/dist-packages (from packaging>=20.0->spacy) (2.4.7)\n",
            "Requirement already satisfied: smart-open<6.0.0,>=5.0.0 in /usr/local/lib/python3.7/dist-packages (from pathy>=0.3.5->spacy) (5.2.1)\n",
            "Requirement already satisfied: chardet<4,>=3.0.2 in /usr/local/lib/python3.7/dist-packages (from requests<3.0.0,>=2.13.0->spacy) (3.0.4)\n",
            "Requirement already satisfied: urllib3!=1.25.0,!=1.25.1,<1.26,>=1.21.1 in /usr/local/lib/python3.7/dist-packages (from requests<3.0.0,>=2.13.0->spacy) (1.24.3)\n",
            "Requirement already satisfied: certifi>=2017.4.17 in /usr/local/lib/python3.7/dist-packages (from requests<3.0.0,>=2.13.0->spacy) (2021.10.8)\n",
            "Requirement already satisfied: idna<3,>=2.5 in /usr/local/lib/python3.7/dist-packages (from requests<3.0.0,>=2.13.0->spacy) (2.10)\n",
            "Requirement already satisfied: click<9.0.0,>=7.1.1 in /usr/local/lib/python3.7/dist-packages (from typer<0.5.0,>=0.3.0->spacy) (7.1.2)\n",
            "Requirement already satisfied: MarkupSafe>=0.23 in /usr/local/lib/python3.7/dist-packages (from jinja2->spacy) (2.0.1)\n",
            "\u001b[33mWARNING: Running pip as the 'root' user can result in broken permissions and conflicting behaviour with the system package manager. It is recommended to use a virtual environment instead: https://pip.pypa.io/warnings/venv\u001b[0m\n",
            "Collecting en-core-web-sm==3.2.0\n",
            "  Downloading https://github.com/explosion/spacy-models/releases/download/en_core_web_sm-3.2.0/en_core_web_sm-3.2.0-py3-none-any.whl (13.9 MB)\n",
            "     |████████████████████████████████| 13.9 MB 91 kB/s             \n",
            "\u001b[?25hRequirement already satisfied: spacy<3.3.0,>=3.2.0 in /usr/local/lib/python3.7/dist-packages (from en-core-web-sm==3.2.0) (3.2.0)\n",
            "Requirement already satisfied: typing-extensions<4.0.0.0,>=3.7.4 in /usr/local/lib/python3.7/dist-packages (from spacy<3.3.0,>=3.2.0->en-core-web-sm==3.2.0) (3.10.0.2)\n",
            "Requirement already satisfied: blis<0.8.0,>=0.4.0 in /usr/local/lib/python3.7/dist-packages (from spacy<3.3.0,>=3.2.0->en-core-web-sm==3.2.0) (0.4.1)\n",
            "Requirement already satisfied: preshed<3.1.0,>=3.0.2 in /usr/local/lib/python3.7/dist-packages (from spacy<3.3.0,>=3.2.0->en-core-web-sm==3.2.0) (3.0.6)\n",
            "Requirement already satisfied: cymem<2.1.0,>=2.0.2 in /usr/local/lib/python3.7/dist-packages (from spacy<3.3.0,>=3.2.0->en-core-web-sm==3.2.0) (2.0.6)\n",
            "Requirement already satisfied: tqdm<5.0.0,>=4.38.0 in /usr/local/lib/python3.7/dist-packages (from spacy<3.3.0,>=3.2.0->en-core-web-sm==3.2.0) (4.62.3)\n",
            "Requirement already satisfied: catalogue<2.1.0,>=2.0.6 in /usr/local/lib/python3.7/dist-packages (from spacy<3.3.0,>=3.2.0->en-core-web-sm==3.2.0) (2.0.6)\n",
            "Requirement already satisfied: wasabi<1.1.0,>=0.8.1 in /usr/local/lib/python3.7/dist-packages (from spacy<3.3.0,>=3.2.0->en-core-web-sm==3.2.0) (0.8.2)\n",
            "Requirement already satisfied: pathy>=0.3.5 in /usr/local/lib/python3.7/dist-packages (from spacy<3.3.0,>=3.2.0->en-core-web-sm==3.2.0) (0.6.1)\n",
            "Requirement already satisfied: numpy>=1.15.0 in /usr/local/lib/python3.7/dist-packages (from spacy<3.3.0,>=3.2.0->en-core-web-sm==3.2.0) (1.19.5)\n",
            "Requirement already satisfied: pydantic!=1.8,!=1.8.1,<1.9.0,>=1.7.4 in /usr/local/lib/python3.7/dist-packages (from spacy<3.3.0,>=3.2.0->en-core-web-sm==3.2.0) (1.8.2)\n",
            "Requirement already satisfied: spacy-loggers<2.0.0,>=1.0.0 in /usr/local/lib/python3.7/dist-packages (from spacy<3.3.0,>=3.2.0->en-core-web-sm==3.2.0) (1.0.1)\n",
            "Requirement already satisfied: typer<0.5.0,>=0.3.0 in /usr/local/lib/python3.7/dist-packages (from spacy<3.3.0,>=3.2.0->en-core-web-sm==3.2.0) (0.4.0)\n",
            "Requirement already satisfied: srsly<3.0.0,>=2.4.1 in /usr/local/lib/python3.7/dist-packages (from spacy<3.3.0,>=3.2.0->en-core-web-sm==3.2.0) (2.4.2)\n",
            "Requirement already satisfied: thinc<8.1.0,>=8.0.12 in /usr/local/lib/python3.7/dist-packages (from spacy<3.3.0,>=3.2.0->en-core-web-sm==3.2.0) (8.0.13)\n",
            "Requirement already satisfied: jinja2 in /usr/local/lib/python3.7/dist-packages (from spacy<3.3.0,>=3.2.0->en-core-web-sm==3.2.0) (2.11.3)\n",
            "Requirement already satisfied: setuptools in /usr/local/lib/python3.7/dist-packages (from spacy<3.3.0,>=3.2.0->en-core-web-sm==3.2.0) (58.5.3)\n",
            "Requirement already satisfied: packaging>=20.0 in /usr/local/lib/python3.7/dist-packages (from spacy<3.3.0,>=3.2.0->en-core-web-sm==3.2.0) (21.2)\n",
            "Requirement already satisfied: langcodes<4.0.0,>=3.2.0 in /usr/local/lib/python3.7/dist-packages (from spacy<3.3.0,>=3.2.0->en-core-web-sm==3.2.0) (3.3.0)\n",
            "Requirement already satisfied: spacy-legacy<3.1.0,>=3.0.8 in /usr/local/lib/python3.7/dist-packages (from spacy<3.3.0,>=3.2.0->en-core-web-sm==3.2.0) (3.0.8)\n",
            "Requirement already satisfied: murmurhash<1.1.0,>=0.28.0 in /usr/local/lib/python3.7/dist-packages (from spacy<3.3.0,>=3.2.0->en-core-web-sm==3.2.0) (1.0.6)\n",
            "Requirement already satisfied: requests<3.0.0,>=2.13.0 in /usr/local/lib/python3.7/dist-packages (from spacy<3.3.0,>=3.2.0->en-core-web-sm==3.2.0) (2.23.0)\n",
            "Requirement already satisfied: zipp>=0.5 in /usr/local/lib/python3.7/dist-packages (from catalogue<2.1.0,>=2.0.6->spacy<3.3.0,>=3.2.0->en-core-web-sm==3.2.0) (3.6.0)\n",
            "Requirement already satisfied: pyparsing<3,>=2.0.2 in /usr/local/lib/python3.7/dist-packages (from packaging>=20.0->spacy<3.3.0,>=3.2.0->en-core-web-sm==3.2.0) (2.4.7)\n",
            "Requirement already satisfied: smart-open<6.0.0,>=5.0.0 in /usr/local/lib/python3.7/dist-packages (from pathy>=0.3.5->spacy<3.3.0,>=3.2.0->en-core-web-sm==3.2.0) (5.2.1)\n",
            "Requirement already satisfied: urllib3!=1.25.0,!=1.25.1,<1.26,>=1.21.1 in /usr/local/lib/python3.7/dist-packages (from requests<3.0.0,>=2.13.0->spacy<3.3.0,>=3.2.0->en-core-web-sm==3.2.0) (1.24.3)\n",
            "Requirement already satisfied: certifi>=2017.4.17 in /usr/local/lib/python3.7/dist-packages (from requests<3.0.0,>=2.13.0->spacy<3.3.0,>=3.2.0->en-core-web-sm==3.2.0) (2021.10.8)\n",
            "Requirement already satisfied: chardet<4,>=3.0.2 in /usr/local/lib/python3.7/dist-packages (from requests<3.0.0,>=2.13.0->spacy<3.3.0,>=3.2.0->en-core-web-sm==3.2.0) (3.0.4)\n",
            "Requirement already satisfied: idna<3,>=2.5 in /usr/local/lib/python3.7/dist-packages (from requests<3.0.0,>=2.13.0->spacy<3.3.0,>=3.2.0->en-core-web-sm==3.2.0) (2.10)\n",
            "Requirement already satisfied: click<9.0.0,>=7.1.1 in /usr/local/lib/python3.7/dist-packages (from typer<0.5.0,>=0.3.0->spacy<3.3.0,>=3.2.0->en-core-web-sm==3.2.0) (7.1.2)\n",
            "Requirement already satisfied: MarkupSafe>=0.23 in /usr/local/lib/python3.7/dist-packages (from jinja2->spacy<3.3.0,>=3.2.0->en-core-web-sm==3.2.0) (2.0.1)\n",
            "\u001b[33mWARNING: Running pip as the 'root' user can result in broken permissions and conflicting behaviour with the system package manager. It is recommended to use a virtual environment instead: https://pip.pypa.io/warnings/venv\u001b[0m\n",
            "\u001b[38;5;2m✔ Download and installation successful\u001b[0m\n",
            "You can now load the package via spacy.load('en_core_web_sm')\n",
            "Requirement already satisfied: empath in /usr/local/lib/python3.7/dist-packages (0.89)\n",
            "Requirement already satisfied: requests in /usr/local/lib/python3.7/dist-packages (from empath) (2.23.0)\n",
            "Requirement already satisfied: idna<3,>=2.5 in /usr/local/lib/python3.7/dist-packages (from requests->empath) (2.10)\n",
            "Requirement already satisfied: chardet<4,>=3.0.2 in /usr/local/lib/python3.7/dist-packages (from requests->empath) (3.0.4)\n",
            "Requirement already satisfied: urllib3!=1.25.0,!=1.25.1,<1.26,>=1.21.1 in /usr/local/lib/python3.7/dist-packages (from requests->empath) (1.24.3)\n",
            "Requirement already satisfied: certifi>=2017.4.17 in /usr/local/lib/python3.7/dist-packages (from requests->empath) (2021.10.8)\n",
            "\u001b[33mWARNING: Running pip as the 'root' user can result in broken permissions and conflicting behaviour with the system package manager. It is recommended to use a virtual environment instead: https://pip.pypa.io/warnings/venv\u001b[0m\n",
            "Requirement already satisfied: textblob in /usr/local/lib/python3.7/dist-packages (0.15.3)\n",
            "Requirement already satisfied: nltk>=3.1 in /usr/local/lib/python3.7/dist-packages (from textblob) (3.2.5)\n",
            "Requirement already satisfied: six in /usr/local/lib/python3.7/dist-packages (from nltk>=3.1->textblob) (1.15.0)\n",
            "\u001b[33mWARNING: Running pip as the 'root' user can result in broken permissions and conflicting behaviour with the system package manager. It is recommended to use a virtual environment instead: https://pip.pypa.io/warnings/venv\u001b[0m\n",
            "Requirement already satisfied: textblob in /usr/local/lib/python3.7/dist-packages (0.15.3)\n",
            "Requirement already satisfied: nltk>=3.1 in /usr/local/lib/python3.7/dist-packages (from textblob) (3.2.5)\n",
            "Requirement already satisfied: six in /usr/local/lib/python3.7/dist-packages (from nltk>=3.1->textblob) (1.15.0)\n",
            "\u001b[33mWARNING: Running pip as the 'root' user can result in broken permissions and conflicting behaviour with the system package manager. It is recommended to use a virtual environment instead: https://pip.pypa.io/warnings/venv\u001b[0m\n"
          ]
        }
      ]
    },
    {
      "cell_type": "code",
      "metadata": {
        "id": "FdpUxp0ySbbX"
      },
      "source": [
        "import vaderSentiment\n",
        "import matplotlib.pyplot as plt\n",
        "import spacy\n",
        "from vaderSentiment.vaderSentiment import SentimentIntensityAnalyzer\n",
        "\n",
        "analyzer = SentimentIntensityAnalyzer()"
      ],
      "execution_count": null,
      "outputs": []
    },
    {
      "cell_type": "code",
      "metadata": {
        "colab": {
          "base_uri": "https://localhost:8080/",
          "height": 623
        },
        "id": "PDmEOZQxSj_q",
        "outputId": "94301d7d-3467-48df-e6b1-def321051999"
      },
      "source": [
        "#quote = data_2019_df['quotation']\n",
        "data_2019_df['analysis'] = data_2019_df['quotation'].map(lambda x:analyzer.polarity_scores(x))\n",
        "data_2019_df['pos'] = data_2019_df['analysis'].map(lambda x:x['pos'])\n",
        "data_2019_df['neu'] = data_2019_df['analysis'].map(lambda x:x['neu'])\n",
        "data_2019_df['neg'] = data_2019_df['analysis'].map(lambda x:x['neg'])\n",
        "data_2019_df['month-day'] = data_2019_df['date'].map(lambda x:str(x)[5:10])\n",
        "data_2019_df['month'] = data_2019_df['date'].map(lambda x:str(x)[5:7])\n",
        "data_2019_df.head()"
      ],
      "execution_count": null,
      "outputs": [
        {
          "data": {
            "text/html": [
              "<div>\n",
              "<style scoped>\n",
              "    .dataframe tbody tr th:only-of-type {\n",
              "        vertical-align: middle;\n",
              "    }\n",
              "\n",
              "    .dataframe tbody tr th {\n",
              "        vertical-align: top;\n",
              "    }\n",
              "\n",
              "    .dataframe thead th {\n",
              "        text-align: right;\n",
              "    }\n",
              "</style>\n",
              "<table border=\"1\" class=\"dataframe\">\n",
              "  <thead>\n",
              "    <tr style=\"text-align: right;\">\n",
              "      <th></th>\n",
              "      <th>quoteID</th>\n",
              "      <th>quotation</th>\n",
              "      <th>speaker</th>\n",
              "      <th>qids</th>\n",
              "      <th>date</th>\n",
              "      <th>numOccurrences</th>\n",
              "      <th>probas</th>\n",
              "      <th>urls</th>\n",
              "      <th>phase</th>\n",
              "      <th>probas_speaker</th>\n",
              "      <th>pos</th>\n",
              "      <th>neu</th>\n",
              "      <th>neg</th>\n",
              "      <th>month-day</th>\n",
              "      <th>month</th>\n",
              "    </tr>\n",
              "  </thead>\n",
              "  <tbody>\n",
              "    <tr>\n",
              "      <th>0</th>\n",
              "      <td>2019-11-25-000510</td>\n",
              "      <td>10 years ago, partnerships for sustainability ...</td>\n",
              "      <td>None</td>\n",
              "      <td>[]</td>\n",
              "      <td>2019-11-25 15:53:07</td>\n",
              "      <td>1</td>\n",
              "      <td>[[None, 0.7942], [Steve Jennings, 0.2058]]</td>\n",
              "      <td>[https://sustainablebrands.com/brands/fsc]</td>\n",
              "      <td>E</td>\n",
              "      <td>0.7942</td>\n",
              "      <td>0.000</td>\n",
              "      <td>1.000</td>\n",
              "      <td>0.000</td>\n",
              "      <td>11-25</td>\n",
              "      <td>11</td>\n",
              "    </tr>\n",
              "    <tr>\n",
              "      <th>1</th>\n",
              "      <td>2019-10-11-000663</td>\n",
              "      <td>11:00 o’clock every Friday morning come get ar...</td>\n",
              "      <td>None</td>\n",
              "      <td>[]</td>\n",
              "      <td>2019-10-11 18:50:53</td>\n",
              "      <td>2</td>\n",
              "      <td>[[None, 0.9028], [Jane Fonda, 0.0972]]</td>\n",
              "      <td>[http://breitbart.com/politics/2019/10/11/watc...</td>\n",
              "      <td>E</td>\n",
              "      <td>0.9028</td>\n",
              "      <td>0.000</td>\n",
              "      <td>0.782</td>\n",
              "      <td>0.218</td>\n",
              "      <td>10-11</td>\n",
              "      <td>10</td>\n",
              "    </tr>\n",
              "    <tr>\n",
              "      <th>2</th>\n",
              "      <td>2019-01-22-001304</td>\n",
              "      <td>A Free-Enterprise Solution to Climate Change</td>\n",
              "      <td>Bob Inglis</td>\n",
              "      <td>[Q52696935, Q888008]</td>\n",
              "      <td>2019-01-22 09:04:54</td>\n",
              "      <td>1</td>\n",
              "      <td>[[Bob Inglis, 0.8663], [None, 0.1285], [Peter ...</td>\n",
              "      <td>[https://onwardstate.com/2019/01/22/sustainabi...</td>\n",
              "      <td>E</td>\n",
              "      <td>0.8663</td>\n",
              "      <td>0.315</td>\n",
              "      <td>0.685</td>\n",
              "      <td>0.000</td>\n",
              "      <td>01-22</td>\n",
              "      <td>01</td>\n",
              "    </tr>\n",
              "    <tr>\n",
              "      <th>3</th>\n",
              "      <td>2019-11-27-049616</td>\n",
              "      <td>It sounded impossible at first, but it has tau...</td>\n",
              "      <td>Ron Milo</td>\n",
              "      <td>[Q30504299, Q54113482]</td>\n",
              "      <td>2019-11-27 16:14:15</td>\n",
              "      <td>6</td>\n",
              "      <td>[[Ron Milo, 0.7998], [None, 0.1982], [Tom Beck...</td>\n",
              "      <td>[https://www.miragenews.com/greenest-diet-bact...</td>\n",
              "      <td>E</td>\n",
              "      <td>0.7998</td>\n",
              "      <td>0.134</td>\n",
              "      <td>0.866</td>\n",
              "      <td>0.000</td>\n",
              "      <td>11-27</td>\n",
              "      <td>11</td>\n",
              "    </tr>\n",
              "    <tr>\n",
              "      <th>4</th>\n",
              "      <td>2019-09-13-002852</td>\n",
              "      <td>acutely aware we are in the midst of a climate...</td>\n",
              "      <td>Michael Thomson</td>\n",
              "      <td>[Q16239395, Q23418728, Q6834872, Q6834873]</td>\n",
              "      <td>2019-09-13 00:00:00</td>\n",
              "      <td>1</td>\n",
              "      <td>[[Michael Thomson, 0.6821], [None, 0.2595], [A...</td>\n",
              "      <td>[http://theherald.com.au/story/6383605/univers...</td>\n",
              "      <td>E</td>\n",
              "      <td>0.6821</td>\n",
              "      <td>0.000</td>\n",
              "      <td>0.794</td>\n",
              "      <td>0.206</td>\n",
              "      <td>09-13</td>\n",
              "      <td>09</td>\n",
              "    </tr>\n",
              "  </tbody>\n",
              "</table>\n",
              "</div>"
            ],
            "text/plain": [
              "             quoteID  ... month\n",
              "0  2019-11-25-000510  ...    11\n",
              "1  2019-10-11-000663  ...    10\n",
              "2  2019-01-22-001304  ...    01\n",
              "3  2019-11-27-049616  ...    11\n",
              "4  2019-09-13-002852  ...    09\n",
              "\n",
              "[5 rows x 15 columns]"
            ]
          },
          "execution_count": 10,
          "metadata": {},
          "output_type": "execute_result"
        }
      ]
    },
    {
      "cell_type": "code",
      "metadata": {
        "colab": {
          "base_uri": "https://localhost:8080/",
          "height": 279
        },
        "id": "0Ya1-_ahSozX",
        "outputId": "98b9e0e4-20a6-4b05-cc08-a547f1ce253e"
      },
      "source": [
        "data_month_day = data_2019_df.groupby(['month-day']).mean()\n",
        "data_month_day[['pos', 'neg']].plot();"
      ],
      "execution_count": null,
      "outputs": [
        {
          "data": {
            "image/png": "[encoded data removed]",
            "text/plain": [
              "<Figure size 432x288 with 1 Axes>"
            ]
          },
          "metadata": {},
          "output_type": "display_data"
        }
      ]
    },
    {
      "cell_type": "code",
      "metadata": {
        "colab": {
          "base_uri": "https://localhost:8080/",
          "height": 279
        },
        "id": "GRaaGI_rS3cg",
        "outputId": "7f588559-7165-4858-8c7b-0984ddc04861"
      },
      "source": [
        "import seaborn as sns\n",
        "\n",
        "data_2019_df = data_2019_df.sort_values(by=['month-day'])\n",
        "ax = sns.boxplot(x=\"month\", y=\"pos\", data=data_2019_df.loc[data_2019_df['month'].isin(['01','02','04','05','06','07','08','09','10','11','12'])])"
      ],
      "execution_count": null,
      "outputs": [
        {
          "data": {
            "image/png": "[encoded data removed]",
            "text/plain": [
              "<Figure size 432x288 with 1 Axes>"
            ]
          },
          "metadata": {},
          "output_type": "display_data"
        }
      ]
    },
    {
      "cell_type": "code",
      "metadata": {
        "colab": {
          "base_uri": "https://localhost:8080/",
          "height": 279
        },
        "id": "OFejFGpQS_e8",
        "outputId": "d490f5be-83f8-4427-a5c2-d6285c6f4030"
      },
      "source": [
        "#ax = sns.boxplot(x=\"month\", y=\"pos\", data=data.loc[data['month'].isin(['01','02','04','05','06','07','08','09','10','11','12'])])\n",
        "data_month = data_2019_df.groupby(['month']).mean()\n",
        "data_month[['pos', 'neg']].plot();"
      ],
      "execution_count": null,
      "outputs": [
        {
          "data": {
            "image/png": "[encoded data removed]",
            "text/plain": [
              "<Figure size 432x288 with 1 Axes>"
            ]
          },
          "metadata": {},
          "output_type": "display_data"
        }
      ]
    },
    {
      "cell_type": "code",
      "metadata": {
        "colab": {
          "base_uri": "https://localhost:8080/",
          "height": 643
        },
        "id": "haOXpw8WTr4j",
        "outputId": "0c0041e4-168e-4d38-c578-b7c0c361ee0e"
      },
      "source": [
        "from textblob import TextBlob\n",
        "data_2019_df['subjectivity'] = data_2019_df['quotation'].map(lambda x:TextBlob(x).sentiment.subjectivity)\n",
        "data_2019_df.head()"
      ],
      "execution_count": null,
      "outputs": [
        {
          "data": {
            "text/html": [
              "<div>\n",
              "<style scoped>\n",
              "    .dataframe tbody tr th:only-of-type {\n",
              "        vertical-align: middle;\n",
              "    }\n",
              "\n",
              "    .dataframe tbody tr th {\n",
              "        vertical-align: top;\n",
              "    }\n",
              "\n",
              "    .dataframe thead th {\n",
              "        text-align: right;\n",
              "    }\n",
              "</style>\n",
              "<table border=\"1\" class=\"dataframe\">\n",
              "  <thead>\n",
              "    <tr style=\"text-align: right;\">\n",
              "      <th></th>\n",
              "      <th>quoteID</th>\n",
              "      <th>quotation</th>\n",
              "      <th>speaker</th>\n",
              "      <th>qids</th>\n",
              "      <th>date</th>\n",
              "      <th>numOccurrences</th>\n",
              "      <th>probas</th>\n",
              "      <th>urls</th>\n",
              "      <th>phase</th>\n",
              "      <th>probas_speaker</th>\n",
              "      <th>pos</th>\n",
              "      <th>neu</th>\n",
              "      <th>neg</th>\n",
              "      <th>month-day</th>\n",
              "      <th>month</th>\n",
              "      <th>subjectivity</th>\n",
              "    </tr>\n",
              "  </thead>\n",
              "  <tbody>\n",
              "    <tr>\n",
              "      <th>229880</th>\n",
              "      <td>2019-01-01-028877</td>\n",
              "      <td>Oh, my gosh. I wish I knew. I wish a had a goo...</td>\n",
              "      <td>Kate Marvel</td>\n",
              "      <td>[Q55640226]</td>\n",
              "      <td>2019-01-01 11:06:06</td>\n",
              "      <td>1</td>\n",
              "      <td>[[Kate Marvel, 0.7528], [None, 0.1391], [Chuck...</td>\n",
              "      <td>[https://blogs.timesofisrael.com/we-have-30-mo...</td>\n",
              "      <td>E</td>\n",
              "      <td>0.7528</td>\n",
              "      <td>0.196</td>\n",
              "      <td>0.786</td>\n",
              "      <td>0.018</td>\n",
              "      <td>01-01</td>\n",
              "      <td>01</td>\n",
              "      <td>0.650000</td>\n",
              "    </tr>\n",
              "    <tr>\n",
              "      <th>8016</th>\n",
              "      <td>2019-01-01-030244</td>\n",
              "      <td>People are being affected directly by these ev...</td>\n",
              "      <td>Jennifer Francis</td>\n",
              "      <td>[Q16729075, Q47541840]</td>\n",
              "      <td>2019-01-01 06:08:40</td>\n",
              "      <td>1</td>\n",
              "      <td>[[Jennifer Francis, 0.9601], [None, 0.0399]]</td>\n",
              "      <td>[http://www.journalgazette.net/news/science/20...</td>\n",
              "      <td>E</td>\n",
              "      <td>0.9601</td>\n",
              "      <td>0.161</td>\n",
              "      <td>0.758</td>\n",
              "      <td>0.082</td>\n",
              "      <td>01-01</td>\n",
              "      <td>01</td>\n",
              "      <td>0.554444</td>\n",
              "    </tr>\n",
              "    <tr>\n",
              "      <th>69903</th>\n",
              "      <td>2019-01-01-036715</td>\n",
              "      <td>the greatest threat to the international rule ...</td>\n",
              "      <td>Jeffrey Sachs</td>\n",
              "      <td>[Q319189]</td>\n",
              "      <td>2019-01-01 14:06:12</td>\n",
              "      <td>2</td>\n",
              "      <td>[[Jeffrey Sachs, 0.849], [None, 0.107], [Donal...</td>\n",
              "      <td>[http://www.scmp.com/news/china/diplomacy/arti...</td>\n",
              "      <td>E</td>\n",
              "      <td>0.8490</td>\n",
              "      <td>0.288</td>\n",
              "      <td>0.479</td>\n",
              "      <td>0.233</td>\n",
              "      <td>01-01</td>\n",
              "      <td>01</td>\n",
              "      <td>0.500000</td>\n",
              "    </tr>\n",
              "    <tr>\n",
              "      <th>188354</th>\n",
              "      <td>2019-01-01-036074</td>\n",
              "      <td>The diplomats have read the science and know t...</td>\n",
              "      <td>Jeffrey Sachs</td>\n",
              "      <td>[Q319189]</td>\n",
              "      <td>2019-01-01 14:29:30</td>\n",
              "      <td>1</td>\n",
              "      <td>[[Jeffrey Sachs, 0.9006], [None, 0.0994]]</td>\n",
              "      <td>[http://yaleglobal.yale.edu/content/project-sy...</td>\n",
              "      <td>E</td>\n",
              "      <td>0.9006</td>\n",
              "      <td>0.131</td>\n",
              "      <td>0.712</td>\n",
              "      <td>0.157</td>\n",
              "      <td>01-01</td>\n",
              "      <td>01</td>\n",
              "      <td>0.000000</td>\n",
              "    </tr>\n",
              "    <tr>\n",
              "      <th>235110</th>\n",
              "      <td>2019-01-01-026973</td>\n",
              "      <td>Moving ahead, I think the financial sector has...</td>\n",
              "      <td>Uday Kotak</td>\n",
              "      <td>[Q7876966]</td>\n",
              "      <td>2019-01-01 17:14:48</td>\n",
              "      <td>2</td>\n",
              "      <td>[[Uday Kotak, 0.8737], [None, 0.1263]]</td>\n",
              "      <td>[https://www.moneycontrol.com/news/business/nb...</td>\n",
              "      <td>E</td>\n",
              "      <td>0.8737</td>\n",
              "      <td>0.146</td>\n",
              "      <td>0.810</td>\n",
              "      <td>0.044</td>\n",
              "      <td>01-01</td>\n",
              "      <td>01</td>\n",
              "      <td>0.211111</td>\n",
              "    </tr>\n",
              "  </tbody>\n",
              "</table>\n",
              "</div>"
            ],
            "text/plain": [
              "                  quoteID  ... subjectivity\n",
              "229880  2019-01-01-028877  ...     0.650000\n",
              "8016    2019-01-01-030244  ...     0.554444\n",
              "69903   2019-01-01-036715  ...     0.500000\n",
              "188354  2019-01-01-036074  ...     0.000000\n",
              "235110  2019-01-01-026973  ...     0.211111\n",
              "\n",
              "[5 rows x 16 columns]"
            ]
          },
          "execution_count": 24,
          "metadata": {},
          "output_type": "execute_result"
        }
      ]
    },
    {
      "cell_type": "code",
      "metadata": {
        "id": "-aWN5HWuUxZV"
      },
      "source": [
        "from empath import Empath\n",
        "lexicon = Empath()"
      ],
      "execution_count": null,
      "outputs": []
    },
    {
      "cell_type": "code",
      "metadata": {
        "id": "2Ig5JhsnU00e"
      },
      "source": [
        "nlp = spacy.load('en_core_web_sm')\n",
        "doc = 'We live in a climate where everything will be used against us, whether by the fake news or by democrats who are only interested in Presidential harassment and wasting everyones time, barraging us with nonsense letters,'"
      ],
      "execution_count": null,
      "outputs": []
    },
    {
      "cell_type": "code",
      "metadata": {
        "colab": {
          "base_uri": "https://localhost:8080/"
        },
        "id": "RuexfmZQU03q",
        "outputId": "5c839966-9fe6-4965-bf06-c4d20f8e4b79"
      },
      "source": [
        "empath_features = lexicon.analyze(doc,categories = [\"disappointment\", \"pain\", \"joy\", \"beauty\", \"affection\"], normalize = True)\n",
        "empath_features['affection']"
      ],
      "execution_count": null,
      "outputs": [
        {
          "data": {
            "text/plain": [
              "0.0"
            ]
          },
          "execution_count": 27,
          "metadata": {},
          "output_type": "execute_result"
        }
      ]
    },
    {
      "cell_type": "code",
      "metadata": {
        "colab": {
          "base_uri": "https://localhost:8080/"
        },
        "id": "EfihxJZmU064",
        "outputId": "80a3378d-5aee-49a2-94ba-d51f37daf10e"
      },
      "source": [
        "empath_features = lexicon.analyze(doc,categories = [\"disappointment\", \"pain\", \"joy\", \"beauty\", \"affection\"], normalize = True)\n",
        "data_2019_df['empath_dis'] = data_2019_df['quotation'].map(lambda x:float(lexicon.analyze(x,categories = [\"pain\"], normalize = True)['pain']))\n",
        "data_2019_df['empath_dis']"
      ],
      "execution_count": null,
      "outputs": [
        {
          "data": {
            "text/plain": [
              "229880    0.000000\n",
              "8016      0.000000\n",
              "69903     0.000000\n",
              "188354    0.000000\n",
              "235110    0.000000\n",
              "            ...   \n",
              "88650     0.000000\n",
              "105546    0.000000\n",
              "92538     0.014286\n",
              "166397    0.000000\n",
              "119677    0.000000\n",
              "Name: empath_dis, Length: 243680, dtype: float64"
            ]
          },
          "execution_count": 30,
          "metadata": {},
          "output_type": "execute_result"
        }
      ]
    },
    {
      "cell_type": "code",
      "metadata": {
        "colab": {
          "base_uri": "https://localhost:8080/",
          "height": 269
        },
        "id": "fIJjhSXGU099",
        "outputId": "753b811d-7f03-4c95-8493-758f30204496"
      },
      "source": [
        "data_2019_df = data_2019_df.sort_index()\n",
        "data_2019_df['empath_dis'].hist();"
      ],
      "execution_count": 45,
      "outputs": [
        {
          "output_type": "display_data",
          "data": {
            "image/png": "[encoded data removed]",
            "text/plain": [
              "<Figure size 432x288 with 1 Axes>"
            ]
          },
          "metadata": {
            "needs_background": "light"
          }
        }
      ]
    },
    {
      "cell_type": "code",
      "metadata": {
        "colab": {
          "base_uri": "https://localhost:8080/"
        },
        "id": "e6ewvwy6VB7x",
        "outputId": "46d036b4-bfa4-4e9f-d35c-1e09fc72a8f2"
      },
      "source": [
        "empath_features"
      ],
      "execution_count": null,
      "outputs": [
        {
          "data": {
            "text/plain": [
              "{'affection': 0.0,\n",
              " 'beauty': 0.0,\n",
              " 'disappointment': 0.0,\n",
              " 'joy': 0.0,\n",
              " 'pain': 0.0}"
            ]
          },
          "execution_count": 41,
          "metadata": {},
          "output_type": "execute_result"
        }
      ]
    },
    {
      "cell_type": "code",
      "metadata": {
        "colab": {
          "base_uri": "https://localhost:8080/",
          "height": 695
        },
        "id": "JIGb7xCaVB_n",
        "outputId": "d68a34fc-1768-4dc6-cfc6-3b81ba28af6d"
      },
      "source": [
        "from textblob import TextBlob\n",
        "data_2019_df['subjectivity'] = data_2019_df['quotation'].map(lambda x:TextBlob(x).sentiment.subjectivity)\n",
        "data_2019_df.head()"
      ],
      "execution_count": 44,
      "outputs": [
        {
          "output_type": "execute_result",
          "data": {
            "text/html": [
              "<div>\n",
              "<style scoped>\n",
              "    .dataframe tbody tr th:only-of-type {\n",
              "        vertical-align: middle;\n",
              "    }\n",
              "\n",
              "    .dataframe tbody tr th {\n",
              "        vertical-align: top;\n",
              "    }\n",
              "\n",
              "    .dataframe thead th {\n",
              "        text-align: right;\n",
              "    }\n",
              "</style>\n",
              "<table border=\"1\" class=\"dataframe\">\n",
              "  <thead>\n",
              "    <tr style=\"text-align: right;\">\n",
              "      <th></th>\n",
              "      <th>quoteID</th>\n",
              "      <th>quotation</th>\n",
              "      <th>speaker</th>\n",
              "      <th>qids</th>\n",
              "      <th>date</th>\n",
              "      <th>numOccurrences</th>\n",
              "      <th>probas</th>\n",
              "      <th>urls</th>\n",
              "      <th>phase</th>\n",
              "      <th>probas_speaker</th>\n",
              "      <th>pos</th>\n",
              "      <th>neu</th>\n",
              "      <th>neg</th>\n",
              "      <th>month-day</th>\n",
              "      <th>month</th>\n",
              "      <th>subjectivity</th>\n",
              "      <th>empath_dis</th>\n",
              "    </tr>\n",
              "  </thead>\n",
              "  <tbody>\n",
              "    <tr>\n",
              "      <th>0</th>\n",
              "      <td>2019-11-25-000510</td>\n",
              "      <td>10 years ago, partnerships for sustainability ...</td>\n",
              "      <td>None</td>\n",
              "      <td>[]</td>\n",
              "      <td>2019-11-25 15:53:07</td>\n",
              "      <td>1</td>\n",
              "      <td>[[None, 0.7942], [Steve Jennings, 0.2058]]</td>\n",
              "      <td>[https://sustainablebrands.com/brands/fsc]</td>\n",
              "      <td>E</td>\n",
              "      <td>0.7942</td>\n",
              "      <td>0.000</td>\n",
              "      <td>1.000</td>\n",
              "      <td>0.000</td>\n",
              "      <td>11-25</td>\n",
              "      <td>11</td>\n",
              "      <td>0.300000</td>\n",
              "      <td>0.0</td>\n",
              "    </tr>\n",
              "    <tr>\n",
              "      <th>1</th>\n",
              "      <td>2019-10-11-000663</td>\n",
              "      <td>11:00 o’clock every Friday morning come get ar...</td>\n",
              "      <td>None</td>\n",
              "      <td>[]</td>\n",
              "      <td>2019-10-11 18:50:53</td>\n",
              "      <td>2</td>\n",
              "      <td>[[None, 0.9028], [Jane Fonda, 0.0972]]</td>\n",
              "      <td>[http://breitbart.com/politics/2019/10/11/watc...</td>\n",
              "      <td>E</td>\n",
              "      <td>0.9028</td>\n",
              "      <td>0.000</td>\n",
              "      <td>0.782</td>\n",
              "      <td>0.218</td>\n",
              "      <td>10-11</td>\n",
              "      <td>10</td>\n",
              "      <td>0.000000</td>\n",
              "      <td>0.0</td>\n",
              "    </tr>\n",
              "    <tr>\n",
              "      <th>2</th>\n",
              "      <td>2019-01-22-001304</td>\n",
              "      <td>A Free-Enterprise Solution to Climate Change</td>\n",
              "      <td>Bob Inglis</td>\n",
              "      <td>[Q52696935, Q888008]</td>\n",
              "      <td>2019-01-22 09:04:54</td>\n",
              "      <td>1</td>\n",
              "      <td>[[Bob Inglis, 0.8663], [None, 0.1285], [Peter ...</td>\n",
              "      <td>[https://onwardstate.com/2019/01/22/sustainabi...</td>\n",
              "      <td>E</td>\n",
              "      <td>0.8663</td>\n",
              "      <td>0.315</td>\n",
              "      <td>0.685</td>\n",
              "      <td>0.000</td>\n",
              "      <td>01-22</td>\n",
              "      <td>01</td>\n",
              "      <td>0.000000</td>\n",
              "      <td>0.0</td>\n",
              "    </tr>\n",
              "    <tr>\n",
              "      <th>3</th>\n",
              "      <td>2019-11-27-049616</td>\n",
              "      <td>It sounded impossible at first, but it has tau...</td>\n",
              "      <td>Ron Milo</td>\n",
              "      <td>[Q30504299, Q54113482]</td>\n",
              "      <td>2019-11-27 16:14:15</td>\n",
              "      <td>6</td>\n",
              "      <td>[[Ron Milo, 0.7998], [None, 0.1982], [Tom Beck...</td>\n",
              "      <td>[https://www.miragenews.com/greenest-diet-bact...</td>\n",
              "      <td>E</td>\n",
              "      <td>0.7998</td>\n",
              "      <td>0.134</td>\n",
              "      <td>0.866</td>\n",
              "      <td>0.000</td>\n",
              "      <td>11-27</td>\n",
              "      <td>11</td>\n",
              "      <td>0.601667</td>\n",
              "      <td>0.0</td>\n",
              "    </tr>\n",
              "    <tr>\n",
              "      <th>4</th>\n",
              "      <td>2019-09-13-002852</td>\n",
              "      <td>acutely aware we are in the midst of a climate...</td>\n",
              "      <td>Michael Thomson</td>\n",
              "      <td>[Q16239395, Q23418728, Q6834872, Q6834873]</td>\n",
              "      <td>2019-09-13 00:00:00</td>\n",
              "      <td>1</td>\n",
              "      <td>[[Michael Thomson, 0.6821], [None, 0.2595], [A...</td>\n",
              "      <td>[http://theherald.com.au/story/6383605/univers...</td>\n",
              "      <td>E</td>\n",
              "      <td>0.6821</td>\n",
              "      <td>0.000</td>\n",
              "      <td>0.794</td>\n",
              "      <td>0.206</td>\n",
              "      <td>09-13</td>\n",
              "      <td>09</td>\n",
              "      <td>0.250000</td>\n",
              "      <td>0.0</td>\n",
              "    </tr>\n",
              "  </tbody>\n",
              "</table>\n",
              "</div>"
            ],
            "text/plain": [
              "             quoteID  ... empath_dis\n",
              "0  2019-11-25-000510  ...        0.0\n",
              "1  2019-10-11-000663  ...        0.0\n",
              "2  2019-01-22-001304  ...        0.0\n",
              "3  2019-11-27-049616  ...        0.0\n",
              "4  2019-09-13-002852  ...        0.0\n",
              "\n",
              "[5 rows x 17 columns]"
            ]
          },
          "metadata": {},
          "execution_count": 44
        }
      ]
    },
    {
      "cell_type": "markdown",
      "metadata": {
        "id": "Tf4oZIoUSzoC"
      },
      "source": [
        "\n",
        "> What are the emotions conveyed by the quotes about climate change ?"
      ]
    },
    {
      "cell_type": "markdown",
      "metadata": {
        "id": "usFsnYzZSztt"
      },
      "source": [
        "- graphe : analyse sentiment cécile des quotes liés au climate "
      ]
    }
  ]
}