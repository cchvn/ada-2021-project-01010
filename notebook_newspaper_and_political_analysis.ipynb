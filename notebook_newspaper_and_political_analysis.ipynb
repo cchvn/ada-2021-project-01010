{
  "cells": [
    {
      "cell_type": "code",
      "execution_count": 1,
      "metadata": {
        "colab": {
          "base_uri": "https://localhost:8080/"
        },
        "id": "gkbrAiXz-rDf",
        "outputId": "7c70ad4e-5dee-4306-f97c-2c514e4ab6ef"
      },
      "outputs": [
        {
          "output_type": "stream",
          "name": "stdout",
          "text": [
            "Mounted at /content/drive\n"
          ]
        }
      ],
      "source": [
        "from google.colab import drive\n",
        "drive.mount(\"/content/drive\")"
      ]
    },
    {
      "cell_type": "code",
      "execution_count": 2,
      "metadata": {
        "colab": {
          "base_uri": "https://localhost:8080/"
        },
        "id": "fO3tg8tNIMDi",
        "outputId": "4bbc4beb-dbf3-4c90-c5a0-aa8c029968dc"
      },
      "outputs": [
        {
          "output_type": "stream",
          "name": "stdout",
          "text": [
            "Collecting tld\n",
            "  Downloading tld-0.12.6-py37-none-any.whl (412 kB)\n",
            "\u001b[?25l\r\u001b[K     |▉                               | 10 kB 22.3 MB/s eta 0:00:01\r\u001b[K     |█▋                              | 20 kB 27.9 MB/s eta 0:00:01\r\u001b[K     |██▍                             | 30 kB 14.8 MB/s eta 0:00:01\r\u001b[K     |███▏                            | 40 kB 10.3 MB/s eta 0:00:01\r\u001b[K     |████                            | 51 kB 5.4 MB/s eta 0:00:01\r\u001b[K     |████▊                           | 61 kB 5.9 MB/s eta 0:00:01\r\u001b[K     |█████▋                          | 71 kB 5.6 MB/s eta 0:00:01\r\u001b[K     |██████▍                         | 81 kB 6.3 MB/s eta 0:00:01\r\u001b[K     |███████▏                        | 92 kB 4.8 MB/s eta 0:00:01\r\u001b[K     |████████                        | 102 kB 5.2 MB/s eta 0:00:01\r\u001b[K     |████████▊                       | 112 kB 5.2 MB/s eta 0:00:01\r\u001b[K     |█████████▌                      | 122 kB 5.2 MB/s eta 0:00:01\r\u001b[K     |██████████▍                     | 133 kB 5.2 MB/s eta 0:00:01\r\u001b[K     |███████████▏                    | 143 kB 5.2 MB/s eta 0:00:01\r\u001b[K     |████████████                    | 153 kB 5.2 MB/s eta 0:00:01\r\u001b[K     |████████████▊                   | 163 kB 5.2 MB/s eta 0:00:01\r\u001b[K     |█████████████▌                  | 174 kB 5.2 MB/s eta 0:00:01\r\u001b[K     |██████████████▎                 | 184 kB 5.2 MB/s eta 0:00:01\r\u001b[K     |███████████████                 | 194 kB 5.2 MB/s eta 0:00:01\r\u001b[K     |████████████████                | 204 kB 5.2 MB/s eta 0:00:01\r\u001b[K     |████████████████▊               | 215 kB 5.2 MB/s eta 0:00:01\r\u001b[K     |█████████████████▌              | 225 kB 5.2 MB/s eta 0:00:01\r\u001b[K     |██████████████████▎             | 235 kB 5.2 MB/s eta 0:00:01\r\u001b[K     |███████████████████             | 245 kB 5.2 MB/s eta 0:00:01\r\u001b[K     |███████████████████▉            | 256 kB 5.2 MB/s eta 0:00:01\r\u001b[K     |████████████████████▊           | 266 kB 5.2 MB/s eta 0:00:01\r\u001b[K     |█████████████████████▌          | 276 kB 5.2 MB/s eta 0:00:01\r\u001b[K     |██████████████████████▎         | 286 kB 5.2 MB/s eta 0:00:01\r\u001b[K     |███████████████████████         | 296 kB 5.2 MB/s eta 0:00:01\r\u001b[K     |███████████████████████▉        | 307 kB 5.2 MB/s eta 0:00:01\r\u001b[K     |████████████████████████▋       | 317 kB 5.2 MB/s eta 0:00:01\r\u001b[K     |█████████████████████████▍      | 327 kB 5.2 MB/s eta 0:00:01\r\u001b[K     |██████████████████████████▎     | 337 kB 5.2 MB/s eta 0:00:01\r\u001b[K     |███████████████████████████     | 348 kB 5.2 MB/s eta 0:00:01\r\u001b[K     |███████████████████████████▉    | 358 kB 5.2 MB/s eta 0:00:01\r\u001b[K     |████████████████████████████▋   | 368 kB 5.2 MB/s eta 0:00:01\r\u001b[K     |█████████████████████████████▍  | 378 kB 5.2 MB/s eta 0:00:01\r\u001b[K     |██████████████████████████████▏ | 389 kB 5.2 MB/s eta 0:00:01\r\u001b[K     |███████████████████████████████ | 399 kB 5.2 MB/s eta 0:00:01\r\u001b[K     |███████████████████████████████▉| 409 kB 5.2 MB/s eta 0:00:01\r\u001b[K     |████████████████████████████████| 412 kB 5.2 MB/s \n",
            "\u001b[?25hInstalling collected packages: tld\n",
            "Successfully installed tld-0.12.6\n"
          ]
        }
      ],
      "source": [
        "!pip install tld"
      ]
    },
    {
      "cell_type": "code",
      "execution_count": 3,
      "metadata": {
        "id": "YqfA_AQ0--yC"
      },
      "outputs": [],
      "source": [
        "import pandas as pd\n",
        "import numpy as np\n",
        "import re\n",
        "from tld import get_fld"
      ]
    },
    {
      "cell_type": "code",
      "execution_count": 4,
      "metadata": {
        "id": "brUqkrtRzQD9"
      },
      "outputs": [],
      "source": [
        "path_to_out_2015 = '/content/drive/MyDrive/quotes-2015-filtered.json.bz2'\n",
        "path_to_out_2016 = '/content/drive/MyDrive/quotes-2016-filtered.json.bz2'\n",
        "path_to_out_2017 = '/content/drive/MyDrive/quotes-2017-filtered.json.bz2'\n",
        "path_to_out_2018 = '/content/drive/MyDrive/quotes-2018-filtered.json.bz2'\n",
        "path_to_out_2019 = '/content/drive/MyDrive/quotes-2019-filtered.json.bz2'\n",
        "path_to_out_2020 = '/content/drive/MyDrive/quotes-2020-filtered.json.bz2'\n",
        "data_2015 = pd.read_json(path_to_out_2015, lines=True)\n",
        "data_2016 = pd.read_json(path_to_out_2016, lines=True)\n",
        "data_2017 = pd.read_json(path_to_out_2017, lines=True)\n",
        "data_2018 = pd.read_json(path_to_out_2018, lines=True)\n",
        "data_2019 = pd.read_json(path_to_out_2019, lines=True)\n",
        "data_2020 = pd.read_json(path_to_out_2020, lines=True)"
      ]
    },
    {
      "cell_type": "code",
      "execution_count": 5,
      "metadata": {
        "colab": {
          "base_uri": "https://localhost:8080/",
          "height": 728
        },
        "id": "wwNb5KL50TMF",
        "outputId": "f20d66ab-c720-469e-fdef-8cc7a7053f8c"
      },
      "outputs": [
        {
          "output_type": "execute_result",
          "data": {
            "text/html": [
              "\n",
              "  <div id=\"df-6d65fdf3-049d-4464-855f-ba50aa98d227\">\n",
              "    <div class=\"colab-df-container\">\n",
              "      <div>\n",
              "<style scoped>\n",
              "    .dataframe tbody tr th:only-of-type {\n",
              "        vertical-align: middle;\n",
              "    }\n",
              "\n",
              "    .dataframe tbody tr th {\n",
              "        vertical-align: top;\n",
              "    }\n",
              "\n",
              "    .dataframe thead th {\n",
              "        text-align: right;\n",
              "    }\n",
              "</style>\n",
              "<table border=\"1\" class=\"dataframe\">\n",
              "  <thead>\n",
              "    <tr style=\"text-align: right;\">\n",
              "      <th></th>\n",
              "      <th>quoteID</th>\n",
              "      <th>quotation</th>\n",
              "      <th>speaker</th>\n",
              "      <th>qids</th>\n",
              "      <th>date</th>\n",
              "      <th>numOccurrences</th>\n",
              "      <th>probas</th>\n",
              "      <th>urls</th>\n",
              "      <th>phase</th>\n",
              "    </tr>\n",
              "  </thead>\n",
              "  <tbody>\n",
              "    <tr>\n",
              "      <th>0</th>\n",
              "      <td>2015-01-14-004988</td>\n",
              "      <td>another layer of burdensome requirements [ tha...</td>\n",
              "      <td>None</td>\n",
              "      <td>[]</td>\n",
              "      <td>2015-01-14 19:08:33</td>\n",
              "      <td>1</td>\n",
              "      <td>[[None, 0.8135], [Mark Brownstein, 0.1865]]</td>\n",
              "      <td>[http://www.motherjones.com/blue-marble/2015/0...</td>\n",
              "      <td>E</td>\n",
              "    </tr>\n",
              "    <tr>\n",
              "      <th>1</th>\n",
              "      <td>2015-09-09-008765</td>\n",
              "      <td>As siltation is a natural process in the Meghn...</td>\n",
              "      <td>Anisul Islam Mahmud</td>\n",
              "      <td>[Q23762578]</td>\n",
              "      <td>2015-09-09 07:40:37</td>\n",
              "      <td>11</td>\n",
              "      <td>[[Anisul Islam Mahmud, 0.942], [None, 0.058]]</td>\n",
              "      <td>[http://trust.org/item/20150909073825-39czr, h...</td>\n",
              "      <td>E</td>\n",
              "    </tr>\n",
              "    <tr>\n",
              "      <th>2</th>\n",
              "      <td>2015-11-27-010826</td>\n",
              "      <td>But taking money out of their pockets, I've al...</td>\n",
              "      <td>None</td>\n",
              "      <td>[]</td>\n",
              "      <td>2015-11-27 01:45:07</td>\n",
              "      <td>1</td>\n",
              "      <td>[[None, 0.8499], [phil jackson, 0.1501]]</td>\n",
              "      <td>[http://metrotextual.wordpress.com/2015/11/26/...</td>\n",
              "      <td>E</td>\n",
              "    </tr>\n",
              "    <tr>\n",
              "      <th>3</th>\n",
              "      <td>2015-02-09-029204</td>\n",
              "      <td>I want him to be Prime Minister because he sup...</td>\n",
              "      <td>None</td>\n",
              "      <td>[]</td>\n",
              "      <td>2015-02-09 04:28:41</td>\n",
              "      <td>1</td>\n",
              "      <td>[[None, 0.8177], [Malcolm Turnbull, 0.1823]]</td>\n",
              "      <td>[http://sbs.com.au/comedy/article/2015/02/09/w...</td>\n",
              "      <td>E</td>\n",
              "    </tr>\n",
              "    <tr>\n",
              "      <th>4</th>\n",
              "      <td>2015-08-20-016545</td>\n",
              "      <td>caused entirely or mostly by human activities.</td>\n",
              "      <td>None</td>\n",
              "      <td>[]</td>\n",
              "      <td>2015-08-20 19:35:23</td>\n",
              "      <td>2</td>\n",
              "      <td>[[None, 0.7455], [Pope Francis, 0.2545]]</td>\n",
              "      <td>[http://www.bloomberg.com/news/articles/2015-0...</td>\n",
              "      <td>E</td>\n",
              "    </tr>\n",
              "    <tr>\n",
              "      <th>...</th>\n",
              "      <td>...</td>\n",
              "      <td>...</td>\n",
              "      <td>...</td>\n",
              "      <td>...</td>\n",
              "      <td>...</td>\n",
              "      <td>...</td>\n",
              "      <td>...</td>\n",
              "      <td>...</td>\n",
              "      <td>...</td>\n",
              "    </tr>\n",
              "    <tr>\n",
              "      <th>41869</th>\n",
              "      <td>2020-02-15-048259</td>\n",
              "      <td>this balanced red blends weight and power with...</td>\n",
              "      <td>None</td>\n",
              "      <td>[]</td>\n",
              "      <td>2020-02-15 15:00:00</td>\n",
              "      <td>1</td>\n",
              "      <td>[[None, 0.8541], [James Suckling, 0.1459]]</td>\n",
              "      <td>[http://sootoday.com/columns/wine-all-the-time...</td>\n",
              "      <td>E</td>\n",
              "    </tr>\n",
              "    <tr>\n",
              "      <th>41870</th>\n",
              "      <td>2020-01-21-085595</td>\n",
              "      <td>This concept of over-regulation is an interest...</td>\n",
              "      <td>Tim Ryan</td>\n",
              "      <td>[Q10381179, Q3528685, Q513960, Q7804212, Q7804...</td>\n",
              "      <td>2020-01-21 00:00:00</td>\n",
              "      <td>3</td>\n",
              "      <td>[[Tim Ryan, 0.7641], [None, 0.2359]]</td>\n",
              "      <td>[http://nordic.businessinsider.com/pwc-ceo-sur...</td>\n",
              "      <td>E</td>\n",
              "    </tr>\n",
              "    <tr>\n",
              "      <th>41871</th>\n",
              "      <td>2020-01-26-053553</td>\n",
              "      <td>Well, Joe, you're wrong.</td>\n",
              "      <td>Bernie Sanders</td>\n",
              "      <td>[Q359442]</td>\n",
              "      <td>2020-01-26 17:01:39</td>\n",
              "      <td>10</td>\n",
              "      <td>[[Bernie Sanders, 0.8208], [None, 0.1573], [Jo...</td>\n",
              "      <td>[https://www.nytimes.com/live/2020/iowa-democr...</td>\n",
              "      <td>E</td>\n",
              "    </tr>\n",
              "    <tr>\n",
              "      <th>41872</th>\n",
              "      <td>2020-02-23-041538</td>\n",
              "      <td>We've been writing about climate change being ...</td>\n",
              "      <td>Lesley Hughes</td>\n",
              "      <td>[Q53473786]</td>\n",
              "      <td>2020-02-23 22:38:42</td>\n",
              "      <td>2</td>\n",
              "      <td>[[Lesley Hughes, 0.9023], [None, 0.0978]]</td>\n",
              "      <td>[https://www.nytimes.com/2020/02/23/world/aust...</td>\n",
              "      <td>E</td>\n",
              "    </tr>\n",
              "    <tr>\n",
              "      <th>41873</th>\n",
              "      <td>2020-02-05-118499</td>\n",
              "      <td>What's far more meaningful to the climate righ...</td>\n",
              "      <td>None</td>\n",
              "      <td>[]</td>\n",
              "      <td>2020-02-05 04:32:35</td>\n",
              "      <td>3</td>\n",
              "      <td>[[None, 0.8397], [Irfan Khan, 0.1603]]</td>\n",
              "      <td>[https://www.latimes.com/environment/story/202...</td>\n",
              "      <td>E</td>\n",
              "    </tr>\n",
              "  </tbody>\n",
              "</table>\n",
              "<p>718633 rows × 9 columns</p>\n",
              "</div>\n",
              "      <button class=\"colab-df-convert\" onclick=\"convertToInteractive('df-6d65fdf3-049d-4464-855f-ba50aa98d227')\"\n",
              "              title=\"Convert this dataframe to an interactive table.\"\n",
              "              style=\"display:none;\">\n",
              "        \n",
              "  <svg xmlns=\"http://www.w3.org/2000/svg\" height=\"24px\"viewBox=\"0 0 24 24\"\n",
              "       width=\"24px\">\n",
              "    <path d=\"M0 0h24v24H0V0z\" fill=\"none\"/>\n",
              "    <path d=\"M18.56 5.44l.94 2.06.94-2.06 2.06-.94-2.06-.94-.94-2.06-.94 2.06-2.06.94zm-11 1L8.5 8.5l.94-2.06 2.06-.94-2.06-.94L8.5 2.5l-.94 2.06-2.06.94zm10 10l.94 2.06.94-2.06 2.06-.94-2.06-.94-.94-2.06-.94 2.06-2.06.94z\"/><path d=\"M17.41 7.96l-1.37-1.37c-.4-.4-.92-.59-1.43-.59-.52 0-1.04.2-1.43.59L10.3 9.45l-7.72 7.72c-.78.78-.78 2.05 0 2.83L4 21.41c.39.39.9.59 1.41.59.51 0 1.02-.2 1.41-.59l7.78-7.78 2.81-2.81c.8-.78.8-2.07 0-2.86zM5.41 20L4 18.59l7.72-7.72 1.47 1.35L5.41 20z\"/>\n",
              "  </svg>\n",
              "      </button>\n",
              "      \n",
              "  <style>\n",
              "    .colab-df-container {\n",
              "      display:flex;\n",
              "      flex-wrap:wrap;\n",
              "      gap: 12px;\n",
              "    }\n",
              "\n",
              "    .colab-df-convert {\n",
              "      background-color: #E8F0FE;\n",
              "      border: none;\n",
              "      border-radius: 50%;\n",
              "      cursor: pointer;\n",
              "      display: none;\n",
              "      fill: #1967D2;\n",
              "      height: 32px;\n",
              "      padding: 0 0 0 0;\n",
              "      width: 32px;\n",
              "    }\n",
              "\n",
              "    .colab-df-convert:hover {\n",
              "      background-color: #E2EBFA;\n",
              "      box-shadow: 0px 1px 2px rgba(60, 64, 67, 0.3), 0px 1px 3px 1px rgba(60, 64, 67, 0.15);\n",
              "      fill: #174EA6;\n",
              "    }\n",
              "\n",
              "    [theme=dark] .colab-df-convert {\n",
              "      background-color: #3B4455;\n",
              "      fill: #D2E3FC;\n",
              "    }\n",
              "\n",
              "    [theme=dark] .colab-df-convert:hover {\n",
              "      background-color: #434B5C;\n",
              "      box-shadow: 0px 1px 3px 1px rgba(0, 0, 0, 0.15);\n",
              "      filter: drop-shadow(0px 1px 2px rgba(0, 0, 0, 0.3));\n",
              "      fill: #FFFFFF;\n",
              "    }\n",
              "  </style>\n",
              "\n",
              "      <script>\n",
              "        const buttonEl =\n",
              "          document.querySelector('#df-6d65fdf3-049d-4464-855f-ba50aa98d227 button.colab-df-convert');\n",
              "        buttonEl.style.display =\n",
              "          google.colab.kernel.accessAllowed ? 'block' : 'none';\n",
              "\n",
              "        async function convertToInteractive(key) {\n",
              "          const element = document.querySelector('#df-6d65fdf3-049d-4464-855f-ba50aa98d227');\n",
              "          const dataTable =\n",
              "            await google.colab.kernel.invokeFunction('convertToInteractive',\n",
              "                                                     [key], {});\n",
              "          if (!dataTable) return;\n",
              "\n",
              "          const docLinkHtml = 'Like what you see? Visit the ' +\n",
              "            '<a target=\"_blank\" href=https://colab.research.google.com/notebooks/data_table.ipynb>data table notebook</a>'\n",
              "            + ' to learn more about interactive tables.';\n",
              "          element.innerHTML = '';\n",
              "          dataTable['output_type'] = 'display_data';\n",
              "          await google.colab.output.renderOutput(dataTable, element);\n",
              "          const docLink = document.createElement('div');\n",
              "          docLink.innerHTML = docLinkHtml;\n",
              "          element.appendChild(docLink);\n",
              "        }\n",
              "      </script>\n",
              "    </div>\n",
              "  </div>\n",
              "  "
            ],
            "text/plain": [
              "                 quoteID  ... phase\n",
              "0      2015-01-14-004988  ...     E\n",
              "1      2015-09-09-008765  ...     E\n",
              "2      2015-11-27-010826  ...     E\n",
              "3      2015-02-09-029204  ...     E\n",
              "4      2015-08-20-016545  ...     E\n",
              "...                  ...  ...   ...\n",
              "41869  2020-02-15-048259  ...     E\n",
              "41870  2020-01-21-085595  ...     E\n",
              "41871  2020-01-26-053553  ...     E\n",
              "41872  2020-02-23-041538  ...     E\n",
              "41873  2020-02-05-118499  ...     E\n",
              "\n",
              "[718633 rows x 9 columns]"
            ]
          },
          "metadata": {},
          "execution_count": 5
        }
      ],
      "source": [
        "data = [data_2015, data_2016, data_2017, data_2018, data_2019, data_2020]\n",
        "data_all = pd.concat(data)\n",
        "data_all"
      ]
    },
    {
      "cell_type": "code",
      "execution_count": 6,
      "metadata": {
        "id": "SQQEDyLQEA5f"
      },
      "outputs": [],
      "source": [
        "data_all['domain_name'] = data_all.urls.map(lambda urls: [get_fld(el) for el in urls])"
      ]
    },
    {
      "cell_type": "code",
      "source": [
        "data_all = data_all[np.logical_not(data_all.quotation.str.contains('display:'))]"
      ],
      "metadata": {
        "id": "iQiKCkIABT2V"
      },
      "execution_count": 10,
      "outputs": []
    },
    {
      "cell_type": "code",
      "source": [
        "# Number of quotes per domaine name\n",
        "domaine_quotes_count = data_all['domain_name'].explode().value_counts()\n",
        "print('breitbart.com -> '+str(domaine_quotes_count.loc['breitbart.com']))\n",
        "print('insideclimatenews.org -> '+str(domaine_quotes_count.loc['insideclimatenews.org']))"
      ],
      "metadata": {
        "colab": {
          "base_uri": "https://localhost:8080/"
        },
        "id": "v7ntas0O51FF",
        "outputId": "e6742c93-fea6-4960-c788-1a01df2cc547"
      },
      "execution_count": 11,
      "outputs": [
        {
          "output_type": "stream",
          "name": "stdout",
          "text": [
            "breitbart.com -> 39854\n",
            "insideclimatenews.org -> 21200\n"
          ]
        }
      ]
    },
    {
      "cell_type": "code",
      "execution_count": 13,
      "metadata": {
        "colab": {
          "base_uri": "https://localhost:8080/"
        },
        "id": "2a-4AIMJAFn2",
        "outputId": "fc4bafa7-fe35-49b9-e32a-aeafcc8b6e24"
      },
      "outputs": [
        {
          "output_type": "stream",
          "name": "stdout",
          "text": [
            "breitbart.com -> 19972\n",
            "insideclimatenews.org -> 23184\n"
          ]
        }
      ],
      "source": [
        "# Number of quotes unique per journal\n",
        "unique_quotes=[]\n",
        "for el in data_all['domain_name']:\n",
        "  unique_quotes.extend(set(el))\n",
        "domaine_unique_quotes_count=pd.Series(unique_quotes).value_counts()\n",
        "\n",
        "print('breitbart.com -> '+str(domaine_unique_quotes_count.loc['insideclimatenews.org']))\n",
        "print('insideclimatenews.org -> '+str(domaine_unique_quotes_count.loc['breitbart.com']))"
      ]
    },
    {
      "cell_type": "code",
      "source": [
        "# Generate distribution of quotes use",
        "import plotly.express as px\n",
        "dist_b=[]\n",
        "for i in range(max):\n",
        "  dist_b.append(shape(data_all[data_all.domain_name.map(lambda x: x.count('breitbart.com') > i)])[0])\n",
        "new_table = np.c_[np.array([i+1 for i in range(max)]),dist_b]\n",
        "df = pd.DataFrame(new_table, columns = ['Number of times of used quotes','Number of quotes'])\n",
        "fig = px.line(df, x=\"Number of times of used quotes\", y='Number of quotes',log_y=True,log_x=True)\n",
        "fig.write_html('/content/drive/MyDrive/power_law_final.html')\n",
        "fig.show()"
      ],
      "metadata": {
        "colab": {
          "base_uri": "https://localhost:8080/",
          "height": 542
        },
        "id": "PlPzb1j8IZxk",
        "outputId": "67981818-aeec-44e9-fc26-6c48c32bb55e"
      },
      "execution_count": null,
      "outputs": [
        {
          "output_type": "display_data",
          "data": {
            "text/html": [
              "<html>\n",
              "<head><meta charset=\"utf-8\" /></head>\n",
              "<body>\n",
              "    <div>\n",
              "            <script src=\"https://cdnjs.cloudflare.com/ajax/libs/mathjax/2.7.5/MathJax.js?config=TeX-AMS-MML_SVG\"></script><script type=\"text/javascript\">if (window.MathJax) {MathJax.Hub.Config({SVG: {font: \"STIX-Web\"}});}</script>\n",
              "                <script type=\"text/javascript\">window.PlotlyConfig = {MathJaxConfig: 'local'};</script>\n",
              "        <script src=\"https://cdn.plot.ly/plotly-latest.min.js\"></script>    \n",
              "            <div id=\"1b28ad83-4975-4d1e-ba6e-fd55898b1e7e\" class=\"plotly-graph-div\" style=\"height:525px; width:100%;\"></div>\n",
              "            <script type=\"text/javascript\">\n",
              "                \n",
              "                    window.PLOTLYENV=window.PLOTLYENV || {};\n",
              "                    \n",
              "                if (document.getElementById(\"1b28ad83-4975-4d1e-ba6e-fd55898b1e7e\")) {\n",
              "                    Plotly.newPlot(\n",
              "                        '1b28ad83-4975-4d1e-ba6e-fd55898b1e7e',\n",
              "                        [{\"hoverlabel\": {\"namelength\": 0}, \"hovertemplate\": \"Number of times of used quotes=%{x}<br>Number of quotes=%{y}\", \"legendgroup\": \"\", \"line\": {\"color\": \"#636efa\", \"dash\": \"solid\"}, \"mode\": \"lines\", \"name\": \"\", \"showlegend\": false, \"type\": \"scatter\", \"x\": [1, 2, 3, 4, 5, 6, 7, 8, 9, 10, 11, 12, 13, 14, 15, 16, 17, 18, 19, 20, 21, 22, 23, 24, 25, 26, 27, 28, 29, 30, 31, 32, 33, 34, 35, 36, 37, 38, 39, 40, 41, 42, 43, 44, 45, 46, 47, 48, 49, 50, 51, 52, 53, 54, 55, 56, 57, 58, 59, 60, 61, 62, 63, 64, 65, 66, 67, 68, 69, 70, 71, 72, 73, 74, 75, 76, 77, 78, 79, 80, 81, 82, 83, 84, 85, 86, 87, 88, 89, 90, 91, 92, 93, 94, 95, 96, 97, 98, 99, 100, 101, 102, 103, 104, 105, 106, 107, 108, 109, 110, 111, 112, 113, 114, 115, 116, 117, 118, 119, 120, 121, 122, 123, 124, 125, 126, 127, 128, 129, 130, 131, 132, 133, 134, 135, 136, 137, 138, 139, 140, 141, 142, 143, 144, 145, 146, 147, 148, 149, 150, 151, 152, 153, 154, 155, 156, 157, 158, 159, 160, 161, 162, 163, 164, 165, 166, 167, 168, 169, 170, 171, 172, 173, 174, 175, 176, 177, 178, 179, 180, 181, 182, 183, 184, 185, 186, 187, 188, 189, 190, 191, 192, 193, 194, 195, 196, 197, 198, 199, 200, 201, 202, 203, 204, 205, 206, 207, 208, 209, 210, 211, 212, 213, 214, 215, 216, 217, 218, 219, 220, 221, 222, 223, 224, 225, 226, 227, 228, 229, 230, 231, 232, 233, 234, 235, 236, 237, 238, 239, 240, 241, 242, 243, 244, 245, 246, 247, 248], \"xaxis\": \"x\", \"y\": [23185, 5998, 2537, 1535, 1016, 759, 578, 446, 356, 303, 261, 230, 206, 181, 162, 156, 145, 137, 125, 118, 103, 98, 91, 82, 67, 54, 45, 40, 37, 33, 30, 29, 29, 28, 28, 25, 24, 22, 19, 18, 18, 18, 17, 15, 13, 12, 12, 12, 12, 12, 12, 11, 11, 11, 11, 10, 10, 10, 10, 10, 9, 9, 9, 9, 9, 9, 9, 9, 8, 8, 7, 7, 7, 6, 6, 6, 6, 6, 6, 5, 5, 4, 4, 4, 4, 4, 4, 4, 4, 4, 4, 4, 4, 3, 3, 3, 3, 3, 3, 3, 3, 3, 3, 3, 3, 3, 3, 3, 3, 3, 3, 3, 3, 3, 3, 3, 3, 3, 3, 3, 3, 3, 3, 3, 3, 3, 3, 3, 3, 3, 3, 3, 3, 3, 3, 3, 3, 3, 3, 2, 2, 2, 2, 2, 2, 2, 2, 2, 2, 2, 2, 2, 2, 2, 2, 2, 2, 2, 2, 2, 2, 2, 2, 2, 2, 2, 2, 2, 2, 2, 2, 2, 2, 2, 2, 2, 2, 2, 2, 2, 2, 2, 2, 2, 2, 2, 2, 2, 2, 2, 2, 2, 2, 2, 2, 2, 2, 2, 2, 2, 2, 2, 2, 2, 2, 2, 2, 2, 1, 1, 1, 1, 1, 1, 1, 1, 1, 1, 1, 1, 1, 1, 1, 1, 1, 1, 1, 1, 1, 1, 1, 1, 1, 1, 1, 1, 1, 1, 1, 1, 1, 1, 1, 1, 1, 1, 1, 1], \"yaxis\": \"y\"}],\n",
              "                        {\"legend\": {\"tracegroupgap\": 0}, \"margin\": {\"t\": 60}, \"template\": {\"data\": {\"bar\": [{\"error_x\": {\"color\": \"#2a3f5f\"}, \"error_y\": {\"color\": \"#2a3f5f\"}, \"marker\": {\"line\": {\"color\": \"#E5ECF6\", \"width\": 0.5}}, \"type\": \"bar\"}], \"barpolar\": [{\"marker\": {\"line\": {\"color\": \"#E5ECF6\", \"width\": 0.5}}, \"type\": \"barpolar\"}], \"carpet\": [{\"aaxis\": {\"endlinecolor\": \"#2a3f5f\", \"gridcolor\": \"white\", \"linecolor\": \"white\", \"minorgridcolor\": \"white\", \"startlinecolor\": \"#2a3f5f\"}, \"baxis\": {\"endlinecolor\": \"#2a3f5f\", \"gridcolor\": \"white\", \"linecolor\": \"white\", \"minorgridcolor\": \"white\", \"startlinecolor\": \"#2a3f5f\"}, \"type\": \"carpet\"}], \"choropleth\": [{\"colorbar\": {\"outlinewidth\": 0, \"ticks\": \"\"}, \"type\": \"choropleth\"}], \"contour\": [{\"colorbar\": {\"outlinewidth\": 0, \"ticks\": \"\"}, \"colorscale\": [[0.0, \"#0d0887\"], [0.1111111111111111, \"#46039f\"], [0.2222222222222222, \"#7201a8\"], [0.3333333333333333, \"#9c179e\"], [0.4444444444444444, \"#bd3786\"], [0.5555555555555556, \"#d8576b\"], [0.6666666666666666, \"#ed7953\"], [0.7777777777777778, \"#fb9f3a\"], [0.8888888888888888, \"#fdca26\"], [1.0, \"#f0f921\"]], \"type\": \"contour\"}], \"contourcarpet\": [{\"colorbar\": {\"outlinewidth\": 0, \"ticks\": \"\"}, \"type\": \"contourcarpet\"}], \"heatmap\": [{\"colorbar\": {\"outlinewidth\": 0, \"ticks\": \"\"}, \"colorscale\": [[0.0, \"#0d0887\"], [0.1111111111111111, \"#46039f\"], [0.2222222222222222, \"#7201a8\"], [0.3333333333333333, \"#9c179e\"], [0.4444444444444444, \"#bd3786\"], [0.5555555555555556, \"#d8576b\"], [0.6666666666666666, \"#ed7953\"], [0.7777777777777778, \"#fb9f3a\"], [0.8888888888888888, \"#fdca26\"], [1.0, \"#f0f921\"]], \"type\": \"heatmap\"}], \"heatmapgl\": [{\"colorbar\": {\"outlinewidth\": 0, \"ticks\": \"\"}, \"colorscale\": [[0.0, \"#0d0887\"], [0.1111111111111111, \"#46039f\"], [0.2222222222222222, \"#7201a8\"], [0.3333333333333333, \"#9c179e\"], [0.4444444444444444, \"#bd3786\"], [0.5555555555555556, \"#d8576b\"], [0.6666666666666666, \"#ed7953\"], [0.7777777777777778, \"#fb9f3a\"], [0.8888888888888888, \"#fdca26\"], [1.0, \"#f0f921\"]], \"type\": \"heatmapgl\"}], \"histogram\": [{\"marker\": {\"colorbar\": {\"outlinewidth\": 0, \"ticks\": \"\"}}, \"type\": \"histogram\"}], \"histogram2d\": [{\"colorbar\": {\"outlinewidth\": 0, \"ticks\": \"\"}, \"colorscale\": [[0.0, \"#0d0887\"], [0.1111111111111111, \"#46039f\"], [0.2222222222222222, \"#7201a8\"], [0.3333333333333333, \"#9c179e\"], [0.4444444444444444, \"#bd3786\"], [0.5555555555555556, \"#d8576b\"], [0.6666666666666666, \"#ed7953\"], [0.7777777777777778, \"#fb9f3a\"], [0.8888888888888888, \"#fdca26\"], [1.0, \"#f0f921\"]], \"type\": \"histogram2d\"}], \"histogram2dcontour\": [{\"colorbar\": {\"outlinewidth\": 0, \"ticks\": \"\"}, \"colorscale\": [[0.0, \"#0d0887\"], [0.1111111111111111, \"#46039f\"], [0.2222222222222222, \"#7201a8\"], [0.3333333333333333, \"#9c179e\"], [0.4444444444444444, \"#bd3786\"], [0.5555555555555556, \"#d8576b\"], [0.6666666666666666, \"#ed7953\"], [0.7777777777777778, \"#fb9f3a\"], [0.8888888888888888, \"#fdca26\"], [1.0, \"#f0f921\"]], \"type\": \"histogram2dcontour\"}], \"mesh3d\": [{\"colorbar\": {\"outlinewidth\": 0, \"ticks\": \"\"}, \"type\": \"mesh3d\"}], \"parcoords\": [{\"line\": {\"colorbar\": {\"outlinewidth\": 0, \"ticks\": \"\"}}, \"type\": \"parcoords\"}], \"pie\": [{\"automargin\": true, \"type\": \"pie\"}], \"scatter\": [{\"marker\": {\"colorbar\": {\"outlinewidth\": 0, \"ticks\": \"\"}}, \"type\": \"scatter\"}], \"scatter3d\": [{\"line\": {\"colorbar\": {\"outlinewidth\": 0, \"ticks\": \"\"}}, \"marker\": {\"colorbar\": {\"outlinewidth\": 0, \"ticks\": \"\"}}, \"type\": \"scatter3d\"}], \"scattercarpet\": [{\"marker\": {\"colorbar\": {\"outlinewidth\": 0, \"ticks\": \"\"}}, \"type\": \"scattercarpet\"}], \"scattergeo\": [{\"marker\": {\"colorbar\": {\"outlinewidth\": 0, \"ticks\": \"\"}}, \"type\": \"scattergeo\"}], \"scattergl\": [{\"marker\": {\"colorbar\": {\"outlinewidth\": 0, \"ticks\": \"\"}}, \"type\": \"scattergl\"}], \"scattermapbox\": [{\"marker\": {\"colorbar\": {\"outlinewidth\": 0, \"ticks\": \"\"}}, \"type\": \"scattermapbox\"}], \"scatterpolar\": [{\"marker\": {\"colorbar\": {\"outlinewidth\": 0, \"ticks\": \"\"}}, \"type\": \"scatterpolar\"}], \"scatterpolargl\": [{\"marker\": {\"colorbar\": {\"outlinewidth\": 0, \"ticks\": \"\"}}, \"type\": \"scatterpolargl\"}], \"scatterternary\": [{\"marker\": {\"colorbar\": {\"outlinewidth\": 0, \"ticks\": \"\"}}, \"type\": \"scatterternary\"}], \"surface\": [{\"colorbar\": {\"outlinewidth\": 0, \"ticks\": \"\"}, \"colorscale\": [[0.0, \"#0d0887\"], [0.1111111111111111, \"#46039f\"], [0.2222222222222222, \"#7201a8\"], [0.3333333333333333, \"#9c179e\"], [0.4444444444444444, \"#bd3786\"], [0.5555555555555556, \"#d8576b\"], [0.6666666666666666, \"#ed7953\"], [0.7777777777777778, \"#fb9f3a\"], [0.8888888888888888, \"#fdca26\"], [1.0, \"#f0f921\"]], \"type\": \"surface\"}], \"table\": [{\"cells\": {\"fill\": {\"color\": \"#EBF0F8\"}, \"line\": {\"color\": \"white\"}}, \"header\": {\"fill\": {\"color\": \"#C8D4E3\"}, \"line\": {\"color\": \"white\"}}, \"type\": \"table\"}]}, \"layout\": {\"annotationdefaults\": {\"arrowcolor\": \"#2a3f5f\", \"arrowhead\": 0, \"arrowwidth\": 1}, \"coloraxis\": {\"colorbar\": {\"outlinewidth\": 0, \"ticks\": \"\"}}, \"colorscale\": {\"diverging\": [[0, \"#8e0152\"], [0.1, \"#c51b7d\"], [0.2, \"#de77ae\"], [0.3, \"#f1b6da\"], [0.4, \"#fde0ef\"], [0.5, \"#f7f7f7\"], [0.6, \"#e6f5d0\"], [0.7, \"#b8e186\"], [0.8, \"#7fbc41\"], [0.9, \"#4d9221\"], [1, \"#276419\"]], \"sequential\": [[0.0, \"#0d0887\"], [0.1111111111111111, \"#46039f\"], [0.2222222222222222, \"#7201a8\"], [0.3333333333333333, \"#9c179e\"], [0.4444444444444444, \"#bd3786\"], [0.5555555555555556, \"#d8576b\"], [0.6666666666666666, \"#ed7953\"], [0.7777777777777778, \"#fb9f3a\"], [0.8888888888888888, \"#fdca26\"], [1.0, \"#f0f921\"]], \"sequentialminus\": [[0.0, \"#0d0887\"], [0.1111111111111111, \"#46039f\"], [0.2222222222222222, \"#7201a8\"], [0.3333333333333333, \"#9c179e\"], [0.4444444444444444, \"#bd3786\"], [0.5555555555555556, \"#d8576b\"], [0.6666666666666666, \"#ed7953\"], [0.7777777777777778, \"#fb9f3a\"], [0.8888888888888888, \"#fdca26\"], [1.0, \"#f0f921\"]]}, \"colorway\": [\"#636efa\", \"#EF553B\", \"#00cc96\", \"#ab63fa\", \"#FFA15A\", \"#19d3f3\", \"#FF6692\", \"#B6E880\", \"#FF97FF\", \"#FECB52\"], \"font\": {\"color\": \"#2a3f5f\"}, \"geo\": {\"bgcolor\": \"white\", \"lakecolor\": \"white\", \"landcolor\": \"#E5ECF6\", \"showlakes\": true, \"showland\": true, \"subunitcolor\": \"white\"}, \"hoverlabel\": {\"align\": \"left\"}, \"hovermode\": \"closest\", \"mapbox\": {\"style\": \"light\"}, \"paper_bgcolor\": \"white\", \"plot_bgcolor\": \"#E5ECF6\", \"polar\": {\"angularaxis\": {\"gridcolor\": \"white\", \"linecolor\": \"white\", \"ticks\": \"\"}, \"bgcolor\": \"#E5ECF6\", \"radialaxis\": {\"gridcolor\": \"white\", \"linecolor\": \"white\", \"ticks\": \"\"}}, \"scene\": {\"xaxis\": {\"backgroundcolor\": \"#E5ECF6\", \"gridcolor\": \"white\", \"gridwidth\": 2, \"linecolor\": \"white\", \"showbackground\": true, \"ticks\": \"\", \"zerolinecolor\": \"white\"}, \"yaxis\": {\"backgroundcolor\": \"#E5ECF6\", \"gridcolor\": \"white\", \"gridwidth\": 2, \"linecolor\": \"white\", \"showbackground\": true, \"ticks\": \"\", \"zerolinecolor\": \"white\"}, \"zaxis\": {\"backgroundcolor\": \"#E5ECF6\", \"gridcolor\": \"white\", \"gridwidth\": 2, \"linecolor\": \"white\", \"showbackground\": true, \"ticks\": \"\", \"zerolinecolor\": \"white\"}}, \"shapedefaults\": {\"line\": {\"color\": \"#2a3f5f\"}}, \"ternary\": {\"aaxis\": {\"gridcolor\": \"white\", \"linecolor\": \"white\", \"ticks\": \"\"}, \"baxis\": {\"gridcolor\": \"white\", \"linecolor\": \"white\", \"ticks\": \"\"}, \"bgcolor\": \"#E5ECF6\", \"caxis\": {\"gridcolor\": \"white\", \"linecolor\": \"white\", \"ticks\": \"\"}}, \"title\": {\"x\": 0.05}, \"xaxis\": {\"automargin\": true, \"gridcolor\": \"white\", \"linecolor\": \"white\", \"ticks\": \"\", \"title\": {\"standoff\": 15}, \"zerolinecolor\": \"white\", \"zerolinewidth\": 2}, \"yaxis\": {\"automargin\": true, \"gridcolor\": \"white\", \"linecolor\": \"white\", \"ticks\": \"\", \"title\": {\"standoff\": 15}, \"zerolinecolor\": \"white\", \"zerolinewidth\": 2}}}, \"xaxis\": {\"anchor\": \"y\", \"domain\": [0.0, 1.0], \"title\": {\"text\": \"Number of times of used quotes\"}, \"type\": \"log\"}, \"yaxis\": {\"anchor\": \"x\", \"domain\": [0.0, 1.0], \"title\": {\"text\": \"Number of quotes\"}, \"type\": \"log\"}},\n",
              "                        {\"responsive\": true}\n",
              "                    ).then(function(){\n",
              "                            \n",
              "var gd = document.getElementById('1b28ad83-4975-4d1e-ba6e-fd55898b1e7e');\n",
              "var x = new MutationObserver(function (mutations, observer) {{\n",
              "        var display = window.getComputedStyle(gd).display;\n",
              "        if (!display || display === 'none') {{\n",
              "            console.log([gd, 'removed!']);\n",
              "            Plotly.purge(gd);\n",
              "            observer.disconnect();\n",
              "        }}\n",
              "}});\n",
              "\n",
              "// Listen for the removal of the full notebook cells\n",
              "var notebookContainer = gd.closest('#notebook-container');\n",
              "if (notebookContainer) {{\n",
              "    x.observe(notebookContainer, {childList: true});\n",
              "}}\n",
              "\n",
              "// Listen for the clearing of the current output cell\n",
              "var outputEl = gd.closest('.output');\n",
              "if (outputEl) {{\n",
              "    x.observe(outputEl, {childList: true});\n",
              "}}\n",
              "\n",
              "                        })\n",
              "                };\n",
              "                \n",
              "            </script>\n",
              "        </div>\n",
              "</body>\n",
              "</html>"
            ]
          },
          "metadata": {}
        }
      ]
    },
    {
      "cell_type": "code",
      "execution_count": 14,
      "metadata": {
        "colab": {
          "base_uri": "https://localhost:8080/"
        },
        "id": "o058FNVfXuNA",
        "outputId": "bdd02eb6-ffdf-4757-c519-104e6fc90a64"
      },
      "outputs": [
        {
          "output_type": "execute_result",
          "data": {
            "text/plain": [
              "dailyclimate.org              7375\n",
              "carbonbrief.org               6375\n",
              "insideclimatenews.org         5172\n",
              "breitbart.com                 3468\n",
              "theguardian.com               3164\n",
              "climatechangenews.com         3006\n",
              "thehill.com                   2929\n",
              "washingtonexaminer.com        2827\n",
              "commondreams.org              2807\n",
              "wordpress.com                 2495\n",
              "nytimes.com                   2325\n",
              "cbc.ca                        2302\n",
              "dailycaller.com               2248\n",
              "nationalobserver.com          2223\n",
              "yaleclimateconnections.org    2165\n",
              "msn.com                       2138\n",
              "politico.com                  2070\n",
              "afr.com                       2054\n",
              "thinkprogress.org             2008\n",
              "independent.co.uk             1776\n",
              "dtype: int64"
            ]
          },
          "metadata": {},
          "execution_count": 14
        }
      ],
      "source": [
        "# Number of quotations quoted only by 1 journal\n",
        "quotation_by_single_newspaper=[]\n",
        "for el in data_all['domain_name']:\n",
        "  if np.size(el)<=1:\n",
        "    quotation_by_single_newspaper.extend(el)\n",
        "pd.Series(quotation_by_single_newspaper).value_counts().head(20)"
      ]
    },
    {
      "cell_type": "code",
      "execution_count": 20,
      "metadata": {
        "colab": {
          "base_uri": "https://localhost:8080/"
        },
        "id": "4B6bBUTv5stk",
        "outputId": "de50698b-8b9b-4e9c-9130-d72665a2ed0b"
      },
      "outputs": [
        {
          "output_type": "stream",
          "name": "stdout",
          "text": [
            "Breitbart : \n",
            "breitbart.com           23184\n",
            "yahoo.com                5180\n",
            "msn.com                  4691\n",
            "news12.com               4370\n",
            "kdhnews.com              4183\n",
            "seattletimes.com         3816\n",
            "sfgate.com               3810\n",
            "startribune.com          3623\n",
            "washingtontimes.com      3609\n",
            "wftv.com                 3524\n",
            "wtop.com                 3337\n",
            "mysanantonio.com         3199\n",
            "wsbradio.com             3153\n",
            "wboc.com                 3130\n",
            "ctpost.com               3122\n",
            "wthr.com                 3067\n",
            "wsoctv.com               3012\n",
            "stamfordadvocate.com     2967\n",
            "newstimes.com            2946\n",
            "phys.org                 2914\n",
            "dtype: int64\n",
            "\n",
            "Inside climate news : \n",
            "insideclimatenews.org          19972\n",
            "environmentalhealthnews.org     2675\n",
            "dailyclimate.org                2644\n",
            "nytimes.com                     1864\n",
            "msn.com                         1807\n",
            "yahoo.com                       1230\n",
            "thehill.com                     1142\n",
            "startribune.com                  914\n",
            "seattletimes.com                 819\n",
            "sfgate.com                       804\n",
            "breitbart.com                    804\n",
            "cnbc.com                         689\n",
            "washingtontimes.com              651\n",
            "washingtonpost.com               645\n",
            "eenews.net                       639\n",
            "lmtonline.com                    639\n",
            "kdhnews.com                      583\n",
            "mysanantonio.com                 556\n",
            "newsmax.com                      545\n",
            "wtop.com                         517\n",
            "dtype: int64\n"
          ]
        }
      ],
      "source": [
        "# Quotations and and who also uses them  for breitbart and inside climate news\n",
        "breitbart_uses_acc=[]\n",
        "inside_uses_acc=[]\n",
        "for el in data_all['domain_name']:\n",
        "  if el.count('breitbart.com')>=1:\n",
        "    breitbart_uses_acc.extend(set(el))\n",
        "  if el.count('insideclimatenews.org')>=1:\n",
        "    inside_uses_acc.extend(set(el))\n",
        "\n",
        "breitbart_uses=pd.Series(breitbart_uses_acc).value_counts()\n",
        "inside_climate_news_uses=pd.Series(inside_uses_acc).value_counts()\n",
        "\n",
        "print(\"Breitbart : \")\n",
        "print(breitbart_uses.head(20))\n",
        "print(\"\\nInside climate news : \")\n",
        "print(inside_climate_news_uses.head(20))"
      ]
    },
    {
      "cell_type": "code",
      "execution_count": 27,
      "metadata": {
        "id": "LbBDDqZciZFG",
        "colab": {
          "base_uri": "https://localhost:8080/",
          "height": 248
        },
        "outputId": "03b0f613-a7db-40d0-d554-32d8fbfac2bf"
      },
      "outputs": [
        {
          "output_type": "display_data",
          "data": {
            "image/png": "[encoded data removed]",
            "text/plain": [
              "<Figure size 432x288 with 1 Axes>"
            ]
          },
          "metadata": {}
        }
      ],
      "source": [
        "# Generate a networkx graph of uses quotations\n",
        "import networkx as nx\n",
        "import matplotlib.pyplot as plt\n",
        "import matplotlib as mpl\n",
        "\n",
        "breightbart_score = breitbart_uses.loc['breitbart.com']\n",
        "carbonbrief_score = inside_climate_news_uses.loc['breitbart.com']\n",
        "\n",
        "Dict = {\"breitbart.com\": 0, \"insideclimatenews.org\": 1}\n",
        "nb_top = 70\n",
        "\n",
        "cmap = plt.cm.Accent\n",
        "norm = mpl.colors.Normalize(vmin=0, vmax=2)\n",
        "m = plt.cm.ScalarMappable(norm=norm, cmap=cmap)\n",
        "G = nx.Graph()\n",
        "G.add_nodes_from(Dict.keys())\n",
        "\n",
        "for index, row in pd.DataFrame(breitbart_uses).head(nb_top).iterrows():\n",
        "  if index != 'breitbart.com':\n",
        "    Dict[index] = 2\n",
        "    G.add_weighted_edges_from([('breitbart.com', index, breightbart_score/row)])\n",
        "\n",
        "for index, row in pd.DataFrame(inside_climate_news_uses).head(nb_top).iterrows():\n",
        "  if index != 'insideclimatenews.org':\n",
        "    G.add_weighted_edges_from([('insideclimatenews.org', index, carbonbrief_score/row)])\n",
        "    if index != 'breitbart.com':\n",
        "      Dict[index] = 2\n",
        "\n",
        "nodelist,node_color = zip(*Dict.items())\n",
        "nx.draw_networkx(G, with_labels=False, nodelist=nodelist, node_size=50, node_color=node_color,vmin=0.0,vmax=2.0, cmap=cmap)\n",
        "plt.show()"
      ]
    },
    {
      "cell_type": "code",
      "execution_count": 37,
      "metadata": {
        "colab": {
          "base_uri": "https://localhost:8080/",
          "height": 542
        },
        "id": "-8dTV3pC3hyX",
        "outputId": "6751f7fa-c3dd-44e2-cef7-c3e7296383ae"
      },
      "outputs": [
        {
          "output_type": "display_data",
          "data": {
            "text/html": [
              "<html>\n",
              "<head><meta charset=\"utf-8\" /></head>\n",
              "<body>\n",
              "    <div>\n",
              "            <script src=\"https://cdnjs.cloudflare.com/ajax/libs/mathjax/2.7.5/MathJax.js?config=TeX-AMS-MML_SVG\"></script><script type=\"text/javascript\">if (window.MathJax) {MathJax.Hub.Config({SVG: {font: \"STIX-Web\"}});}</script>\n",
              "                <script type=\"text/javascript\">window.PlotlyConfig = {MathJaxConfig: 'local'};</script>\n",
              "        <script src=\"https://cdn.plot.ly/plotly-latest.min.js\"></script>    \n",
              "            <div id=\"75e63db5-9bf3-4ce2-9fa2-34256e893621\" class=\"plotly-graph-div\" style=\"height:525px; width:100%;\"></div>\n",
              "            <script type=\"text/javascript\">\n",
              "                \n",
              "                    window.PLOTLYENV=window.PLOTLYENV || {};\n",
              "                    \n",
              "                if (document.getElementById(\"75e63db5-9bf3-4ce2-9fa2-34256e893621\")) {\n",
              "                    Plotly.newPlot(\n",
              "                        '75e63db5-9bf3-4ce2-9fa2-34256e893621',\n",
              "                        [{\"hoverinfo\": \"none\", \"line\": {\"color\": \"#888\", \"width\": 0.5}, \"mode\": \"lines\", \"type\": \"scatter\", \"x\": [0.20760430292107548, -0.017237611782338815, null, 0.20760430292107548, 0.06975279320069865, null, 0.20760430292107548, 0.1946631753557282, null, 0.20760430292107548, -0.06754831420574318, null, 0.20760430292107548, 0.04170102764108572, null, 0.20760430292107548, 0.2694245745820848, null, 0.20760430292107548, 0.04797491406883582, null, 0.20760430292107548, -0.01774178866848215, null, 0.20760430292107548, 0.14592459236895677, null, 0.20760430292107548, 0.00042076145212128065, null, 0.20760430292107548, 0.051072447599726796, null, 0.20760430292107548, 0.10629405973760586, null, 0.20760430292107548, 0.4182252639632791, null, 0.20760430292107548, 0.08559204477972329, null, 0.20760430292107548, 0.10653596621638309, null, 0.20760430292107548, 0.20113688336213462, null, 0.20760430292107548, -0.016126665216354773, null, 0.20760430292107548, 0.13056567781506392, null, 0.20760430292107548, 0.4137099733580221, null, 0.20760430292107548, -0.03584651820502772, null, 0.20760430292107548, 0.3615060696957034, null, 0.20760430292107548, 0.15857337202631408, null, 0.20760430292107548, 0.022158271206852608, null, 0.20760430292107548, -0.015461265985186488, null, 0.20760430292107548, 0.46414621190835875, null, 0.20760430292107548, 0.11470046742275253, null, 0.20760430292107548, 0.05818144201657511, null, 0.20760430292107548, 0.4406926828509574, null, 0.20760430292107548, 0.17608131715468914, null, 0.20760430292107548, 0.3905138986455695, null, 0.20760430292107548, 0.16608969305645238, null, 0.20760430292107548, 0.42461287332656483, null, 0.20760430292107548, 0.2527830157493929, null, 0.20760430292107548, 0.4273137765042203, null, 0.20760430292107548, 0.3687856199236822, null, 0.20760430292107548, 0.010959846243876279, null, 0.20760430292107548, 0.2714544060559648, null, 0.20760430292107548, 0.32634269783684483, null, 0.20760430292107548, 0.15909641600013627, null, 0.20760430292107548, 0.22568946283063968, null, 0.20760430292107548, 0.30954859924058536, null, 0.20760430292107548, 0.1462518747639051, null, 0.20760430292107548, 0.025338321253908374, null, 0.20760430292107548, 0.3815968361757193, null, 0.20760430292107548, 0.09634050519379705, null, 0.20760430292107548, 0.3584152733812798, null, 0.20760430292107548, 0.04336092675547719, null, 0.20760430292107548, 0.34436618351852, null, 0.20760430292107548, 0.036564920828491776, null, 0.20760430292107548, 0.06829648550342407, null, 0.20760430292107548, 0.2047763680129913, null, 0.20760430292107548, 0.14734841638547572, null, 0.20760430292107548, 0.4227032569133544, null, 0.20760430292107548, 0.30371123678671264, null, 0.20760430292107548, 0.2501526615899792, null, 0.20760430292107548, 0.2997876134398188, null, 0.20760430292107548, 0.32222258674099796, null, 0.20760430292107548, 0.32705028802778646, null, 0.20760430292107548, 0.39096449866403454, null, 0.20760430292107548, 0.391558323475482, null, 0.20760430292107548, 0.42174906547527086, null, 0.20760430292107548, 0.23371738252269028, null, 0.20760430292107548, 0.36451983243700503, null, 0.20760430292107548, 0.07557374571148183, null, 0.20760430292107548, 0.3152096115351713, null, 0.20760430292107548, 0.08861058865509384, null, 0.20760430292107548, 0.20882767748940378, null, 0.20760430292107548, 0.3235881053403148, null, 0.20760430292107548, 0.09382055921479933, null, 0.20760430292107548, -0.1661243360988247, null, -0.1661243360988247, -0.9999999999999999, null, -0.1661243360988247, -0.8186815199424999, null, -0.1661243360988247, -0.8662814349866856, null, -0.1661243360988247, 0.06975279320069865, null, -0.1661243360988247, -0.017237611782338815, null, -0.1661243360988247, -0.4015267450165933, null, -0.1661243360988247, 0.04797491406883582, null, -0.1661243360988247, 0.04170102764108572, null, -0.1661243360988247, 0.2694245745820848, null, -0.1661243360988247, -0.6661765132090858, null, -0.1661243360988247, -0.01774178866848215, null, -0.1661243360988247, -0.48602839699780526, null, -0.1661243360988247, -0.2559697049626484, null, -0.1661243360988247, -0.5950962983608238, null, -0.1661243360988247, -0.06754831420574318, null, -0.1661243360988247, 0.051072447599726796, null, -0.1661243360988247, 0.22568946283063968, null, -0.1661243360988247, 0.00042076145212128065, null, -0.1661243360988247, 0.1946631753557282, null, -0.1661243360988247, 0.07557374571148183, null, -0.1661243360988247, -0.07063737118718243, null, -0.1661243360988247, -0.5828448615077465, null, -0.1661243360988247, 0.14592459236895677, null, -0.1661243360988247, -0.1465499912404795, null, -0.1661243360988247, -0.02048840874474709, null, -0.1661243360988247, -0.015461265985186488, null, -0.1661243360988247, -0.5306702436252715, null, -0.1661243360988247, -0.48104960506470884, null, -0.1661243360988247, -0.016126665216354773, null, -0.1661243360988247, -0.21447455957882217, null, -0.1661243360988247, 0.08559204477972329, null, -0.1661243360988247, 0.06829648550342407, null, -0.1661243360988247, 0.20113688336213462, null, -0.1661243360988247, -0.03584651820502772, null, -0.1661243360988247, 0.13056567781506392, null, -0.1661243360988247, 0.036564920828491776, null, -0.1661243360988247, 0.022158271206852608, null, -0.1661243360988247, 0.05818144201657511, null, -0.1661243360988247, -0.521503011875112, null, -0.1661243360988247, -0.11219859596858132, null, -0.1661243360988247, 0.10653596621638309, null, -0.1661243360988247, -0.20614617243216304, null, -0.1661243360988247, -0.4286391110026496, null, -0.1661243360988247, -0.29260896716425744, null, -0.1661243360988247, 0.025338321253908374, null, -0.1661243360988247, -0.45380443264460524, null, -0.1661243360988247, -0.41475072597643287, null, -0.1661243360988247, -0.395757948737759, null, -0.1661243360988247, 0.15857337202631408, null, -0.1661243360988247, -0.32912598187568765, null, -0.1661243360988247, 0.16608969305645238, null, -0.1661243360988247, -0.4237212903334486, null, -0.1661243360988247, -0.4994889147739215, null, -0.1661243360988247, -0.5009782110450479, null, -0.1661243360988247, -0.4741495430562385, null, -0.1661243360988247, 0.14734841638547572, null, -0.1661243360988247, -0.4172255542064653, null, -0.1661243360988247, 0.09634050519379705, null, -0.1661243360988247, 0.010959846243876279, null, -0.1661243360988247, 0.04336092675547719, null, -0.1661243360988247, -0.36594849333490914, null, -0.1661243360988247, -0.24845660713245926, null, -0.1661243360988247, 0.08861058865509384, null, -0.1661243360988247, -0.33589227824389845, null, -0.1661243360988247, -0.4132937495203493, null, -0.1661243360988247, 0.09382055921479933, null, -0.1661243360988247, 0.11470046742275253, null, -0.1661243360988247, 0.10629405973760586, null], \"y\": [0.1335809193014653, 0.32264895510665265, null, 0.1335809193014653, 0.37133031763951524, null, 0.1335809193014653, -0.1499893956476906, null, 0.1335809193014653, 0.1821934396720857, null, 0.1335809193014653, 0.24910004565871857, null, 0.1335809193014653, -0.0999735522506461, null, 0.1335809193014653, 0.2907553194555575, null, 0.1335809193014653, 0.23384470638904364, null, 0.1335809193014653, -0.10056266105930611, null, 0.1335809193014653, 0.19716385626328853, null, 0.1335809193014653, -0.07160228025045105, null, 0.1335809193014653, -0.0775401907283207, null, 0.1335809193014653, -0.024566007258965253, null, 0.1335809193014653, 0.1720596071647294, null, 0.1335809193014653, 0.06272830954829553, null, 0.1335809193014653, -0.08137936261963052, null, 0.1335809193014653, 0.14876942531338366, null, 0.1335809193014653, -0.12173815497832968, null, 0.1335809193014653, 0.3109727130249837, null, 0.1335809193014653, 0.10638369186645663, null, 0.1335809193014653, 0.34695329493015736, null, 0.1335809193014653, -0.05543294066000804, null, 0.1335809193014653, 0.15740527317167638, null, 0.1335809193014653, 0.057653414785550666, null, 0.1335809193014653, 0.16860486841191155, null, 0.1335809193014653, -0.012656910834102508, null, 0.1335809193014653, -0.022382802979344626, null, 0.1335809193014653, 0.04364158090816174, null, 0.1335809193014653, 0.36627046528617696, null, 0.1335809193014653, 0.22148023208131556, null, 0.1335809193014653, -0.010177891542135236, null, 0.1335809193014653, 0.2585987796514262, null, 0.1335809193014653, 0.370697432157015, null, 0.1335809193014653, 0.07913792302517492, null, 0.1335809193014653, -0.0010695619920212298, null, 0.1335809193014653, 0.10101753418440672, null, 0.1335809193014653, 0.3022384121653116, null, 0.1335809193014653, -0.022332772487142737, null, 0.1335809193014653, 0.2796824914712917, null, 0.1335809193014653, -0.01162178968495248, null, 0.1335809193014653, 0.18953586749063792, null, 0.1335809193014653, 0.31802719685249414, null, 0.1335809193014653, 0.03528298166676357, null, 0.1335809193014653, 0.04837569174037514, null, 0.1335809193014653, -0.03438924512217319, null, 0.1335809193014653, 0.27600198036038304, null, 0.1335809193014653, 0.00779042989213792, null, 0.1335809193014653, 0.22728162544116218, null, 0.1335809193014653, 0.0798478882765455, null, 0.1335809193014653, 0.07213934403228647, null, 0.1335809193014653, 0.32857200131202097, null, 0.1335809193014653, 0.03095193628192757, null, 0.1335809193014653, 0.2020036851899417, null, 0.1335809193014653, 0.2528583206996796, null, 0.1335809193014653, 0.23790650077932457, null, 0.1335809193014653, 0.3374309580681402, null, 0.1335809193014653, 0.07877670912879674, null, 0.1335809193014653, 0.028203269014955346, null, 0.1335809193014653, 0.17384824990463132, null, 0.1335809193014653, 0.10186265898090431, null, 0.1335809193014653, 0.13420122452889172, null, 0.1335809193014653, 0.31603678847984895, null, 0.1335809193014653, 0.1320312428145482, null, 0.1335809193014653, 0.14525890261453864, null, 0.1335809193014653, 0.29202446233340507, null, 0.1335809193014653, 0.10340548139941232, null, 0.1335809193014653, 0.2656470256300582, null, 0.1335809193014653, 0.13606640519382412, null, 0.1335809193014653, 0.02940229049926947, null, 0.1335809193014653, -0.111638759989785, null, -0.111638759989785, -0.23819634158835767, null, -0.111638759989785, -0.6404912943366068, null, -0.111638759989785, 0.11144610724677748, null, -0.111638759989785, 0.37133031763951524, null, -0.111638759989785, 0.32264895510665265, null, -0.111638759989785, -0.6885952863932743, null, -0.111638759989785, 0.2907553194555575, null, -0.111638759989785, 0.24910004565871857, null, -0.111638759989785, -0.0999735522506461, null, -0.111638759989785, -0.08013485336689641, null, -0.111638759989785, 0.23384470638904364, null, -0.111638759989785, -0.48972865557365297, null, -0.111638759989785, -0.5949018110554416, null, -0.111638759989785, -0.346703334529813, null, -0.111638759989785, 0.1821934396720857, null, -0.111638759989785, -0.07160228025045105, null, -0.111638759989785, -0.01162178968495248, null, -0.111638759989785, 0.19716385626328853, null, -0.111638759989785, -0.1499893956476906, null, -0.111638759989785, 0.14525890261453864, null, -0.111638759989785, -0.5305414468397508, null, -0.111638759989785, -0.1920031572283506, null, -0.111638759989785, -0.10056266105930611, null, -0.111638759989785, -0.5137755324286786, null, -0.111638759989785, -0.46607770209653504, null, -0.111638759989785, 0.057653414785550666, null, -0.111638759989785, 0.05679136256166315, null, -0.111638759989785, 0.13432380196723157, null, -0.111638759989785, 0.14876942531338366, null, -0.111638759989785, -0.4822208969452488, null, -0.111638759989785, 0.1720596071647294, null, -0.111638759989785, 0.07213934403228647, null, -0.111638759989785, -0.08137936261963052, null, -0.111638759989785, 0.10638369186645663, null, -0.111638759989785, -0.12173815497832968, null, -0.111638759989785, 0.0798478882765455, null, -0.111638759989785, 0.15740527317167638, null, -0.111638759989785, -0.022382802979344626, null, -0.111638759989785, -0.018803226629971456, null, -0.111638759989785, -0.41856739194584186, null, -0.111638759989785, 0.06272830954829553, null, -0.111638759989785, -0.40615401281824354, null, -0.111638759989785, -0.3383642272234798, null, -0.111638759989785, -0.4492736508068874, null, -0.111638759989785, 0.03528298166676357, null, -0.111638759989785, -0.23283608797198185, null, -0.111638759989785, 0.09351884577799625, null, -0.111638759989785, -0.40084297172601807, null, -0.111638759989785, -0.05543294066000804, null, -0.111638759989785, -0.3878118185752708, null, -0.111638759989785, -0.010177891542135236, null, -0.111638759989785, -0.06076980440051443, null, -0.111638759989785, -0.16935194190737174, null, -0.111638759989785, -0.08908794559760622, null, -0.111638759989785, -0.2871047844945217, null, -0.111638759989785, 0.03095193628192757, null, -0.111638759989785, -0.14621303820468445, null, -0.111638759989785, -0.03438924512217319, null, -0.111638759989785, 0.10101753418440672, null, -0.111638759989785, 0.00779042989213792, null, -0.111638759989785, -0.21734895968466716, null, -0.111638759989785, -0.3292769674970198, null, -0.111638759989785, 0.10340548139941232, null, -0.111638759989785, -0.29875364606599947, null, -0.111638759989785, 0.011220823223364176, null, -0.111638759989785, 0.02940229049926947, null, -0.111638759989785, -0.012656910834102508, null, -0.111638759989785, -0.0775401907283207, null]}, {\"hoverinfo\": \"text\", \"marker\": {\"color\": [70, 69, 2, 2, 2, 2, 2, 2, 2, 2, 2, 2, 2, 2, 1, 2, 2, 2, 2, 2, 1, 2, 1, 2, 2, 2, 1, 2, 2, 1, 1, 1, 2, 1, 1, 1, 1, 2, 1, 1, 1, 2, 1, 1, 2, 1, 2, 1, 2, 1, 2, 2, 1, 2, 1, 1, 1, 1, 1, 1, 1, 1, 1, 1, 1, 2, 1, 2, 1, 1, 2, 1, 1, 1, 1, 1, 1, 1, 1, 1, 1, 1, 1, 1, 1, 1, 1, 1, 1, 1, 1, 1, 1, 1, 1, 1, 1, 1, 1, 1, 1, 1, 1, 1], \"colorbar\": {\"thickness\": 15, \"title\": {\"side\": \"right\", \"text\": \"Node Connections\"}, \"xanchor\": \"left\"}, \"colorscale\": [[0.0, \"rgb(255,255,217)\"], [0.125, \"rgb(237,248,177)\"], [0.25, \"rgb(199,233,180)\"], [0.375, \"rgb(127,205,187)\"], [0.5, \"rgb(65,182,196)\"], [0.625, \"rgb(29,145,192)\"], [0.75, \"rgb(34,94,168)\"], [0.875, \"rgb(37,52,148)\"], [1.0, \"rgb(8,29,88)\"]], \"line\": {\"width\": 2}, \"reversescale\": true, \"showscale\": true, \"size\": 10}, \"mode\": \"markers\", \"text\": [\"breitbart.com\", \"insideclimatenews.org\", \"yahoo.com\", \"msn.com\", \"news12.com\", \"kdhnews.com\", \"seattletimes.com\", \"sfgate.com\", \"startribune.com\", \"washingtontimes.com\", \"wftv.com\", \"wtop.com\", \"mysanantonio.com\", \"wsbradio.com\", \"wboc.com\", \"ctpost.com\", \"wthr.com\", \"wsoctv.com\", \"stamfordadvocate.com\", \"newstimes.com\", \"phys.org\", \"indiatimes.com\", \"wokv.com\", \"gazette.com\", \"newsok.com\", \"tbo.com\", \"upi.com\", \"channelnewsasia.com\", \"thehour.com\", \"ksl.com\", \"readingeagle.com\", \"ctvnews.ca\", \"kob.com\", \"dailyherald.com\", \"wsiltv.com\", \"abc-7.com\", \"wsbtv.com\", \"wpxi.com\", \"kiro7.com\", \"bcdemocrat.com\", \"actionnewsjax.com\", \"newsmax.com\", \"herald-dispatch.com\", \"lasvegassun.com\", \"infotel.ca\", \"foxnews.com\", \"columbian.com\", \"lethbridgeherald.com\", \"chron.com\", \"digitaljournal.com\", \"expressnews.com\", \"spokesman.com\", \"smdailyjournal.com\", \"nydailynews.com\", \"wect.com\", \"timesunion.com\", \"nhregister.com\", \"pulse.ng\", \"journal-news.com\", \"wral.com\", \"krmg.com\", \"fox13memphis.com\", \"fox23.com\", \"570news.com\", \"ivpressonline.com\", \"sacbee.com\", \"newsadvance.com\", \"therepublic.com\", \"wacotrib.com\", \"go.com\", \"stltoday.com\", \"environmentalhealthnews.org\", \"dailyclimate.org\", \"nytimes.com\", \"thehill.com\", \"cnbc.com\", \"washingtonpost.com\", \"eenews.net\", \"lmtonline.com\", \"greentechmedia.com\", \"latimes.com\", \"ecowatch.com\", \"huffingtonpost.com\", \"sandiegouniontribune.com\", \"reuters.com\", \"bostonglobe.com\", \"kansascity.com\", \"investing.com\", \"nwaonline.com\", \"chicagotribune.com\", \"kansas.com\", \"bloomberg.com\", \"denverpost.com\", \"trust.org\", \"miamiherald.com\", \"cbsnews.com\", \"whig.com\", \"hypervocal.com\", \"abqjournal.com\", \"adn.com\", \"houstonchronicle.com\", \"cnn.com\", \"durangoherald.com\", \"theglobeandmail.com\"], \"type\": \"scatter\", \"x\": [0.20760430292107548, -0.1661243360988247, -0.017237611782338815, 0.06975279320069865, 0.1946631753557282, -0.06754831420574318, 0.04170102764108572, 0.2694245745820848, 0.04797491406883582, -0.01774178866848215, 0.14592459236895677, 0.00042076145212128065, 0.051072447599726796, 0.10629405973760586, 0.4182252639632791, 0.08559204477972329, 0.10653596621638309, 0.20113688336213462, -0.016126665216354773, 0.13056567781506392, 0.4137099733580221, -0.03584651820502772, 0.3615060696957034, 0.15857337202631408, 0.022158271206852608, -0.015461265985186488, 0.46414621190835875, 0.11470046742275253, 0.05818144201657511, 0.4406926828509574, 0.17608131715468914, 0.3905138986455695, 0.16608969305645238, 0.42461287332656483, 0.2527830157493929, 0.4273137765042203, 0.3687856199236822, 0.010959846243876279, 0.2714544060559648, 0.32634269783684483, 0.15909641600013627, 0.22568946283063968, 0.30954859924058536, 0.1462518747639051, 0.025338321253908374, 0.3815968361757193, 0.09634050519379705, 0.3584152733812798, 0.04336092675547719, 0.34436618351852, 0.036564920828491776, 0.06829648550342407, 0.2047763680129913, 0.14734841638547572, 0.4227032569133544, 0.30371123678671264, 0.2501526615899792, 0.2997876134398188, 0.32222258674099796, 0.32705028802778646, 0.39096449866403454, 0.391558323475482, 0.42174906547527086, 0.23371738252269028, 0.36451983243700503, 0.07557374571148183, 0.3152096115351713, 0.08861058865509384, 0.20882767748940378, 0.3235881053403148, 0.09382055921479933, -0.9999999999999999, -0.8186815199424999, -0.8662814349866856, -0.4015267450165933, -0.6661765132090858, -0.48602839699780526, -0.2559697049626484, -0.5950962983608238, -0.07063737118718243, -0.5828448615077465, -0.1465499912404795, -0.02048840874474709, -0.5306702436252715, -0.48104960506470884, -0.21447455957882217, -0.521503011875112, -0.11219859596858132, -0.20614617243216304, -0.4286391110026496, -0.29260896716425744, -0.45380443264460524, -0.41475072597643287, -0.395757948737759, -0.32912598187568765, -0.4237212903334486, -0.4994889147739215, -0.5009782110450479, -0.4741495430562385, -0.4172255542064653, -0.36594849333490914, -0.24845660713245926, -0.33589227824389845, -0.4132937495203493], \"y\": [0.1335809193014653, -0.111638759989785, 0.32264895510665265, 0.37133031763951524, -0.1499893956476906, 0.1821934396720857, 0.24910004565871857, -0.0999735522506461, 0.2907553194555575, 0.23384470638904364, -0.10056266105930611, 0.19716385626328853, -0.07160228025045105, -0.0775401907283207, -0.024566007258965253, 0.1720596071647294, 0.06272830954829553, -0.08137936261963052, 0.14876942531338366, -0.12173815497832968, 0.3109727130249837, 0.10638369186645663, 0.34695329493015736, -0.05543294066000804, 0.15740527317167638, 0.057653414785550666, 0.16860486841191155, -0.012656910834102508, -0.022382802979344626, 0.04364158090816174, 0.36627046528617696, 0.22148023208131556, -0.010177891542135236, 0.2585987796514262, 0.370697432157015, 0.07913792302517492, -0.0010695619920212298, 0.10101753418440672, 0.3022384121653116, -0.022332772487142737, 0.2796824914712917, -0.01162178968495248, 0.18953586749063792, 0.31802719685249414, 0.03528298166676357, 0.04837569174037514, -0.03438924512217319, 0.27600198036038304, 0.00779042989213792, 0.22728162544116218, 0.0798478882765455, 0.07213934403228647, 0.32857200131202097, 0.03095193628192757, 0.2020036851899417, 0.2528583206996796, 0.23790650077932457, 0.3374309580681402, 0.07877670912879674, 0.028203269014955346, 0.17384824990463132, 0.10186265898090431, 0.13420122452889172, 0.31603678847984895, 0.1320312428145482, 0.14525890261453864, 0.29202446233340507, 0.10340548139941232, 0.2656470256300582, 0.13606640519382412, 0.02940229049926947, -0.23819634158835767, -0.6404912943366068, 0.11144610724677748, -0.6885952863932743, -0.08013485336689641, -0.48972865557365297, -0.5949018110554416, -0.346703334529813, -0.5305414468397508, -0.1920031572283506, -0.5137755324286786, -0.46607770209653504, 0.05679136256166315, 0.13432380196723157, -0.4822208969452488, -0.018803226629971456, -0.41856739194584186, -0.40615401281824354, -0.3383642272234798, -0.4492736508068874, -0.23283608797198185, 0.09351884577799625, -0.40084297172601807, -0.3878118185752708, -0.06076980440051443, -0.16935194190737174, -0.08908794559760622, -0.2871047844945217, -0.14621303820468445, -0.21734895968466716, -0.3292769674970198, -0.29875364606599947, 0.011220823223364176]}],\n",
              "                        {\"hovermode\": \"closest\", \"margin\": {\"b\": 20, \"l\": 5, \"r\": 5, \"t\": 40}, \"showlegend\": false, \"template\": {\"data\": {\"bar\": [{\"error_x\": {\"color\": \"#2a3f5f\"}, \"error_y\": {\"color\": \"#2a3f5f\"}, \"marker\": {\"line\": {\"color\": \"#E5ECF6\", \"width\": 0.5}}, \"type\": \"bar\"}], \"barpolar\": [{\"marker\": {\"line\": {\"color\": \"#E5ECF6\", \"width\": 0.5}}, \"type\": \"barpolar\"}], \"carpet\": [{\"aaxis\": {\"endlinecolor\": \"#2a3f5f\", \"gridcolor\": \"white\", \"linecolor\": \"white\", \"minorgridcolor\": \"white\", \"startlinecolor\": \"#2a3f5f\"}, \"baxis\": {\"endlinecolor\": \"#2a3f5f\", \"gridcolor\": \"white\", \"linecolor\": \"white\", \"minorgridcolor\": \"white\", \"startlinecolor\": \"#2a3f5f\"}, \"type\": \"carpet\"}], \"choropleth\": [{\"colorbar\": {\"outlinewidth\": 0, \"ticks\": \"\"}, \"type\": \"choropleth\"}], \"contour\": [{\"colorbar\": {\"outlinewidth\": 0, \"ticks\": \"\"}, \"colorscale\": [[0.0, \"#0d0887\"], [0.1111111111111111, \"#46039f\"], [0.2222222222222222, \"#7201a8\"], [0.3333333333333333, \"#9c179e\"], [0.4444444444444444, \"#bd3786\"], [0.5555555555555556, \"#d8576b\"], [0.6666666666666666, \"#ed7953\"], [0.7777777777777778, \"#fb9f3a\"], [0.8888888888888888, \"#fdca26\"], [1.0, \"#f0f921\"]], \"type\": \"contour\"}], \"contourcarpet\": [{\"colorbar\": {\"outlinewidth\": 0, \"ticks\": \"\"}, \"type\": \"contourcarpet\"}], \"heatmap\": [{\"colorbar\": {\"outlinewidth\": 0, \"ticks\": \"\"}, \"colorscale\": [[0.0, \"#0d0887\"], [0.1111111111111111, \"#46039f\"], [0.2222222222222222, \"#7201a8\"], [0.3333333333333333, \"#9c179e\"], [0.4444444444444444, \"#bd3786\"], [0.5555555555555556, \"#d8576b\"], [0.6666666666666666, \"#ed7953\"], [0.7777777777777778, \"#fb9f3a\"], [0.8888888888888888, \"#fdca26\"], [1.0, \"#f0f921\"]], \"type\": \"heatmap\"}], \"heatmapgl\": [{\"colorbar\": {\"outlinewidth\": 0, \"ticks\": \"\"}, \"colorscale\": [[0.0, \"#0d0887\"], [0.1111111111111111, \"#46039f\"], [0.2222222222222222, \"#7201a8\"], [0.3333333333333333, \"#9c179e\"], [0.4444444444444444, \"#bd3786\"], [0.5555555555555556, \"#d8576b\"], [0.6666666666666666, \"#ed7953\"], [0.7777777777777778, \"#fb9f3a\"], [0.8888888888888888, \"#fdca26\"], [1.0, \"#f0f921\"]], \"type\": \"heatmapgl\"}], \"histogram\": [{\"marker\": {\"colorbar\": {\"outlinewidth\": 0, \"ticks\": \"\"}}, \"type\": \"histogram\"}], \"histogram2d\": [{\"colorbar\": {\"outlinewidth\": 0, \"ticks\": \"\"}, \"colorscale\": [[0.0, \"#0d0887\"], [0.1111111111111111, \"#46039f\"], [0.2222222222222222, \"#7201a8\"], [0.3333333333333333, \"#9c179e\"], [0.4444444444444444, \"#bd3786\"], [0.5555555555555556, \"#d8576b\"], [0.6666666666666666, \"#ed7953\"], [0.7777777777777778, \"#fb9f3a\"], [0.8888888888888888, \"#fdca26\"], [1.0, \"#f0f921\"]], \"type\": \"histogram2d\"}], \"histogram2dcontour\": [{\"colorbar\": {\"outlinewidth\": 0, \"ticks\": \"\"}, \"colorscale\": [[0.0, \"#0d0887\"], [0.1111111111111111, \"#46039f\"], [0.2222222222222222, \"#7201a8\"], [0.3333333333333333, \"#9c179e\"], [0.4444444444444444, \"#bd3786\"], [0.5555555555555556, \"#d8576b\"], [0.6666666666666666, \"#ed7953\"], [0.7777777777777778, \"#fb9f3a\"], [0.8888888888888888, \"#fdca26\"], [1.0, \"#f0f921\"]], \"type\": \"histogram2dcontour\"}], \"mesh3d\": [{\"colorbar\": {\"outlinewidth\": 0, \"ticks\": \"\"}, \"type\": \"mesh3d\"}], \"parcoords\": [{\"line\": {\"colorbar\": {\"outlinewidth\": 0, \"ticks\": \"\"}}, \"type\": \"parcoords\"}], \"pie\": [{\"automargin\": true, \"type\": \"pie\"}], \"scatter\": [{\"marker\": {\"colorbar\": {\"outlinewidth\": 0, \"ticks\": \"\"}}, \"type\": \"scatter\"}], \"scatter3d\": [{\"line\": {\"colorbar\": {\"outlinewidth\": 0, \"ticks\": \"\"}}, \"marker\": {\"colorbar\": {\"outlinewidth\": 0, \"ticks\": \"\"}}, \"type\": \"scatter3d\"}], \"scattercarpet\": [{\"marker\": {\"colorbar\": {\"outlinewidth\": 0, \"ticks\": \"\"}}, \"type\": \"scattercarpet\"}], \"scattergeo\": [{\"marker\": {\"colorbar\": {\"outlinewidth\": 0, \"ticks\": \"\"}}, \"type\": \"scattergeo\"}], \"scattergl\": [{\"marker\": {\"colorbar\": {\"outlinewidth\": 0, \"ticks\": \"\"}}, \"type\": \"scattergl\"}], \"scattermapbox\": [{\"marker\": {\"colorbar\": {\"outlinewidth\": 0, \"ticks\": \"\"}}, \"type\": \"scattermapbox\"}], \"scatterpolar\": [{\"marker\": {\"colorbar\": {\"outlinewidth\": 0, \"ticks\": \"\"}}, \"type\": \"scatterpolar\"}], \"scatterpolargl\": [{\"marker\": {\"colorbar\": {\"outlinewidth\": 0, \"ticks\": \"\"}}, \"type\": \"scatterpolargl\"}], \"scatterternary\": [{\"marker\": {\"colorbar\": {\"outlinewidth\": 0, \"ticks\": \"\"}}, \"type\": \"scatterternary\"}], \"surface\": [{\"colorbar\": {\"outlinewidth\": 0, \"ticks\": \"\"}, \"colorscale\": [[0.0, \"#0d0887\"], [0.1111111111111111, \"#46039f\"], [0.2222222222222222, \"#7201a8\"], [0.3333333333333333, \"#9c179e\"], [0.4444444444444444, \"#bd3786\"], [0.5555555555555556, \"#d8576b\"], [0.6666666666666666, \"#ed7953\"], [0.7777777777777778, \"#fb9f3a\"], [0.8888888888888888, \"#fdca26\"], [1.0, \"#f0f921\"]], \"type\": \"surface\"}], \"table\": [{\"cells\": {\"fill\": {\"color\": \"#EBF0F8\"}, \"line\": {\"color\": \"white\"}}, \"header\": {\"fill\": {\"color\": \"#C8D4E3\"}, \"line\": {\"color\": \"white\"}}, \"type\": \"table\"}]}, \"layout\": {\"annotationdefaults\": {\"arrowcolor\": \"#2a3f5f\", \"arrowhead\": 0, \"arrowwidth\": 1}, \"coloraxis\": {\"colorbar\": {\"outlinewidth\": 0, \"ticks\": \"\"}}, \"colorscale\": {\"diverging\": [[0, \"#8e0152\"], [0.1, \"#c51b7d\"], [0.2, \"#de77ae\"], [0.3, \"#f1b6da\"], [0.4, \"#fde0ef\"], [0.5, \"#f7f7f7\"], [0.6, \"#e6f5d0\"], [0.7, \"#b8e186\"], [0.8, \"#7fbc41\"], [0.9, \"#4d9221\"], [1, \"#276419\"]], \"sequential\": [[0.0, \"#0d0887\"], [0.1111111111111111, \"#46039f\"], [0.2222222222222222, \"#7201a8\"], [0.3333333333333333, \"#9c179e\"], [0.4444444444444444, \"#bd3786\"], [0.5555555555555556, \"#d8576b\"], [0.6666666666666666, \"#ed7953\"], [0.7777777777777778, \"#fb9f3a\"], [0.8888888888888888, \"#fdca26\"], [1.0, \"#f0f921\"]], \"sequentialminus\": [[0.0, \"#0d0887\"], [0.1111111111111111, \"#46039f\"], [0.2222222222222222, \"#7201a8\"], [0.3333333333333333, \"#9c179e\"], [0.4444444444444444, \"#bd3786\"], [0.5555555555555556, \"#d8576b\"], [0.6666666666666666, \"#ed7953\"], [0.7777777777777778, \"#fb9f3a\"], [0.8888888888888888, \"#fdca26\"], [1.0, \"#f0f921\"]]}, \"colorway\": [\"#636efa\", \"#EF553B\", \"#00cc96\", \"#ab63fa\", \"#FFA15A\", \"#19d3f3\", \"#FF6692\", \"#B6E880\", \"#FF97FF\", \"#FECB52\"], \"font\": {\"color\": \"#2a3f5f\"}, \"geo\": {\"bgcolor\": \"white\", \"lakecolor\": \"white\", \"landcolor\": \"#E5ECF6\", \"showlakes\": true, \"showland\": true, \"subunitcolor\": \"white\"}, \"hoverlabel\": {\"align\": \"left\"}, \"hovermode\": \"closest\", \"mapbox\": {\"style\": \"light\"}, \"paper_bgcolor\": \"white\", \"plot_bgcolor\": \"#E5ECF6\", \"polar\": {\"angularaxis\": {\"gridcolor\": \"white\", \"linecolor\": \"white\", \"ticks\": \"\"}, \"bgcolor\": \"#E5ECF6\", \"radialaxis\": {\"gridcolor\": \"white\", \"linecolor\": \"white\", \"ticks\": \"\"}}, \"scene\": {\"xaxis\": {\"backgroundcolor\": \"#E5ECF6\", \"gridcolor\": \"white\", \"gridwidth\": 2, \"linecolor\": \"white\", \"showbackground\": true, \"ticks\": \"\", \"zerolinecolor\": \"white\"}, \"yaxis\": {\"backgroundcolor\": \"#E5ECF6\", \"gridcolor\": \"white\", \"gridwidth\": 2, \"linecolor\": \"white\", \"showbackground\": true, \"ticks\": \"\", \"zerolinecolor\": \"white\"}, \"zaxis\": {\"backgroundcolor\": \"#E5ECF6\", \"gridcolor\": \"white\", \"gridwidth\": 2, \"linecolor\": \"white\", \"showbackground\": true, \"ticks\": \"\", \"zerolinecolor\": \"white\"}}, \"shapedefaults\": {\"line\": {\"color\": \"#2a3f5f\"}}, \"ternary\": {\"aaxis\": {\"gridcolor\": \"white\", \"linecolor\": \"white\", \"ticks\": \"\"}, \"baxis\": {\"gridcolor\": \"white\", \"linecolor\": \"white\", \"ticks\": \"\"}, \"bgcolor\": \"#E5ECF6\", \"caxis\": {\"gridcolor\": \"white\", \"linecolor\": \"white\", \"ticks\": \"\"}}, \"title\": {\"x\": 0.05}, \"xaxis\": {\"automargin\": true, \"gridcolor\": \"white\", \"linecolor\": \"white\", \"ticks\": \"\", \"title\": {\"standoff\": 15}, \"zerolinecolor\": \"white\", \"zerolinewidth\": 2}, \"yaxis\": {\"automargin\": true, \"gridcolor\": \"white\", \"linecolor\": \"white\", \"ticks\": \"\", \"title\": {\"standoff\": 15}, \"zerolinecolor\": \"white\", \"zerolinewidth\": 2}}}, \"title\": {\"font\": {\"size\": 16}, \"text\": \"Breitbart & InsideClimateNews clusters\"}, \"xaxis\": {\"showgrid\": false, \"showticklabels\": false, \"zeroline\": false}, \"yaxis\": {\"showgrid\": false, \"showticklabels\": false, \"zeroline\": false}},\n",
              "                        {\"responsive\": true}\n",
              "                    ).then(function(){\n",
              "                            \n",
              "var gd = document.getElementById('75e63db5-9bf3-4ce2-9fa2-34256e893621');\n",
              "var x = new MutationObserver(function (mutations, observer) {{\n",
              "        var display = window.getComputedStyle(gd).display;\n",
              "        if (!display || display === 'none') {{\n",
              "            console.log([gd, 'removed!']);\n",
              "            Plotly.purge(gd);\n",
              "            observer.disconnect();\n",
              "        }}\n",
              "}});\n",
              "\n",
              "// Listen for the removal of the full notebook cells\n",
              "var notebookContainer = gd.closest('#notebook-container');\n",
              "if (notebookContainer) {{\n",
              "    x.observe(notebookContainer, {childList: true});\n",
              "}}\n",
              "\n",
              "// Listen for the clearing of the current output cell\n",
              "var outputEl = gd.closest('.output');\n",
              "if (outputEl) {{\n",
              "    x.observe(outputEl, {childList: true});\n",
              "}}\n",
              "\n",
              "                        })\n",
              "                };\n",
              "                \n",
              "            </script>\n",
              "        </div>\n",
              "</body>\n",
              "</html>"
            ]
          },
          "metadata": {}
        }
      ],
      "source": [
        "# Plot graph using plotly for data story\n",
        "import plotly.graph_objects as go\n",
        "edge_x = []\n",
        "edge_y = []\n",
        "\n",
        "pos_ = nx.spring_layout(G)\n",
        "for edge in G.edges():\n",
        "    x0, y0 = pos_[edge[0]]\n",
        "    x1, y1 = pos_[edge[1]]\n",
        "    edge_x.append(x0)\n",
        "    edge_x.append(x1)\n",
        "    edge_x.append(None)\n",
        "    edge_y.append(y0)\n",
        "    edge_y.append(y1)\n",
        "    edge_y.append(None)\n",
        "\n",
        "edge_trace = go.Scatter(\n",
        "    x=edge_x, y=edge_y,\n",
        "    line=dict(width=0.5, color='#888'),\n",
        "    hoverinfo='none',\n",
        "    mode='lines')\n",
        "\n",
        "node_x = []\n",
        "node_y = []\n",
        "for node in G.nodes():\n",
        "    x, y = pos_[node]\n",
        "    node_x.append(x)\n",
        "    node_y.append(y)\n",
        "\n",
        "node_trace = go.Scatter(\n",
        "    x=node_x, y=node_y,\n",
        "    mode='markers',\n",
        "    hoverinfo='text',\n",
        "    marker=dict(\n",
        "        showscale=True,\n",
        "        # colorscale options\n",
        "        #'Greys' | 'YlGnBu' | 'Greens' | 'YlOrRd' | 'Bluered' | 'RdBu' |\n",
        "        #'Reds' | 'Blues' | 'Picnic' | 'Rainbow' | 'Portland' | 'Jet' |\n",
        "        #'Hot' | 'Blackbody' | 'Earth' | 'Electric' | 'Viridis' |\n",
        "        colorscale='YlGnBu',\n",
        "        reversescale=True,\n",
        "        color=[],\n",
        "        size=10,\n",
        "        colorbar=dict(\n",
        "            thickness=15,\n",
        "            title='Node Connections',\n",
        "            xanchor='left',\n",
        "            titleside='right'\n",
        "        ),\n",
        "        line_width=2))\n",
        "\n",
        "node_adjacencies = []\n",
        "node_text = []\n",
        "for node, adjacencies in enumerate(G.adjacency()):\n",
        "    node_adjacencies.append(len(adjacencies[1]))\n",
        "    node_text.append(list(G.nodes)[node])\n",
        "\n",
        "node_trace.marker.color = node_adjacencies\n",
        "node_trace.text = node_text\n",
        "\n",
        "fig = go.Figure(data=[edge_trace, node_trace],\n",
        "             layout=go.Layout(\n",
        "                title='Breitbart & InsideClimateNews clusters',\n",
        "                titlefont_size=16,\n",
        "                showlegend=False,\n",
        "                hovermode='closest',\n",
        "                margin=dict(b=20,l=5,r=5,t=40),\n",
        "                xaxis=dict(showgrid=False, zeroline=False, showticklabels=False),\n",
        "                yaxis=dict(showgrid=False, zeroline=False, showticklabels=False))\n",
        "                )\n",
        "fig.write_html('/content/drive/MyDrive/cluster_graph.html')\n",
        "fig.show()"
      ]
    },
    {
      "cell_type": "code",
      "execution_count": 38,
      "metadata": {
        "colab": {
          "base_uri": "https://localhost:8080/"
        },
        "id": "DbswQeaZQmTP",
        "outputId": "b3605a3f-1aba-4aa0-cc95-1d33a4ec9a32"
      },
      "outputs": [
        {
          "output_type": "stream",
          "name": "stdout",
          "text": [
            "breitbart.com    440\n",
            "dtype: int64\n",
            "insideclimatenews.org    559\n",
            "dtype: int64\n",
            "nytimes.com    864\n",
            "dtype: int64\n"
          ]
        }
      ],
      "source": [
        "# Number of quotes reused uniquely by the same journal\n",
        "reuse_breitbart=[]\n",
        "reuse_inside_climate_news=[]\n",
        "reuse_nyt=[]\n",
        "for el in data_all['domain_name']:\n",
        "  if np.size(el)>=2:\n",
        "    if el.count('breitbart.com')==np.size(el):\n",
        "      reuse_breitbart.extend(set(el))\n",
        "    if el.count('insideclimatenews.org')==np.size(el):\n",
        "      reuse_inside_climate_news.extend(set(el))\n",
        "    if el.count('nytimes.com')==np.size(el):\n",
        "      reuse_nyt.extend(set(el))\n",
        "print(pd.Series(reuse_breitbart).value_counts())\n",
        "print(pd.Series(reuse_inside_climate_news).value_counts())\n",
        "print(pd.Series(reuse_nyt).value_counts())"
      ]
    },
    {
      "cell_type": "markdown",
      "metadata": {
        "id": "I3l-9meWAlVo"
      },
      "source": [
        "## Loading wikidata"
      ]
    },
    {
      "cell_type": "code",
      "execution_count": 40,
      "metadata": {
        "colab": {
          "base_uri": "https://localhost:8080/",
          "height": 455
        },
        "id": "h2CQtegOA7_T",
        "outputId": "d98f19df-8754-41ca-a9af-6d0526db6d58"
      },
      "outputs": [
        {
          "output_type": "execute_result",
          "data": {
            "text/html": [
              "\n",
              "  <div id=\"df-6dc8d291-f3ef-4cc1-9e52-8803ebb58bdb\">\n",
              "    <div class=\"colab-df-container\">\n",
              "      <div>\n",
              "<style scoped>\n",
              "    .dataframe tbody tr th:only-of-type {\n",
              "        vertical-align: middle;\n",
              "    }\n",
              "\n",
              "    .dataframe tbody tr th {\n",
              "        vertical-align: top;\n",
              "    }\n",
              "\n",
              "    .dataframe thead th {\n",
              "        text-align: right;\n",
              "    }\n",
              "</style>\n",
              "<table border=\"1\" class=\"dataframe\">\n",
              "  <thead>\n",
              "    <tr style=\"text-align: right;\">\n",
              "      <th></th>\n",
              "      <th>Label</th>\n",
              "      <th>Description</th>\n",
              "    </tr>\n",
              "    <tr>\n",
              "      <th>QID</th>\n",
              "      <th></th>\n",
              "      <th></th>\n",
              "    </tr>\n",
              "  </thead>\n",
              "  <tbody>\n",
              "    <tr>\n",
              "      <th>Q31</th>\n",
              "      <td>Belgium</td>\n",
              "      <td>country in western Europe</td>\n",
              "    </tr>\n",
              "    <tr>\n",
              "      <th>Q45</th>\n",
              "      <td>Portugal</td>\n",
              "      <td>country in southwestern Europe</td>\n",
              "    </tr>\n",
              "    <tr>\n",
              "      <th>Q75</th>\n",
              "      <td>Internet</td>\n",
              "      <td>global system of connected computer networks</td>\n",
              "    </tr>\n",
              "    <tr>\n",
              "      <th>Q148</th>\n",
              "      <td>People's Republic of China</td>\n",
              "      <td>sovereign state in East Asia</td>\n",
              "    </tr>\n",
              "    <tr>\n",
              "      <th>Q155</th>\n",
              "      <td>Brazil</td>\n",
              "      <td>country in South America</td>\n",
              "    </tr>\n",
              "    <tr>\n",
              "      <th>...</th>\n",
              "      <td>...</td>\n",
              "      <td>...</td>\n",
              "    </tr>\n",
              "    <tr>\n",
              "      <th>Q106302506</th>\n",
              "      <td>didgeridooist</td>\n",
              "      <td>musician who plays the didgeridoo</td>\n",
              "    </tr>\n",
              "    <tr>\n",
              "      <th>Q106341153</th>\n",
              "      <td>biochemistry teacher</td>\n",
              "      <td>teacher of biochemistry at any level</td>\n",
              "    </tr>\n",
              "    <tr>\n",
              "      <th>Q106368830</th>\n",
              "      <td>2018 Wigan Metropolitan Borough Council electi...</td>\n",
              "      <td>NaN</td>\n",
              "    </tr>\n",
              "    <tr>\n",
              "      <th>Q106369692</th>\n",
              "      <td>2018 Wigan Metropolitan Borough Council electi...</td>\n",
              "      <td>NaN</td>\n",
              "    </tr>\n",
              "    <tr>\n",
              "      <th>Q106376887</th>\n",
              "      <td>NaN</td>\n",
              "      <td>NaN</td>\n",
              "    </tr>\n",
              "  </tbody>\n",
              "</table>\n",
              "<p>36969 rows × 2 columns</p>\n",
              "</div>\n",
              "      <button class=\"colab-df-convert\" onclick=\"convertToInteractive('df-6dc8d291-f3ef-4cc1-9e52-8803ebb58bdb')\"\n",
              "              title=\"Convert this dataframe to an interactive table.\"\n",
              "              style=\"display:none;\">\n",
              "        \n",
              "  <svg xmlns=\"http://www.w3.org/2000/svg\" height=\"24px\"viewBox=\"0 0 24 24\"\n",
              "       width=\"24px\">\n",
              "    <path d=\"M0 0h24v24H0V0z\" fill=\"none\"/>\n",
              "    <path d=\"M18.56 5.44l.94 2.06.94-2.06 2.06-.94-2.06-.94-.94-2.06-.94 2.06-2.06.94zm-11 1L8.5 8.5l.94-2.06 2.06-.94-2.06-.94L8.5 2.5l-.94 2.06-2.06.94zm10 10l.94 2.06.94-2.06 2.06-.94-2.06-.94-.94-2.06-.94 2.06-2.06.94z\"/><path d=\"M17.41 7.96l-1.37-1.37c-.4-.4-.92-.59-1.43-.59-.52 0-1.04.2-1.43.59L10.3 9.45l-7.72 7.72c-.78.78-.78 2.05 0 2.83L4 21.41c.39.39.9.59 1.41.59.51 0 1.02-.2 1.41-.59l7.78-7.78 2.81-2.81c.8-.78.8-2.07 0-2.86zM5.41 20L4 18.59l7.72-7.72 1.47 1.35L5.41 20z\"/>\n",
              "  </svg>\n",
              "      </button>\n",
              "      \n",
              "  <style>\n",
              "    .colab-df-container {\n",
              "      display:flex;\n",
              "      flex-wrap:wrap;\n",
              "      gap: 12px;\n",
              "    }\n",
              "\n",
              "    .colab-df-convert {\n",
              "      background-color: #E8F0FE;\n",
              "      border: none;\n",
              "      border-radius: 50%;\n",
              "      cursor: pointer;\n",
              "      display: none;\n",
              "      fill: #1967D2;\n",
              "      height: 32px;\n",
              "      padding: 0 0 0 0;\n",
              "      width: 32px;\n",
              "    }\n",
              "\n",
              "    .colab-df-convert:hover {\n",
              "      background-color: #E2EBFA;\n",
              "      box-shadow: 0px 1px 2px rgba(60, 64, 67, 0.3), 0px 1px 3px 1px rgba(60, 64, 67, 0.15);\n",
              "      fill: #174EA6;\n",
              "    }\n",
              "\n",
              "    [theme=dark] .colab-df-convert {\n",
              "      background-color: #3B4455;\n",
              "      fill: #D2E3FC;\n",
              "    }\n",
              "\n",
              "    [theme=dark] .colab-df-convert:hover {\n",
              "      background-color: #434B5C;\n",
              "      box-shadow: 0px 1px 3px 1px rgba(0, 0, 0, 0.15);\n",
              "      filter: drop-shadow(0px 1px 2px rgba(0, 0, 0, 0.3));\n",
              "      fill: #FFFFFF;\n",
              "    }\n",
              "  </style>\n",
              "\n",
              "      <script>\n",
              "        const buttonEl =\n",
              "          document.querySelector('#df-6dc8d291-f3ef-4cc1-9e52-8803ebb58bdb button.colab-df-convert');\n",
              "        buttonEl.style.display =\n",
              "          google.colab.kernel.accessAllowed ? 'block' : 'none';\n",
              "\n",
              "        async function convertToInteractive(key) {\n",
              "          const element = document.querySelector('#df-6dc8d291-f3ef-4cc1-9e52-8803ebb58bdb');\n",
              "          const dataTable =\n",
              "            await google.colab.kernel.invokeFunction('convertToInteractive',\n",
              "                                                     [key], {});\n",
              "          if (!dataTable) return;\n",
              "\n",
              "          const docLinkHtml = 'Like what you see? Visit the ' +\n",
              "            '<a target=\"_blank\" href=https://colab.research.google.com/notebooks/data_table.ipynb>data table notebook</a>'\n",
              "            + ' to learn more about interactive tables.';\n",
              "          element.innerHTML = '';\n",
              "          dataTable['output_type'] = 'display_data';\n",
              "          await google.colab.output.renderOutput(dataTable, element);\n",
              "          const docLink = document.createElement('div');\n",
              "          docLink.innerHTML = docLinkHtml;\n",
              "          element.appendChild(docLink);\n",
              "        }\n",
              "      </script>\n",
              "    </div>\n",
              "  </div>\n",
              "  "
            ],
            "text/plain": [
              "                                                        Label                                   Description\n",
              "QID                                                                                                        \n",
              "Q31                                                   Belgium                     country in western Europe\n",
              "Q45                                                  Portugal                country in southwestern Europe\n",
              "Q75                                                  Internet  global system of connected computer networks\n",
              "Q148                               People's Republic of China                  sovereign state in East Asia\n",
              "Q155                                                   Brazil                      country in South America\n",
              "...                                                       ...                                           ...\n",
              "Q106302506                                      didgeridooist             musician who plays the didgeridoo\n",
              "Q106341153                               biochemistry teacher          teacher of biochemistry at any level\n",
              "Q106368830  2018 Wigan Metropolitan Borough Council electi...                                           NaN\n",
              "Q106369692  2018 Wigan Metropolitan Borough Council electi...                                           NaN\n",
              "Q106376887                                                NaN                                           NaN\n",
              "\n",
              "[36969 rows x 2 columns]"
            ]
          },
          "metadata": {},
          "execution_count": 40
        }
      ],
      "source": [
        "# Loading wikidata labels\n",
        "wikidata_file='/content/drive/MyDrive/Project datasets/wikidata_labels_descriptions_quotebank.csv.bz2'\n",
        "wiki_df = pd.read_csv(wikidata_file, compression='bz2', index_col='QID')\n",
        "wiki_df"
      ]
    },
    {
      "cell_type": "code",
      "execution_count": null,
      "metadata": {
        "id": "f2oZGWcDAoTr"
      },
      "outputs": [],
      "source": [
        "# Process parties of speakers in the parquet file\n",
        "import pandas as pd\n",
        "import numpy as np\n",
        "wikidata_parquet_file='/content/drive/MyDrive/Project datasets/speaker_attributes.parquet'\n",
        "parquet_df = pd.read_parquet(wikidata_parquet_file)\n",
        "parties_df = parquet_df[~(parquet_df.party.isna())]['party']\n",
        "res = parties_df.map(lambda parties: list(map(lambda party: wiki_df['Label'].get(party), parties)))\n",
        "res.explode().value_counts().head(25)\n",
        "\n",
        "# This brieve analysis just give an idea of the parties of the different speakers\n",
        "# We take into account all parties of the speakers and not only their last one,\n",
        "# this make sense as they might have been in a different party when they express their opinion"
      ]
    },
    {
      "cell_type": "code",
      "execution_count": null,
      "metadata": {
        "id": "i9GACk-FAor3"
      },
      "outputs": [],
      "source": [
        "authors = parquet_df.set_index('id')\n",
        "authors_parties = authors['party']\n",
        "authors_parties = authors_parties[~(authors_parties.isna())]\n",
        "authors_parties"
      ]
    },
    {
      "cell_type": "code",
      "execution_count": null,
      "metadata": {
        "id": "4cjcntowAxqQ"
      },
      "outputs": [],
      "source": [
        "breitbart_df = data_all[data_all.domain_name.map(lambda domaines: domaines.count('breitbart.com') > 0)]\n",
        "inside_carbon_brief_df = data_all[data_all.domain_name.map(lambda domaines: domaines.count('insideclimatenews.org') > 0)]\n",
        "print('breitbart -> '+str(len(breitbart_df)))\n",
        "print('inside climate news -> '+str(len(inside_carbon_brief_df)))"
      ]
    },
    {
      "cell_type": "code",
      "source": [
        "def compute_authors_political_assignement(data_df, domaine_name):\n",
        "  def repeat_qid(qids, n):\n",
        "    if len(qids) > 0 :\n",
        "      return [qids[0] for _ in range(n)]\n",
        "    else:\n",
        "      return [np.nan for _ in range(n)]\n",
        "\n",
        "  speakers_df = data_df.apply(lambda s: repeat_qid(s['qids'], len(list(filter(lambda d: d=='insideclimatenews.org', s['domain_name'])))), axis=1).explode()#.drop_duplicates()\n",
        "  non_identified = speakers_df[(speakers_df.isna())]\n",
        "\n",
        "  speakers_df = speakers_df[~(speakers_df.isna())]\n",
        "  speakers_parties_df = speakers_df.map(lambda s:authors_parties.get(s))\n",
        "  speakers_parties_df\n",
        "  political_distribution = speakers_parties_df.map(lambda parties: None if parties is None else list(map(lambda party: wiki_df['Label'].get(party), parties))[0])\n",
        "  return (non_identified, political_distribution)"
      ],
      "metadata": {
        "id": "0MS7JfULIjHk"
      },
      "execution_count": 4,
      "outputs": []
    },
    {
      "cell_type": "code",
      "execution_count": null,
      "metadata": {
        "colab": {
          "base_uri": "https://localhost:8080/"
        },
        "id": "Bc70yvi5BPJK",
        "outputId": "20f987a8-ada7-46ed-d8a2-dcee0bb594c1"
      },
      "outputs": [
        {
          "name": "stdout",
          "output_type": "stream",
          "text": [
            "No speakers :12463\n",
            "Others :49125\n"
          ]
        },
        {
          "data": {
            "text/plain": [
              "Republican Party                 15258\n",
              "Democratic Party                 10214\n",
              "Independence Party of America     4142\n",
              "independent politician            1468\n",
              "Socialist Party                   1036\n",
              "Christian Democratic Union         468\n",
              "La République En Marche            466\n",
              "Democratic Awakening               360\n",
              "Liberty Union Party                330\n",
              "Conservative Party                 216\n",
              "dtype: int64"
            ]
          },
          "execution_count": 13,
          "metadata": {},
          "output_type": "execute_result"
        }
      ],
      "source": [
        "(non_identified_breitbart, political_distribution_breitbart) = compute_authors_political_assignement(breitbart_df, 'breitbart.com')\n",
        "print(\"Non-identified speaker or political parties :\" +str(len(non_identified_breitbart)))\n",
        "print(\"Others :\" +str(len(political_distribution_breitbart.explode())))\n",
        "political_distribution_breitbart.explode().value_counts().head(10)"
      ]
    },
    {
      "cell_type": "code",
      "execution_count": null,
      "metadata": {
        "colab": {
          "base_uri": "https://localhost:8080/"
        },
        "id": "z9uAPl_tDiw5",
        "outputId": "2dd1adc8-9802-4b56-c500-2b9812223a6c"
      },
      "outputs": [
        {
          "name": "stdout",
          "output_type": "stream",
          "text": [
            "No speakers :8074\n",
            "Others :13128\n"
          ]
        },
        {
          "data": {
            "text/plain": [
              "Republican Party                           2361\n",
              "Democratic Party                           2173\n",
              "Socialist Party                              78\n",
              "Liberal Party of Canada                      44\n",
              "La République En Marche                      43\n",
              "independent politician                       39\n",
              "Labour Party                                 39\n",
              "Christian Democratic Union                   33\n",
              "Australian Labor Party                       28\n",
              "Minnesota Democratic–Farmer–Labor Party      27\n",
              "dtype: int64"
            ]
          },
          "execution_count": 14,
          "metadata": {},
          "output_type": "execute_result"
        }
      ],
      "source": [
        "# Use of icn for InsideClimateNews for more brievity\n",
        "(non_identified_icn, political_distribution_icn) = compute_authors_political_assignement(inside_carbon_brief_df, 'insideclimatenews.org')\n",
        "print(\"Non-identified speaker or political parties :\" +str(len(non_identified_icn)))\n",
        "print(\"Others :\" +str(len(political_distribution_icn.explode())))\n",
        "political_distribution_icn.explode().value_counts().head(10)"
      ]
    },
    {
      "cell_type": "code",
      "execution_count": null,
      "metadata": {
        "id": "2TJpwxqeDzrK"
      },
      "outputs": [],
      "source": [
        "# Compute statistics for breitbart\n",
        "politics_b=(domaine_quotes_count.loc['breitbart.com'][0]-len(non_identified_breitbart))/domaine_quotes_count.loc['breitbart.com'][0]\n",
        "typepo_b=political_distribution_breitbart.explode().value_counts()\n",
        "\n",
        "republicanp_b=typepo_b.loc['Republican Party']/len(political_distribution_breitbart.explode())*politics_b\n",
        "democratep_b=typepo_b.loc['Democratic Party']/len(political_distribution_breitbart.explode())*politics_b\n",
        "independent_b=typepo_b.loc['Independence Party of America']/len(political_distribution_breitbart.explode())*politics_b\n",
        "\n",
        "unknowsp_b=len(non_identified_breitbart)/domaine_quotes_count.loc['breitbart.com'][0]\n",
        "other_parties_b=1-(unknowsp_b+democratep_b+republicanp_b+independent_b)"
      ]
    },
    {
      "cell_type": "code",
      "execution_count": null,
      "metadata": {
        "id": "O3uNFThBhcBv"
      },
      "outputs": [],
      "source": [
        "# Compute statistiques for InsideClimatenews\n",
        "politics_c=len(political_distribution_icn.explode())/domaine_quotes_count.loc['insideclimatenews.org'][0]\n",
        "typepo_c=political_distribution_icn.explode().value_counts()\n",
        "\n",
        "republicanp_c=typepo_c.loc['Republican Party']/len(political_distribution_icn.explode())*politics_c\n",
        "democratep_c=typepo_c.loc['Democratic Party']/len(political_distribution_icn.explode())*politics_c\n",
        "\n",
        "unknowsp_c=len(non_identified_icn)/domaine_quotes_count.loc['insideclimatenews.org'][0]\n",
        "other_parties_c=1-(unknowsp_c+democratep_c+republicanp_c)"
      ]
    },
    {
      "cell_type": "code",
      "source": [
        "# Imports and config for pie chart generation\n",
        "import plotly.graph_objects as go\n",
        "labels = ['Republicains','Democrats','Unknown','Other Parties','Independent']\n",
        "colors=['red','blue','green','yellow','purple']"
      ],
      "metadata": {
        "id": "O-kEIsHlLaI1"
      },
      "execution_count": null,
      "outputs": []
    },
    {
      "cell_type": "code",
      "execution_count": null,
      "metadata": {
        "colab": {
          "base_uri": "https://localhost:8080/",
          "height": 542
        },
        "id": "DscjME0o8b7a",
        "outputId": "8d5d3dcd-ef23-4718-a496-b715d2e3fc68"
      },
      "outputs": [
        {
          "data": {
            "text/html": [
              "<html>\n",
              "<head><meta charset=\"utf-8\" /></head>\n",
              "<body>\n",
              "    <div>\n",
              "            <script src=\"https://cdnjs.cloudflare.com/ajax/libs/mathjax/2.7.5/MathJax.js?config=TeX-AMS-MML_SVG\"></script><script type=\"text/javascript\">if (window.MathJax) {MathJax.Hub.Config({SVG: {font: \"STIX-Web\"}});}</script>\n",
              "                <script type=\"text/javascript\">window.PlotlyConfig = {MathJaxConfig: 'local'};</script>\n",
              "        <script src=\"https://cdn.plot.ly/plotly-latest.min.js\"></script>    \n",
              "            <div id=\"834d3545-1d03-4368-9e60-90d0744e9727\" class=\"plotly-graph-div\" style=\"height:525px; width:100%;\"></div>\n",
              "            <script type=\"text/javascript\">\n",
              "                \n",
              "                    window.PLOTLYENV=window.PLOTLYENV || {};\n",
              "                    \n",
              "                if (document.getElementById(\"834d3545-1d03-4368-9e60-90d0744e9727\")) {\n",
              "                    Plotly.newPlot(\n",
              "                        '834d3545-1d03-4368-9e60-90d0744e9727',\n",
              "                        [{\"labels\": [\"Republicains\", \"Democrats\", \"Unknown\", \"Other Parties\", \"Independent\"], \"marker\": {\"colors\": [\"red\", \"blue\", \"green\", \"yellow\", \"purple\"]}, \"type\": \"pie\", \"values\": [11.135741911140459, 10.249033110083953, 38.081313083671354, 40.53391189510423]}],\n",
              "                        {\"template\": {\"data\": {\"bar\": [{\"error_x\": {\"color\": \"#2a3f5f\"}, \"error_y\": {\"color\": \"#2a3f5f\"}, \"marker\": {\"line\": {\"color\": \"#E5ECF6\", \"width\": 0.5}}, \"type\": \"bar\"}], \"barpolar\": [{\"marker\": {\"line\": {\"color\": \"#E5ECF6\", \"width\": 0.5}}, \"type\": \"barpolar\"}], \"carpet\": [{\"aaxis\": {\"endlinecolor\": \"#2a3f5f\", \"gridcolor\": \"white\", \"linecolor\": \"white\", \"minorgridcolor\": \"white\", \"startlinecolor\": \"#2a3f5f\"}, \"baxis\": {\"endlinecolor\": \"#2a3f5f\", \"gridcolor\": \"white\", \"linecolor\": \"white\", \"minorgridcolor\": \"white\", \"startlinecolor\": \"#2a3f5f\"}, \"type\": \"carpet\"}], \"choropleth\": [{\"colorbar\": {\"outlinewidth\": 0, \"ticks\": \"\"}, \"type\": \"choropleth\"}], \"contour\": [{\"colorbar\": {\"outlinewidth\": 0, \"ticks\": \"\"}, \"colorscale\": [[0.0, \"#0d0887\"], [0.1111111111111111, \"#46039f\"], [0.2222222222222222, \"#7201a8\"], [0.3333333333333333, \"#9c179e\"], [0.4444444444444444, \"#bd3786\"], [0.5555555555555556, \"#d8576b\"], [0.6666666666666666, \"#ed7953\"], [0.7777777777777778, \"#fb9f3a\"], [0.8888888888888888, \"#fdca26\"], [1.0, \"#f0f921\"]], \"type\": \"contour\"}], \"contourcarpet\": [{\"colorbar\": {\"outlinewidth\": 0, \"ticks\": \"\"}, \"type\": \"contourcarpet\"}], \"heatmap\": [{\"colorbar\": {\"outlinewidth\": 0, \"ticks\": \"\"}, \"colorscale\": [[0.0, \"#0d0887\"], [0.1111111111111111, \"#46039f\"], [0.2222222222222222, \"#7201a8\"], [0.3333333333333333, \"#9c179e\"], [0.4444444444444444, \"#bd3786\"], [0.5555555555555556, \"#d8576b\"], [0.6666666666666666, \"#ed7953\"], [0.7777777777777778, \"#fb9f3a\"], [0.8888888888888888, \"#fdca26\"], [1.0, \"#f0f921\"]], \"type\": \"heatmap\"}], \"heatmapgl\": [{\"colorbar\": {\"outlinewidth\": 0, \"ticks\": \"\"}, \"colorscale\": [[0.0, \"#0d0887\"], [0.1111111111111111, \"#46039f\"], [0.2222222222222222, \"#7201a8\"], [0.3333333333333333, \"#9c179e\"], [0.4444444444444444, \"#bd3786\"], [0.5555555555555556, \"#d8576b\"], [0.6666666666666666, \"#ed7953\"], [0.7777777777777778, \"#fb9f3a\"], [0.8888888888888888, \"#fdca26\"], [1.0, \"#f0f921\"]], \"type\": \"heatmapgl\"}], \"histogram\": [{\"marker\": {\"colorbar\": {\"outlinewidth\": 0, \"ticks\": \"\"}}, \"type\": \"histogram\"}], \"histogram2d\": [{\"colorbar\": {\"outlinewidth\": 0, \"ticks\": \"\"}, \"colorscale\": [[0.0, \"#0d0887\"], [0.1111111111111111, \"#46039f\"], [0.2222222222222222, \"#7201a8\"], [0.3333333333333333, \"#9c179e\"], [0.4444444444444444, \"#bd3786\"], [0.5555555555555556, \"#d8576b\"], [0.6666666666666666, \"#ed7953\"], [0.7777777777777778, \"#fb9f3a\"], [0.8888888888888888, \"#fdca26\"], [1.0, \"#f0f921\"]], \"type\": \"histogram2d\"}], \"histogram2dcontour\": [{\"colorbar\": {\"outlinewidth\": 0, \"ticks\": \"\"}, \"colorscale\": [[0.0, \"#0d0887\"], [0.1111111111111111, \"#46039f\"], [0.2222222222222222, \"#7201a8\"], [0.3333333333333333, \"#9c179e\"], [0.4444444444444444, \"#bd3786\"], [0.5555555555555556, \"#d8576b\"], [0.6666666666666666, \"#ed7953\"], [0.7777777777777778, \"#fb9f3a\"], [0.8888888888888888, \"#fdca26\"], [1.0, \"#f0f921\"]], \"type\": \"histogram2dcontour\"}], \"mesh3d\": [{\"colorbar\": {\"outlinewidth\": 0, \"ticks\": \"\"}, \"type\": \"mesh3d\"}], \"parcoords\": [{\"line\": {\"colorbar\": {\"outlinewidth\": 0, \"ticks\": \"\"}}, \"type\": \"parcoords\"}], \"pie\": [{\"automargin\": true, \"type\": \"pie\"}], \"scatter\": [{\"marker\": {\"colorbar\": {\"outlinewidth\": 0, \"ticks\": \"\"}}, \"type\": \"scatter\"}], \"scatter3d\": [{\"line\": {\"colorbar\": {\"outlinewidth\": 0, \"ticks\": \"\"}}, \"marker\": {\"colorbar\": {\"outlinewidth\": 0, \"ticks\": \"\"}}, \"type\": \"scatter3d\"}], \"scattercarpet\": [{\"marker\": {\"colorbar\": {\"outlinewidth\": 0, \"ticks\": \"\"}}, \"type\": \"scattercarpet\"}], \"scattergeo\": [{\"marker\": {\"colorbar\": {\"outlinewidth\": 0, \"ticks\": \"\"}}, \"type\": \"scattergeo\"}], \"scattergl\": [{\"marker\": {\"colorbar\": {\"outlinewidth\": 0, \"ticks\": \"\"}}, \"type\": \"scattergl\"}], \"scattermapbox\": [{\"marker\": {\"colorbar\": {\"outlinewidth\": 0, \"ticks\": \"\"}}, \"type\": \"scattermapbox\"}], \"scatterpolar\": [{\"marker\": {\"colorbar\": {\"outlinewidth\": 0, \"ticks\": \"\"}}, \"type\": \"scatterpolar\"}], \"scatterpolargl\": [{\"marker\": {\"colorbar\": {\"outlinewidth\": 0, \"ticks\": \"\"}}, \"type\": \"scatterpolargl\"}], \"scatterternary\": [{\"marker\": {\"colorbar\": {\"outlinewidth\": 0, \"ticks\": \"\"}}, \"type\": \"scatterternary\"}], \"surface\": [{\"colorbar\": {\"outlinewidth\": 0, \"ticks\": \"\"}, \"colorscale\": [[0.0, \"#0d0887\"], [0.1111111111111111, \"#46039f\"], [0.2222222222222222, \"#7201a8\"], [0.3333333333333333, \"#9c179e\"], [0.4444444444444444, \"#bd3786\"], [0.5555555555555556, \"#d8576b\"], [0.6666666666666666, \"#ed7953\"], [0.7777777777777778, \"#fb9f3a\"], [0.8888888888888888, \"#fdca26\"], [1.0, \"#f0f921\"]], \"type\": \"surface\"}], \"table\": [{\"cells\": {\"fill\": {\"color\": \"#EBF0F8\"}, \"line\": {\"color\": \"white\"}}, \"header\": {\"fill\": {\"color\": \"#C8D4E3\"}, \"line\": {\"color\": \"white\"}}, \"type\": \"table\"}]}, \"layout\": {\"annotationdefaults\": {\"arrowcolor\": \"#2a3f5f\", \"arrowhead\": 0, \"arrowwidth\": 1}, \"coloraxis\": {\"colorbar\": {\"outlinewidth\": 0, \"ticks\": \"\"}}, \"colorscale\": {\"diverging\": [[0, \"#8e0152\"], [0.1, \"#c51b7d\"], [0.2, \"#de77ae\"], [0.3, \"#f1b6da\"], [0.4, \"#fde0ef\"], [0.5, \"#f7f7f7\"], [0.6, \"#e6f5d0\"], [0.7, \"#b8e186\"], [0.8, \"#7fbc41\"], [0.9, \"#4d9221\"], [1, \"#276419\"]], \"sequential\": [[0.0, \"#0d0887\"], [0.1111111111111111, \"#46039f\"], [0.2222222222222222, \"#7201a8\"], [0.3333333333333333, \"#9c179e\"], [0.4444444444444444, \"#bd3786\"], [0.5555555555555556, \"#d8576b\"], [0.6666666666666666, \"#ed7953\"], [0.7777777777777778, \"#fb9f3a\"], [0.8888888888888888, \"#fdca26\"], [1.0, \"#f0f921\"]], \"sequentialminus\": [[0.0, \"#0d0887\"], [0.1111111111111111, \"#46039f\"], [0.2222222222222222, \"#7201a8\"], [0.3333333333333333, \"#9c179e\"], [0.4444444444444444, \"#bd3786\"], [0.5555555555555556, \"#d8576b\"], [0.6666666666666666, \"#ed7953\"], [0.7777777777777778, \"#fb9f3a\"], [0.8888888888888888, \"#fdca26\"], [1.0, \"#f0f921\"]]}, \"colorway\": [\"#636efa\", \"#EF553B\", \"#00cc96\", \"#ab63fa\", \"#FFA15A\", \"#19d3f3\", \"#FF6692\", \"#B6E880\", \"#FF97FF\", \"#FECB52\"], \"font\": {\"color\": \"#2a3f5f\"}, \"geo\": {\"bgcolor\": \"white\", \"lakecolor\": \"white\", \"landcolor\": \"#E5ECF6\", \"showlakes\": true, \"showland\": true, \"subunitcolor\": \"white\"}, \"hoverlabel\": {\"align\": \"left\"}, \"hovermode\": \"closest\", \"mapbox\": {\"style\": \"light\"}, \"paper_bgcolor\": \"white\", \"plot_bgcolor\": \"#E5ECF6\", \"polar\": {\"angularaxis\": {\"gridcolor\": \"white\", \"linecolor\": \"white\", \"ticks\": \"\"}, \"bgcolor\": \"#E5ECF6\", \"radialaxis\": {\"gridcolor\": \"white\", \"linecolor\": \"white\", \"ticks\": \"\"}}, \"scene\": {\"xaxis\": {\"backgroundcolor\": \"#E5ECF6\", \"gridcolor\": \"white\", \"gridwidth\": 2, \"linecolor\": \"white\", \"showbackground\": true, \"ticks\": \"\", \"zerolinecolor\": \"white\"}, \"yaxis\": {\"backgroundcolor\": \"#E5ECF6\", \"gridcolor\": \"white\", \"gridwidth\": 2, \"linecolor\": \"white\", \"showbackground\": true, \"ticks\": \"\", \"zerolinecolor\": \"white\"}, \"zaxis\": {\"backgroundcolor\": \"#E5ECF6\", \"gridcolor\": \"white\", \"gridwidth\": 2, \"linecolor\": \"white\", \"showbackground\": true, \"ticks\": \"\", \"zerolinecolor\": \"white\"}}, \"shapedefaults\": {\"line\": {\"color\": \"#2a3f5f\"}}, \"ternary\": {\"aaxis\": {\"gridcolor\": \"white\", \"linecolor\": \"white\", \"ticks\": \"\"}, \"baxis\": {\"gridcolor\": \"white\", \"linecolor\": \"white\", \"ticks\": \"\"}, \"bgcolor\": \"#E5ECF6\", \"caxis\": {\"gridcolor\": \"white\", \"linecolor\": \"white\", \"ticks\": \"\"}}, \"title\": {\"x\": 0.05}, \"xaxis\": {\"automargin\": true, \"gridcolor\": \"white\", \"linecolor\": \"white\", \"ticks\": \"\", \"title\": {\"standoff\": 15}, \"zerolinecolor\": \"white\", \"zerolinewidth\": 2}, \"yaxis\": {\"automargin\": true, \"gridcolor\": \"white\", \"linecolor\": \"white\", \"ticks\": \"\", \"title\": {\"standoff\": 15}, \"zerolinecolor\": \"white\", \"zerolinewidth\": 2}}}},\n",
              "                        {\"responsive\": true}\n",
              "                    ).then(function(){\n",
              "                            \n",
              "var gd = document.getElementById('834d3545-1d03-4368-9e60-90d0744e9727');\n",
              "var x = new MutationObserver(function (mutations, observer) {{\n",
              "        var display = window.getComputedStyle(gd).display;\n",
              "        if (!display || display === 'none') {{\n",
              "            console.log([gd, 'removed!']);\n",
              "            Plotly.purge(gd);\n",
              "            observer.disconnect();\n",
              "        }}\n",
              "}});\n",
              "\n",
              "// Listen for the removal of the full notebook cells\n",
              "var notebookContainer = gd.closest('#notebook-container');\n",
              "if (notebookContainer) {{\n",
              "    x.observe(notebookContainer, {childList: true});\n",
              "}}\n",
              "\n",
              "// Listen for the clearing of the current output cell\n",
              "var outputEl = gd.closest('.output');\n",
              "if (outputEl) {{\n",
              "    x.observe(outputEl, {childList: true});\n",
              "}}\n",
              "\n",
              "                        })\n",
              "                };\n",
              "                \n",
              "            </script>\n",
              "        </div>\n",
              "</body>\n",
              "</html>"
            ]
          },
          "metadata": {},
          "output_type": "display_data"
        }
      ],
      "source": [
        "# Distribution of authors political opinion for InsideClimateNews\n",
        "values = [republicanp_c*100, democratep_c*100, unknowsp_c*100, other_parties_c*100]\n",
        "\n",
        "fig = go.Figure(data=[go.Pie(labels=labels, values=values)])\n",
        "fig.update_traces(marker=dict(colors=colors))\n",
        "fig.write_html('/content/drive/MyDrive/pieinside.html')\n",
        "fig.show()"
      ]
    },
    {
      "cell_type": "code",
      "execution_count": null,
      "metadata": {
        "colab": {
          "base_uri": "https://localhost:8080/",
          "height": 542
        },
        "id": "A-IT25CImNhf",
        "outputId": "9fe47b38-f300-472c-e89c-ba12b0055c0c"
      },
      "outputs": [
        {
          "data": {
            "text/html": [
              "<html>\n",
              "<head><meta charset=\"utf-8\" /></head>\n",
              "<body>\n",
              "    <div>\n",
              "            <script src=\"https://cdnjs.cloudflare.com/ajax/libs/mathjax/2.7.5/MathJax.js?config=TeX-AMS-MML_SVG\"></script><script type=\"text/javascript\">if (window.MathJax) {MathJax.Hub.Config({SVG: {font: \"STIX-Web\"}});}</script>\n",
              "                <script type=\"text/javascript\">window.PlotlyConfig = {MathJaxConfig: 'local'};</script>\n",
              "        <script src=\"https://cdn.plot.ly/plotly-latest.min.js\"></script>    \n",
              "            <div id=\"d6c3afbf-9fdc-424d-8b2d-d62667afe4b5\" class=\"plotly-graph-div\" style=\"height:525px; width:100%;\"></div>\n",
              "            <script type=\"text/javascript\">\n",
              "                \n",
              "                    window.PLOTLYENV=window.PLOTLYENV || {};\n",
              "                    \n",
              "                if (document.getElementById(\"d6c3afbf-9fdc-424d-8b2d-d62667afe4b5\")) {\n",
              "                    Plotly.newPlot(\n",
              "                        'd6c3afbf-9fdc-424d-8b2d-d62667afe4b5',\n",
              "                        [{\"labels\": [\"Republicains\", \"Democrats\", \"Unknown\", \"Other Parties\", \"Independent\"], \"marker\": {\"colors\": [\"red\", \"blue\", \"green\", \"yellow\", \"purple\"]}, \"type\": \"pie\", \"values\": [21.40677973457759, 14.330111954972836, 31.078250461323627, 27.373684585223714, 5.811173263902241]}],\n",
              "                        {\"template\": {\"data\": {\"bar\": [{\"error_x\": {\"color\": \"#2a3f5f\"}, \"error_y\": {\"color\": \"#2a3f5f\"}, \"marker\": {\"line\": {\"color\": \"#E5ECF6\", \"width\": 0.5}}, \"type\": \"bar\"}], \"barpolar\": [{\"marker\": {\"line\": {\"color\": \"#E5ECF6\", \"width\": 0.5}}, \"type\": \"barpolar\"}], \"carpet\": [{\"aaxis\": {\"endlinecolor\": \"#2a3f5f\", \"gridcolor\": \"white\", \"linecolor\": \"white\", \"minorgridcolor\": \"white\", \"startlinecolor\": \"#2a3f5f\"}, \"baxis\": {\"endlinecolor\": \"#2a3f5f\", \"gridcolor\": \"white\", \"linecolor\": \"white\", \"minorgridcolor\": \"white\", \"startlinecolor\": \"#2a3f5f\"}, \"type\": \"carpet\"}], \"choropleth\": [{\"colorbar\": {\"outlinewidth\": 0, \"ticks\": \"\"}, \"type\": \"choropleth\"}], \"contour\": [{\"colorbar\": {\"outlinewidth\": 0, \"ticks\": \"\"}, \"colorscale\": [[0.0, \"#0d0887\"], [0.1111111111111111, \"#46039f\"], [0.2222222222222222, \"#7201a8\"], [0.3333333333333333, \"#9c179e\"], [0.4444444444444444, \"#bd3786\"], [0.5555555555555556, \"#d8576b\"], [0.6666666666666666, \"#ed7953\"], [0.7777777777777778, \"#fb9f3a\"], [0.8888888888888888, \"#fdca26\"], [1.0, \"#f0f921\"]], \"type\": \"contour\"}], \"contourcarpet\": [{\"colorbar\": {\"outlinewidth\": 0, \"ticks\": \"\"}, \"type\": \"contourcarpet\"}], \"heatmap\": [{\"colorbar\": {\"outlinewidth\": 0, \"ticks\": \"\"}, \"colorscale\": [[0.0, \"#0d0887\"], [0.1111111111111111, \"#46039f\"], [0.2222222222222222, \"#7201a8\"], [0.3333333333333333, \"#9c179e\"], [0.4444444444444444, \"#bd3786\"], [0.5555555555555556, \"#d8576b\"], [0.6666666666666666, \"#ed7953\"], [0.7777777777777778, \"#fb9f3a\"], [0.8888888888888888, \"#fdca26\"], [1.0, \"#f0f921\"]], \"type\": \"heatmap\"}], \"heatmapgl\": [{\"colorbar\": {\"outlinewidth\": 0, \"ticks\": \"\"}, \"colorscale\": [[0.0, \"#0d0887\"], [0.1111111111111111, \"#46039f\"], [0.2222222222222222, \"#7201a8\"], [0.3333333333333333, \"#9c179e\"], [0.4444444444444444, \"#bd3786\"], [0.5555555555555556, \"#d8576b\"], [0.6666666666666666, \"#ed7953\"], [0.7777777777777778, \"#fb9f3a\"], [0.8888888888888888, \"#fdca26\"], [1.0, \"#f0f921\"]], \"type\": \"heatmapgl\"}], \"histogram\": [{\"marker\": {\"colorbar\": {\"outlinewidth\": 0, \"ticks\": \"\"}}, \"type\": \"histogram\"}], \"histogram2d\": [{\"colorbar\": {\"outlinewidth\": 0, \"ticks\": \"\"}, \"colorscale\": [[0.0, \"#0d0887\"], [0.1111111111111111, \"#46039f\"], [0.2222222222222222, \"#7201a8\"], [0.3333333333333333, \"#9c179e\"], [0.4444444444444444, \"#bd3786\"], [0.5555555555555556, \"#d8576b\"], [0.6666666666666666, \"#ed7953\"], [0.7777777777777778, \"#fb9f3a\"], [0.8888888888888888, \"#fdca26\"], [1.0, \"#f0f921\"]], \"type\": \"histogram2d\"}], \"histogram2dcontour\": [{\"colorbar\": {\"outlinewidth\": 0, \"ticks\": \"\"}, \"colorscale\": [[0.0, \"#0d0887\"], [0.1111111111111111, \"#46039f\"], [0.2222222222222222, \"#7201a8\"], [0.3333333333333333, \"#9c179e\"], [0.4444444444444444, \"#bd3786\"], [0.5555555555555556, \"#d8576b\"], [0.6666666666666666, \"#ed7953\"], [0.7777777777777778, \"#fb9f3a\"], [0.8888888888888888, \"#fdca26\"], [1.0, \"#f0f921\"]], \"type\": \"histogram2dcontour\"}], \"mesh3d\": [{\"colorbar\": {\"outlinewidth\": 0, \"ticks\": \"\"}, \"type\": \"mesh3d\"}], \"parcoords\": [{\"line\": {\"colorbar\": {\"outlinewidth\": 0, \"ticks\": \"\"}}, \"type\": \"parcoords\"}], \"pie\": [{\"automargin\": true, \"type\": \"pie\"}], \"scatter\": [{\"marker\": {\"colorbar\": {\"outlinewidth\": 0, \"ticks\": \"\"}}, \"type\": \"scatter\"}], \"scatter3d\": [{\"line\": {\"colorbar\": {\"outlinewidth\": 0, \"ticks\": \"\"}}, \"marker\": {\"colorbar\": {\"outlinewidth\": 0, \"ticks\": \"\"}}, \"type\": \"scatter3d\"}], \"scattercarpet\": [{\"marker\": {\"colorbar\": {\"outlinewidth\": 0, \"ticks\": \"\"}}, \"type\": \"scattercarpet\"}], \"scattergeo\": [{\"marker\": {\"colorbar\": {\"outlinewidth\": 0, \"ticks\": \"\"}}, \"type\": \"scattergeo\"}], \"scattergl\": [{\"marker\": {\"colorbar\": {\"outlinewidth\": 0, \"ticks\": \"\"}}, \"type\": \"scattergl\"}], \"scattermapbox\": [{\"marker\": {\"colorbar\": {\"outlinewidth\": 0, \"ticks\": \"\"}}, \"type\": \"scattermapbox\"}], \"scatterpolar\": [{\"marker\": {\"colorbar\": {\"outlinewidth\": 0, \"ticks\": \"\"}}, \"type\": \"scatterpolar\"}], \"scatterpolargl\": [{\"marker\": {\"colorbar\": {\"outlinewidth\": 0, \"ticks\": \"\"}}, \"type\": \"scatterpolargl\"}], \"scatterternary\": [{\"marker\": {\"colorbar\": {\"outlinewidth\": 0, \"ticks\": \"\"}}, \"type\": \"scatterternary\"}], \"surface\": [{\"colorbar\": {\"outlinewidth\": 0, \"ticks\": \"\"}, \"colorscale\": [[0.0, \"#0d0887\"], [0.1111111111111111, \"#46039f\"], [0.2222222222222222, \"#7201a8\"], [0.3333333333333333, \"#9c179e\"], [0.4444444444444444, \"#bd3786\"], [0.5555555555555556, \"#d8576b\"], [0.6666666666666666, \"#ed7953\"], [0.7777777777777778, \"#fb9f3a\"], [0.8888888888888888, \"#fdca26\"], [1.0, \"#f0f921\"]], \"type\": \"surface\"}], \"table\": [{\"cells\": {\"fill\": {\"color\": \"#EBF0F8\"}, \"line\": {\"color\": \"white\"}}, \"header\": {\"fill\": {\"color\": \"#C8D4E3\"}, \"line\": {\"color\": \"white\"}}, \"type\": \"table\"}]}, \"layout\": {\"annotationdefaults\": {\"arrowcolor\": \"#2a3f5f\", \"arrowhead\": 0, \"arrowwidth\": 1}, \"coloraxis\": {\"colorbar\": {\"outlinewidth\": 0, \"ticks\": \"\"}}, \"colorscale\": {\"diverging\": [[0, \"#8e0152\"], [0.1, \"#c51b7d\"], [0.2, \"#de77ae\"], [0.3, \"#f1b6da\"], [0.4, \"#fde0ef\"], [0.5, \"#f7f7f7\"], [0.6, \"#e6f5d0\"], [0.7, \"#b8e186\"], [0.8, \"#7fbc41\"], [0.9, \"#4d9221\"], [1, \"#276419\"]], \"sequential\": [[0.0, \"#0d0887\"], [0.1111111111111111, \"#46039f\"], [0.2222222222222222, \"#7201a8\"], [0.3333333333333333, \"#9c179e\"], [0.4444444444444444, \"#bd3786\"], [0.5555555555555556, \"#d8576b\"], [0.6666666666666666, \"#ed7953\"], [0.7777777777777778, \"#fb9f3a\"], [0.8888888888888888, \"#fdca26\"], [1.0, \"#f0f921\"]], \"sequentialminus\": [[0.0, \"#0d0887\"], [0.1111111111111111, \"#46039f\"], [0.2222222222222222, \"#7201a8\"], [0.3333333333333333, \"#9c179e\"], [0.4444444444444444, \"#bd3786\"], [0.5555555555555556, \"#d8576b\"], [0.6666666666666666, \"#ed7953\"], [0.7777777777777778, \"#fb9f3a\"], [0.8888888888888888, \"#fdca26\"], [1.0, \"#f0f921\"]]}, \"colorway\": [\"#636efa\", \"#EF553B\", \"#00cc96\", \"#ab63fa\", \"#FFA15A\", \"#19d3f3\", \"#FF6692\", \"#B6E880\", \"#FF97FF\", \"#FECB52\"], \"font\": {\"color\": \"#2a3f5f\"}, \"geo\": {\"bgcolor\": \"white\", \"lakecolor\": \"white\", \"landcolor\": \"#E5ECF6\", \"showlakes\": true, \"showland\": true, \"subunitcolor\": \"white\"}, \"hoverlabel\": {\"align\": \"left\"}, \"hovermode\": \"closest\", \"mapbox\": {\"style\": \"light\"}, \"paper_bgcolor\": \"white\", \"plot_bgcolor\": \"#E5ECF6\", \"polar\": {\"angularaxis\": {\"gridcolor\": \"white\", \"linecolor\": \"white\", \"ticks\": \"\"}, \"bgcolor\": \"#E5ECF6\", \"radialaxis\": {\"gridcolor\": \"white\", \"linecolor\": \"white\", \"ticks\": \"\"}}, \"scene\": {\"xaxis\": {\"backgroundcolor\": \"#E5ECF6\", \"gridcolor\": \"white\", \"gridwidth\": 2, \"linecolor\": \"white\", \"showbackground\": true, \"ticks\": \"\", \"zerolinecolor\": \"white\"}, \"yaxis\": {\"backgroundcolor\": \"#E5ECF6\", \"gridcolor\": \"white\", \"gridwidth\": 2, \"linecolor\": \"white\", \"showbackground\": true, \"ticks\": \"\", \"zerolinecolor\": \"white\"}, \"zaxis\": {\"backgroundcolor\": \"#E5ECF6\", \"gridcolor\": \"white\", \"gridwidth\": 2, \"linecolor\": \"white\", \"showbackground\": true, \"ticks\": \"\", \"zerolinecolor\": \"white\"}}, \"shapedefaults\": {\"line\": {\"color\": \"#2a3f5f\"}}, \"ternary\": {\"aaxis\": {\"gridcolor\": \"white\", \"linecolor\": \"white\", \"ticks\": \"\"}, \"baxis\": {\"gridcolor\": \"white\", \"linecolor\": \"white\", \"ticks\": \"\"}, \"bgcolor\": \"#E5ECF6\", \"caxis\": {\"gridcolor\": \"white\", \"linecolor\": \"white\", \"ticks\": \"\"}}, \"title\": {\"x\": 0.05}, \"xaxis\": {\"automargin\": true, \"gridcolor\": \"white\", \"linecolor\": \"white\", \"ticks\": \"\", \"title\": {\"standoff\": 15}, \"zerolinecolor\": \"white\", \"zerolinewidth\": 2}, \"yaxis\": {\"automargin\": true, \"gridcolor\": \"white\", \"linecolor\": \"white\", \"ticks\": \"\", \"title\": {\"standoff\": 15}, \"zerolinecolor\": \"white\", \"zerolinewidth\": 2}}}},\n",
              "                        {\"responsive\": true}\n",
              "                    ).then(function(){\n",
              "                            \n",
              "var gd = document.getElementById('d6c3afbf-9fdc-424d-8b2d-d62667afe4b5');\n",
              "var x = new MutationObserver(function (mutations, observer) {{\n",
              "        var display = window.getComputedStyle(gd).display;\n",
              "        if (!display || display === 'none') {{\n",
              "            console.log([gd, 'removed!']);\n",
              "            Plotly.purge(gd);\n",
              "            observer.disconnect();\n",
              "        }}\n",
              "}});\n",
              "\n",
              "// Listen for the removal of the full notebook cells\n",
              "var notebookContainer = gd.closest('#notebook-container');\n",
              "if (notebookContainer) {{\n",
              "    x.observe(notebookContainer, {childList: true});\n",
              "}}\n",
              "\n",
              "// Listen for the clearing of the current output cell\n",
              "var outputEl = gd.closest('.output');\n",
              "if (outputEl) {{\n",
              "    x.observe(outputEl, {childList: true});\n",
              "}}\n",
              "\n",
              "                        })\n",
              "                };\n",
              "                \n",
              "            </script>\n",
              "        </div>\n",
              "</body>\n",
              "</html>"
            ]
          },
          "metadata": {},
          "output_type": "display_data"
        }
      ],
      "source": [
        "# Distribution of authors political opinion for Breitbart\n",
        "values = [republicanp_b*100, democratep_b*100, unknowsp_b*100, other_parties_b*100, independent_b*100]\n",
        "\n",
        "fig = go.Figure(data=[go.Pie(labels=labels, values=values)])\n",
        "fig.update_traces(marker=dict(colors=colors))\n",
        "fig.write_html('/content/drive/MyDrive/pie_breitbart_final.html')\n",
        "fig.show()"
      ]
    }
  ],
  "metadata": {
    "colab": {
      "collapsed_sections": [],
      "name": "notebook_newspaper_and_political_analysis.ipynb",
      "provenance": []
    },
    "kernelspec": {
      "display_name": "Python 3",
      "language": "python",
      "name": "python3"
    },
    "language_info": {
      "codemirror_mode": {
        "name": "ipython",
        "version": 3
      },
      "file_extension": ".py",
      "mimetype": "text/x-python",
      "name": "python",
      "nbconvert_exporter": "python",
      "pygments_lexer": "ipython3",
      "version": "3.8.8"
    }
  },
  "nbformat": 4,
  "nbformat_minor": 0
}