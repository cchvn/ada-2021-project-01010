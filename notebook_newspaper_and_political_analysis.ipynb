{
  "cells": [
    {
      "cell_type": "markdown",
      "source": [
        "# Part 2 : Newpapers and political analysis\n",
        "---\n",
        "In this parts, we will have a look about newspapers contributions to climate change history. Then, we will have a look about political views of personalities who contributes to write done this story.\n",
        "\n",
        "## Importing Data Filtered and prepare our analysis\n",
        "\n",
        "First, we import data and prepare our data in order to find out which newpapers is talking about climate change to find out relevent newspapers for our analysis. We want to find out to majors US newpapers, one against and one for climate change to compare them and dig in climate change story."
      ],
      "metadata": {
        "id": "TTEMMKvtBtZl"
      }
    },
    {
      "cell_type": "code",
      "execution_count": null,
      "metadata": {
        "colab": {
          "base_uri": "https://localhost:8080/"
        },
        "id": "gkbrAiXz-rDf",
        "outputId": "b686e78b-5064-47ea-e8e3-11de74e2726c"
      },
      "outputs": [
        {
          "output_type": "stream",
          "name": "stdout",
          "text": [
            "Drive already mounted at /content/drive; to attempt to forcibly remount, call drive.mount(\"/content/drive\", force_remount=True).\n"
          ]
        }
      ],
      "source": [
        "from google.colab import drive\n",
        "drive.mount(\"/content/drive\")"
      ]
    },
    {
      "cell_type": "code",
      "execution_count": null,
      "metadata": {
        "colab": {
          "base_uri": "https://localhost:8080/"
        },
        "id": "fO3tg8tNIMDi",
        "outputId": "bc40cc34-8d73-4c90-c3ab-fb4efcd6566a"
      },
      "outputs": [
        {
          "output_type": "stream",
          "name": "stdout",
          "text": [
            "Requirement already satisfied: tld in /usr/local/lib/python3.7/dist-packages (0.12.6)\n"
          ]
        }
      ],
      "source": [
        "!pip install tld"
      ]
    },
    {
      "cell_type": "markdown",
      "source": [
        "- Impot get_fld in order to recover domain name of our dataset."
      ],
      "metadata": {
        "id": "-l2qQAVCDzQK"
      }
    },
    {
      "cell_type": "code",
      "execution_count": null,
      "metadata": {
        "id": "YqfA_AQ0--yC"
      },
      "outputs": [],
      "source": [
        "import pandas as pd\n",
        "import numpy as np\n",
        "from tld import get_fld"
      ]
    },
    {
      "cell_type": "markdown",
      "source": [
        "\n",
        "- Importing all data set filtered from 2015 to 2020 in order to treat it."
      ],
      "metadata": {
        "id": "3DitrJD6DJCw"
      }
    },
    {
      "cell_type": "markdown",
      "source": [
        ""
      ],
      "metadata": {
        "id": "QIaJluAXCHKJ"
      }
    },
    {
      "cell_type": "code",
      "execution_count": null,
      "metadata": {
        "id": "brUqkrtRzQD9"
      },
      "outputs": [],
      "source": [
        "path_to_out_2015 = '/content/drive/MyDrive/quotes-2015-filtered.json.bz2'\n",
        "path_to_out_2016 = '/content/drive/MyDrive/quotes-2016-filtered.json.bz2'\n",
        "path_to_out_2017 = '/content/drive/MyDrive/quotes-2017-filtered.json.bz2'\n",
        "path_to_out_2018 = '/content/drive/MyDrive/quotes-2018-filtered.json.bz2'\n",
        "path_to_out_2019 = '/content/drive/MyDrive/quotes-2019-filtered.json.bz2'\n",
        "path_to_out_2020 = '/content/drive/MyDrive/quotes-2020-filtered.json.bz2'\n",
        "data_2015 = pd.read_json(path_to_out_2015, lines=True)\n",
        "data_2016 = pd.read_json(path_to_out_2016, lines=True)\n",
        "data_2017 = pd.read_json(path_to_out_2017, lines=True)\n",
        "data_2018 = pd.read_json(path_to_out_2018, lines=True)\n",
        "data_2019 = pd.read_json(path_to_out_2019, lines=True)\n",
        "data_2020 = pd.read_json(path_to_out_2020, lines=True)"
      ]
    },
    {
      "cell_type": "markdown",
      "source": [
        "\n",
        "- We put all our data into a single dataframe in order to facilitate it use."
      ],
      "metadata": {
        "id": "tZETGWghB1_N"
      }
    },
    {
      "cell_type": "code",
      "execution_count": null,
      "metadata": {
        "colab": {
          "base_uri": "https://localhost:8080/",
          "height": 728
        },
        "id": "wwNb5KL50TMF",
        "outputId": "4eaf4b0a-fbc5-4715-d8a1-ec17f5777b00"
      },
      "outputs": [
        {
          "output_type": "execute_result",
          "data": {
            "text/html": [
              "\n",
              "  <div id=\"df-2a496e2b-5e70-4482-baad-88b596008250\">\n",
              "    <div class=\"colab-df-container\">\n",
              "      <div>\n",
              "<style scoped>\n",
              "    .dataframe tbody tr th:only-of-type {\n",
              "        vertical-align: middle;\n",
              "    }\n",
              "\n",
              "    .dataframe tbody tr th {\n",
              "        vertical-align: top;\n",
              "    }\n",
              "\n",
              "    .dataframe thead th {\n",
              "        text-align: right;\n",
              "    }\n",
              "</style>\n",
              "<table border=\"1\" class=\"dataframe\">\n",
              "  <thead>\n",
              "    <tr style=\"text-align: right;\">\n",
              "      <th></th>\n",
              "      <th>quoteID</th>\n",
              "      <th>quotation</th>\n",
              "      <th>speaker</th>\n",
              "      <th>qids</th>\n",
              "      <th>date</th>\n",
              "      <th>numOccurrences</th>\n",
              "      <th>probas</th>\n",
              "      <th>urls</th>\n",
              "      <th>phase</th>\n",
              "    </tr>\n",
              "  </thead>\n",
              "  <tbody>\n",
              "    <tr>\n",
              "      <th>0</th>\n",
              "      <td>2015-01-14-004988</td>\n",
              "      <td>another layer of burdensome requirements [ tha...</td>\n",
              "      <td>None</td>\n",
              "      <td>[]</td>\n",
              "      <td>2015-01-14 19:08:33</td>\n",
              "      <td>1</td>\n",
              "      <td>[[None, 0.8135], [Mark Brownstein, 0.1865]]</td>\n",
              "      <td>[http://www.motherjones.com/blue-marble/2015/0...</td>\n",
              "      <td>E</td>\n",
              "    </tr>\n",
              "    <tr>\n",
              "      <th>1</th>\n",
              "      <td>2015-09-09-008765</td>\n",
              "      <td>As siltation is a natural process in the Meghn...</td>\n",
              "      <td>Anisul Islam Mahmud</td>\n",
              "      <td>[Q23762578]</td>\n",
              "      <td>2015-09-09 07:40:37</td>\n",
              "      <td>11</td>\n",
              "      <td>[[Anisul Islam Mahmud, 0.942], [None, 0.058]]</td>\n",
              "      <td>[http://trust.org/item/20150909073825-39czr, h...</td>\n",
              "      <td>E</td>\n",
              "    </tr>\n",
              "    <tr>\n",
              "      <th>2</th>\n",
              "      <td>2015-11-27-010826</td>\n",
              "      <td>But taking money out of their pockets, I've al...</td>\n",
              "      <td>None</td>\n",
              "      <td>[]</td>\n",
              "      <td>2015-11-27 01:45:07</td>\n",
              "      <td>1</td>\n",
              "      <td>[[None, 0.8499], [phil jackson, 0.1501]]</td>\n",
              "      <td>[http://metrotextual.wordpress.com/2015/11/26/...</td>\n",
              "      <td>E</td>\n",
              "    </tr>\n",
              "    <tr>\n",
              "      <th>3</th>\n",
              "      <td>2015-02-09-029204</td>\n",
              "      <td>I want him to be Prime Minister because he sup...</td>\n",
              "      <td>None</td>\n",
              "      <td>[]</td>\n",
              "      <td>2015-02-09 04:28:41</td>\n",
              "      <td>1</td>\n",
              "      <td>[[None, 0.8177], [Malcolm Turnbull, 0.1823]]</td>\n",
              "      <td>[http://sbs.com.au/comedy/article/2015/02/09/w...</td>\n",
              "      <td>E</td>\n",
              "    </tr>\n",
              "    <tr>\n",
              "      <th>4</th>\n",
              "      <td>2015-08-20-016545</td>\n",
              "      <td>caused entirely or mostly by human activities.</td>\n",
              "      <td>None</td>\n",
              "      <td>[]</td>\n",
              "      <td>2015-08-20 19:35:23</td>\n",
              "      <td>2</td>\n",
              "      <td>[[None, 0.7455], [Pope Francis, 0.2545]]</td>\n",
              "      <td>[http://www.bloomberg.com/news/articles/2015-0...</td>\n",
              "      <td>E</td>\n",
              "    </tr>\n",
              "    <tr>\n",
              "      <th>...</th>\n",
              "      <td>...</td>\n",
              "      <td>...</td>\n",
              "      <td>...</td>\n",
              "      <td>...</td>\n",
              "      <td>...</td>\n",
              "      <td>...</td>\n",
              "      <td>...</td>\n",
              "      <td>...</td>\n",
              "      <td>...</td>\n",
              "    </tr>\n",
              "    <tr>\n",
              "      <th>41869</th>\n",
              "      <td>2020-02-15-048259</td>\n",
              "      <td>this balanced red blends weight and power with...</td>\n",
              "      <td>None</td>\n",
              "      <td>[]</td>\n",
              "      <td>2020-02-15 15:00:00</td>\n",
              "      <td>1</td>\n",
              "      <td>[[None, 0.8541], [James Suckling, 0.1459]]</td>\n",
              "      <td>[http://sootoday.com/columns/wine-all-the-time...</td>\n",
              "      <td>E</td>\n",
              "    </tr>\n",
              "    <tr>\n",
              "      <th>41870</th>\n",
              "      <td>2020-01-21-085595</td>\n",
              "      <td>This concept of over-regulation is an interest...</td>\n",
              "      <td>Tim Ryan</td>\n",
              "      <td>[Q10381179, Q3528685, Q513960, Q7804212, Q7804...</td>\n",
              "      <td>2020-01-21 00:00:00</td>\n",
              "      <td>3</td>\n",
              "      <td>[[Tim Ryan, 0.7641], [None, 0.2359]]</td>\n",
              "      <td>[http://nordic.businessinsider.com/pwc-ceo-sur...</td>\n",
              "      <td>E</td>\n",
              "    </tr>\n",
              "    <tr>\n",
              "      <th>41871</th>\n",
              "      <td>2020-01-26-053553</td>\n",
              "      <td>Well, Joe, you're wrong.</td>\n",
              "      <td>Bernie Sanders</td>\n",
              "      <td>[Q359442]</td>\n",
              "      <td>2020-01-26 17:01:39</td>\n",
              "      <td>10</td>\n",
              "      <td>[[Bernie Sanders, 0.8208], [None, 0.1573], [Jo...</td>\n",
              "      <td>[https://www.nytimes.com/live/2020/iowa-democr...</td>\n",
              "      <td>E</td>\n",
              "    </tr>\n",
              "    <tr>\n",
              "      <th>41872</th>\n",
              "      <td>2020-02-23-041538</td>\n",
              "      <td>We've been writing about climate change being ...</td>\n",
              "      <td>Lesley Hughes</td>\n",
              "      <td>[Q53473786]</td>\n",
              "      <td>2020-02-23 22:38:42</td>\n",
              "      <td>2</td>\n",
              "      <td>[[Lesley Hughes, 0.9023], [None, 0.0978]]</td>\n",
              "      <td>[https://www.nytimes.com/2020/02/23/world/aust...</td>\n",
              "      <td>E</td>\n",
              "    </tr>\n",
              "    <tr>\n",
              "      <th>41873</th>\n",
              "      <td>2020-02-05-118499</td>\n",
              "      <td>What's far more meaningful to the climate righ...</td>\n",
              "      <td>None</td>\n",
              "      <td>[]</td>\n",
              "      <td>2020-02-05 04:32:35</td>\n",
              "      <td>3</td>\n",
              "      <td>[[None, 0.8397], [Irfan Khan, 0.1603]]</td>\n",
              "      <td>[https://www.latimes.com/environment/story/202...</td>\n",
              "      <td>E</td>\n",
              "    </tr>\n",
              "  </tbody>\n",
              "</table>\n",
              "<p>718633 rows × 9 columns</p>\n",
              "</div>\n",
              "      <button class=\"colab-df-convert\" onclick=\"convertToInteractive('df-2a496e2b-5e70-4482-baad-88b596008250')\"\n",
              "              title=\"Convert this dataframe to an interactive table.\"\n",
              "              style=\"display:none;\">\n",
              "        \n",
              "  <svg xmlns=\"http://www.w3.org/2000/svg\" height=\"24px\"viewBox=\"0 0 24 24\"\n",
              "       width=\"24px\">\n",
              "    <path d=\"M0 0h24v24H0V0z\" fill=\"none\"/>\n",
              "    <path d=\"M18.56 5.44l.94 2.06.94-2.06 2.06-.94-2.06-.94-.94-2.06-.94 2.06-2.06.94zm-11 1L8.5 8.5l.94-2.06 2.06-.94-2.06-.94L8.5 2.5l-.94 2.06-2.06.94zm10 10l.94 2.06.94-2.06 2.06-.94-2.06-.94-.94-2.06-.94 2.06-2.06.94z\"/><path d=\"M17.41 7.96l-1.37-1.37c-.4-.4-.92-.59-1.43-.59-.52 0-1.04.2-1.43.59L10.3 9.45l-7.72 7.72c-.78.78-.78 2.05 0 2.83L4 21.41c.39.39.9.59 1.41.59.51 0 1.02-.2 1.41-.59l7.78-7.78 2.81-2.81c.8-.78.8-2.07 0-2.86zM5.41 20L4 18.59l7.72-7.72 1.47 1.35L5.41 20z\"/>\n",
              "  </svg>\n",
              "      </button>\n",
              "      \n",
              "  <style>\n",
              "    .colab-df-container {\n",
              "      display:flex;\n",
              "      flex-wrap:wrap;\n",
              "      gap: 12px;\n",
              "    }\n",
              "\n",
              "    .colab-df-convert {\n",
              "      background-color: #E8F0FE;\n",
              "      border: none;\n",
              "      border-radius: 50%;\n",
              "      cursor: pointer;\n",
              "      display: none;\n",
              "      fill: #1967D2;\n",
              "      height: 32px;\n",
              "      padding: 0 0 0 0;\n",
              "      width: 32px;\n",
              "    }\n",
              "\n",
              "    .colab-df-convert:hover {\n",
              "      background-color: #E2EBFA;\n",
              "      box-shadow: 0px 1px 2px rgba(60, 64, 67, 0.3), 0px 1px 3px 1px rgba(60, 64, 67, 0.15);\n",
              "      fill: #174EA6;\n",
              "    }\n",
              "\n",
              "    [theme=dark] .colab-df-convert {\n",
              "      background-color: #3B4455;\n",
              "      fill: #D2E3FC;\n",
              "    }\n",
              "\n",
              "    [theme=dark] .colab-df-convert:hover {\n",
              "      background-color: #434B5C;\n",
              "      box-shadow: 0px 1px 3px 1px rgba(0, 0, 0, 0.15);\n",
              "      filter: drop-shadow(0px 1px 2px rgba(0, 0, 0, 0.3));\n",
              "      fill: #FFFFFF;\n",
              "    }\n",
              "  </style>\n",
              "\n",
              "      <script>\n",
              "        const buttonEl =\n",
              "          document.querySelector('#df-2a496e2b-5e70-4482-baad-88b596008250 button.colab-df-convert');\n",
              "        buttonEl.style.display =\n",
              "          google.colab.kernel.accessAllowed ? 'block' : 'none';\n",
              "\n",
              "        async function convertToInteractive(key) {\n",
              "          const element = document.querySelector('#df-2a496e2b-5e70-4482-baad-88b596008250');\n",
              "          const dataTable =\n",
              "            await google.colab.kernel.invokeFunction('convertToInteractive',\n",
              "                                                     [key], {});\n",
              "          if (!dataTable) return;\n",
              "\n",
              "          const docLinkHtml = 'Like what you see? Visit the ' +\n",
              "            '<a target=\"_blank\" href=https://colab.research.google.com/notebooks/data_table.ipynb>data table notebook</a>'\n",
              "            + ' to learn more about interactive tables.';\n",
              "          element.innerHTML = '';\n",
              "          dataTable['output_type'] = 'display_data';\n",
              "          await google.colab.output.renderOutput(dataTable, element);\n",
              "          const docLink = document.createElement('div');\n",
              "          docLink.innerHTML = docLinkHtml;\n",
              "          element.appendChild(docLink);\n",
              "        }\n",
              "      </script>\n",
              "    </div>\n",
              "  </div>\n",
              "  "
            ],
            "text/plain": [
              "                 quoteID  ... phase\n",
              "0      2015-01-14-004988  ...     E\n",
              "1      2015-09-09-008765  ...     E\n",
              "2      2015-11-27-010826  ...     E\n",
              "3      2015-02-09-029204  ...     E\n",
              "4      2015-08-20-016545  ...     E\n",
              "...                  ...  ...   ...\n",
              "41869  2020-02-15-048259  ...     E\n",
              "41870  2020-01-21-085595  ...     E\n",
              "41871  2020-01-26-053553  ...     E\n",
              "41872  2020-02-23-041538  ...     E\n",
              "41873  2020-02-05-118499  ...     E\n",
              "\n",
              "[718633 rows x 9 columns]"
            ]
          },
          "metadata": {},
          "execution_count": 6
        }
      ],
      "source": [
        "data = [data_2015, data_2016, data_2017, data_2018, data_2019, data_2020]\n",
        "data_all = pd.concat(data)\n",
        "data_all"
      ]
    },
    {
      "cell_type": "markdown",
      "source": [
        "- We apply a mapping on all our datas and get at each element `el` of the url the domain name related to each quotes"
      ],
      "metadata": {
        "id": "56ki8bicD_SD"
      }
    },
    {
      "cell_type": "code",
      "execution_count": null,
      "metadata": {
        "id": "SQQEDyLQEA5f"
      },
      "outputs": [],
      "source": [
        "data_all['domain_name'] = data_all.urls.map(lambda urls: [get_fld(el) for el in urls])"
      ]
    },
    {
      "cell_type": "markdown",
      "source": [
        "Here, we find out a problem of parsing of data urls that we notice into dataset issus on the google form. So on, we apply another filter to avoid this problem."
      ],
      "metadata": {
        "id": "p65GJkD1D9rw"
      }
    },
    {
      "cell_type": "code",
      "source": [
        "data_all = data_all[np.logical_not(data_all.quotation.str.contains('display:'))]"
      ],
      "metadata": {
        "id": "iQiKCkIABT2V"
      },
      "execution_count": null,
      "outputs": []
    },
    {
      "cell_type": "markdown",
      "source": [
        "## Analysis over 2 newpapers: Breitbart and Inside Climate News\n",
        "\n",
        "### First investigation\n",
        "\n",
        "Now, we find out two newspapers: one against climate change, Breitbart and one for climate change, Inside Climate News. Then we want to comparer those two newspapers in order to perform a global analysis and to take in account two points of views. Firstly, we compute number of quotes for both newspapers and we find out that Breitbart have more quotes than Inside climate news. "
      ],
      "metadata": {
        "id": "sS3g6EU_GROX"
      }
    },
    {
      "cell_type": "code",
      "source": [
        "# Number of quotes per domaine name\n",
        "domaine_quotes_count = data_all['domain_name'].explode().value_counts()\n",
        "print('breitbart.com -> '+str(domaine_quotes_count.loc['breitbart.com']))\n",
        "print('insideclimatenews.org -> '+str(domaine_quotes_count.loc['insideclimatenews.org']))"
      ],
      "metadata": {
        "colab": {
          "base_uri": "https://localhost:8080/"
        },
        "id": "v7ntas0O51FF",
        "outputId": "4a72caee-26ce-4fa5-a017-57456b368a85"
      },
      "execution_count": null,
      "outputs": [
        {
          "output_type": "stream",
          "name": "stdout",
          "text": [
            "breitbart.com -> 40102\n",
            "insideclimatenews.org -> 21202\n"
          ]
        }
      ]
    },
    {
      "cell_type": "markdown",
      "source": [
        "But, Breitbart have several quotes that they use for different articles. Instead, Inside Climate News have only few quotes that they reused in other articles."
      ],
      "metadata": {
        "id": "xaJVURiMHwW-"
      }
    },
    {
      "cell_type": "code",
      "execution_count": null,
      "metadata": {
        "colab": {
          "base_uri": "https://localhost:8080/"
        },
        "id": "2a-4AIMJAFn2",
        "outputId": "2c7c9d08-68f5-4724-98c0-1d4dc6c28526"
      },
      "outputs": [
        {
          "output_type": "stream",
          "name": "stdout",
          "text": [
            "breitbart.com -> 19972\n",
            "insideclimatenews.org -> 23184\n"
          ]
        }
      ],
      "source": [
        "# Number of quotes unique per journal\n",
        "unique_quotes=[]\n",
        "for el in data_all['domain_name']:\n",
        "  unique_quotes.extend(set(el))\n",
        "domaine_unique_quotes_count=pd.Series(unique_quotes).value_counts()\n",
        "\n",
        "print('breitbart.com -> '+str(domaine_unique_quotes_count.loc['insideclimatenews.org']))\n",
        "print('insideclimatenews.org -> '+str(domaine_unique_quotes_count.loc['breitbart.com']))"
      ]
    },
    {
      "cell_type": "markdown",
      "source": [
        "An idea that come to our mind is to find out the Breitbart's distribution of reused quotes. We then observe that this distribution corresponds to a power law which help us to conclude that while Breitbart reused quotations, increasing reusing quotations decrease expentionally the number of quotes."
      ],
      "metadata": {
        "id": "maswQwIZIaTl"
      }
    },
    {
      "cell_type": "code",
      "source": [
        "# Generate distribution of quotes uses\n",
        "import plotly.express as px\n",
        "from numpy.core.fromnumeric import shape\n",
        "\n",
        "# Calculate max value\n",
        "max = data_all['domain_name'].map(lambda el: el.count('breitbart.com')).max()\n",
        "\n",
        "# Map a value to each point\n",
        "distribution=[]\n",
        "for i in range(max):\n",
        "  distribution.append(shape(data_all[data_all.domain_name.map(lambda x: x.count('breitbart.com') > i)])[0])\n",
        "\n",
        "new_table = np.c_[np.array([i+1 for i in range(max)]),distribution]\n",
        "df = pd.DataFrame(new_table, columns = ['Number of times of used quotes','Number of quotes'])\n",
        "fig = px.line(df, x=\"Number of times of used quotes\", y='Number of quotes',log_y=True,log_x=True)\n",
        "fig.write_html('/content/drive/MyDrive/power_law_final.html')\n",
        "fig.show()"
      ],
      "metadata": {
        "colab": {
          "base_uri": "https://localhost:8080/",
          "height": 542
        },
        "id": "PlPzb1j8IZxk",
        "outputId": "f8241600-8032-4b81-fe47-5706a441dc4c"
      },
      "execution_count": null,
      "outputs": [
        {
          "output_type": "display_data",
          "data": {
            "text/html": [
              "<html>\n",
              "<head><meta charset=\"utf-8\" /></head>\n",
              "<body>\n",
              "    <div>\n",
              "            <script src=\"https://cdnjs.cloudflare.com/ajax/libs/mathjax/2.7.5/MathJax.js?config=TeX-AMS-MML_SVG\"></script><script type=\"text/javascript\">if (window.MathJax) {MathJax.Hub.Config({SVG: {font: \"STIX-Web\"}});}</script>\n",
              "                <script type=\"text/javascript\">window.PlotlyConfig = {MathJaxConfig: 'local'};</script>\n",
              "        <script src=\"https://cdn.plot.ly/plotly-latest.min.js\"></script>    \n",
              "            <div id=\"d99ded60-d638-4348-b045-d3cde953b0d2\" class=\"plotly-graph-div\" style=\"height:525px; width:100%;\"></div>\n",
              "            <script type=\"text/javascript\">\n",
              "                \n",
              "                    window.PLOTLYENV=window.PLOTLYENV || {};\n",
              "                    \n",
              "                if (document.getElementById(\"d99ded60-d638-4348-b045-d3cde953b0d2\")) {\n",
              "                    Plotly.newPlot(\n",
              "                        'd99ded60-d638-4348-b045-d3cde953b0d2',\n",
              "                        [{\"hoverlabel\": {\"namelength\": 0}, \"hovertemplate\": \"Number of times of used quotes=%{x}<br>Number of quotes=%{y}\", \"legendgroup\": \"\", \"line\": {\"color\": \"#636efa\", \"dash\": \"solid\"}, \"mode\": \"lines\", \"name\": \"\", \"showlegend\": false, \"type\": \"scatter\", \"x\": [1, 2, 3, 4, 5, 6, 7, 8, 9, 10, 11, 12, 13, 14, 15, 16, 17, 18, 19, 20, 21, 22, 23, 24, 25, 26, 27, 28, 29, 30, 31, 32, 33, 34, 35, 36, 37, 38, 39, 40, 41, 42, 43, 44, 45, 46, 47, 48, 49, 50, 51, 52, 53, 54, 55, 56, 57, 58, 59, 60, 61, 62, 63, 64, 65, 66, 67, 68, 69, 70, 71, 72, 73, 74, 75, 76, 77, 78, 79, 80, 81, 82, 83, 84, 85, 86, 87, 88, 89, 90, 91, 92, 93, 94, 95, 96, 97, 98, 99, 100, 101, 102, 103, 104, 105, 106, 107, 108, 109, 110, 111, 112, 113, 114, 115, 116, 117, 118, 119, 120, 121, 122, 123, 124, 125, 126, 127, 128, 129, 130, 131, 132, 133, 134, 135, 136, 137, 138, 139, 140, 141, 142, 143, 144, 145, 146, 147, 148, 149, 150, 151, 152, 153, 154, 155, 156, 157, 158, 159, 160, 161, 162, 163, 164, 165, 166, 167, 168, 169, 170, 171, 172, 173, 174, 175, 176, 177, 178, 179, 180, 181, 182, 183, 184, 185, 186, 187, 188, 189, 190, 191, 192, 193, 194, 195, 196, 197, 198, 199, 200, 201, 202, 203, 204, 205, 206, 207, 208], \"xaxis\": \"x\", \"y\": [23184, 5997, 2536, 1534, 1015, 758, 577, 445, 355, 302, 260, 229, 205, 180, 161, 155, 144, 136, 124, 117, 102, 97, 90, 81, 66, 53, 44, 39, 36, 32, 29, 28, 28, 27, 27, 24, 23, 21, 18, 17, 17, 17, 16, 14, 12, 11, 11, 11, 11, 11, 11, 10, 10, 10, 10, 9, 9, 9, 9, 9, 8, 8, 8, 8, 8, 8, 8, 8, 7, 7, 6, 6, 6, 5, 5, 5, 5, 5, 5, 4, 4, 3, 3, 3, 3, 3, 3, 3, 3, 3, 3, 3, 3, 2, 2, 2, 2, 2, 2, 2, 2, 2, 2, 2, 2, 2, 2, 2, 2, 2, 2, 2, 2, 2, 2, 2, 2, 2, 2, 2, 2, 2, 2, 2, 2, 2, 2, 2, 2, 2, 2, 2, 2, 2, 2, 2, 2, 2, 2, 1, 1, 1, 1, 1, 1, 1, 1, 1, 1, 1, 1, 1, 1, 1, 1, 1, 1, 1, 1, 1, 1, 1, 1, 1, 1, 1, 1, 1, 1, 1, 1, 1, 1, 1, 1, 1, 1, 1, 1, 1, 1, 1, 1, 1, 1, 1, 1, 1, 1, 1, 1, 1, 1, 1, 1, 1, 1, 1, 1, 1, 1, 1, 1, 1, 1, 1, 1, 1], \"yaxis\": \"y\"}],\n",
              "                        {\"legend\": {\"tracegroupgap\": 0}, \"margin\": {\"t\": 60}, \"template\": {\"data\": {\"bar\": [{\"error_x\": {\"color\": \"#2a3f5f\"}, \"error_y\": {\"color\": \"#2a3f5f\"}, \"marker\": {\"line\": {\"color\": \"#E5ECF6\", \"width\": 0.5}}, \"type\": \"bar\"}], \"barpolar\": [{\"marker\": {\"line\": {\"color\": \"#E5ECF6\", \"width\": 0.5}}, \"type\": \"barpolar\"}], \"carpet\": [{\"aaxis\": {\"endlinecolor\": \"#2a3f5f\", \"gridcolor\": \"white\", \"linecolor\": \"white\", \"minorgridcolor\": \"white\", \"startlinecolor\": \"#2a3f5f\"}, \"baxis\": {\"endlinecolor\": \"#2a3f5f\", \"gridcolor\": \"white\", \"linecolor\": \"white\", \"minorgridcolor\": \"white\", \"startlinecolor\": \"#2a3f5f\"}, \"type\": \"carpet\"}], \"choropleth\": [{\"colorbar\": {\"outlinewidth\": 0, \"ticks\": \"\"}, \"type\": \"choropleth\"}], \"contour\": [{\"colorbar\": {\"outlinewidth\": 0, \"ticks\": \"\"}, \"colorscale\": [[0.0, \"#0d0887\"], [0.1111111111111111, \"#46039f\"], [0.2222222222222222, \"#7201a8\"], [0.3333333333333333, \"#9c179e\"], [0.4444444444444444, \"#bd3786\"], [0.5555555555555556, \"#d8576b\"], [0.6666666666666666, \"#ed7953\"], [0.7777777777777778, \"#fb9f3a\"], [0.8888888888888888, \"#fdca26\"], [1.0, \"#f0f921\"]], \"type\": \"contour\"}], \"contourcarpet\": [{\"colorbar\": {\"outlinewidth\": 0, \"ticks\": \"\"}, \"type\": \"contourcarpet\"}], \"heatmap\": [{\"colorbar\": {\"outlinewidth\": 0, \"ticks\": \"\"}, \"colorscale\": [[0.0, \"#0d0887\"], [0.1111111111111111, \"#46039f\"], [0.2222222222222222, \"#7201a8\"], [0.3333333333333333, \"#9c179e\"], [0.4444444444444444, \"#bd3786\"], [0.5555555555555556, \"#d8576b\"], [0.6666666666666666, \"#ed7953\"], [0.7777777777777778, \"#fb9f3a\"], [0.8888888888888888, \"#fdca26\"], [1.0, \"#f0f921\"]], \"type\": \"heatmap\"}], \"heatmapgl\": [{\"colorbar\": {\"outlinewidth\": 0, \"ticks\": \"\"}, \"colorscale\": [[0.0, \"#0d0887\"], [0.1111111111111111, \"#46039f\"], [0.2222222222222222, \"#7201a8\"], [0.3333333333333333, \"#9c179e\"], [0.4444444444444444, \"#bd3786\"], [0.5555555555555556, \"#d8576b\"], [0.6666666666666666, \"#ed7953\"], [0.7777777777777778, \"#fb9f3a\"], [0.8888888888888888, \"#fdca26\"], [1.0, \"#f0f921\"]], \"type\": \"heatmapgl\"}], \"histogram\": [{\"marker\": {\"colorbar\": {\"outlinewidth\": 0, \"ticks\": \"\"}}, \"type\": \"histogram\"}], \"histogram2d\": [{\"colorbar\": {\"outlinewidth\": 0, \"ticks\": \"\"}, \"colorscale\": [[0.0, \"#0d0887\"], [0.1111111111111111, \"#46039f\"], [0.2222222222222222, \"#7201a8\"], [0.3333333333333333, \"#9c179e\"], [0.4444444444444444, \"#bd3786\"], [0.5555555555555556, \"#d8576b\"], [0.6666666666666666, \"#ed7953\"], [0.7777777777777778, \"#fb9f3a\"], [0.8888888888888888, \"#fdca26\"], [1.0, \"#f0f921\"]], \"type\": \"histogram2d\"}], \"histogram2dcontour\": [{\"colorbar\": {\"outlinewidth\": 0, \"ticks\": \"\"}, \"colorscale\": [[0.0, \"#0d0887\"], [0.1111111111111111, \"#46039f\"], [0.2222222222222222, \"#7201a8\"], [0.3333333333333333, \"#9c179e\"], [0.4444444444444444, \"#bd3786\"], [0.5555555555555556, \"#d8576b\"], [0.6666666666666666, \"#ed7953\"], [0.7777777777777778, \"#fb9f3a\"], [0.8888888888888888, \"#fdca26\"], [1.0, \"#f0f921\"]], \"type\": \"histogram2dcontour\"}], \"mesh3d\": [{\"colorbar\": {\"outlinewidth\": 0, \"ticks\": \"\"}, \"type\": \"mesh3d\"}], \"parcoords\": [{\"line\": {\"colorbar\": {\"outlinewidth\": 0, \"ticks\": \"\"}}, \"type\": \"parcoords\"}], \"pie\": [{\"automargin\": true, \"type\": \"pie\"}], \"scatter\": [{\"marker\": {\"colorbar\": {\"outlinewidth\": 0, \"ticks\": \"\"}}, \"type\": \"scatter\"}], \"scatter3d\": [{\"line\": {\"colorbar\": {\"outlinewidth\": 0, \"ticks\": \"\"}}, \"marker\": {\"colorbar\": {\"outlinewidth\": 0, \"ticks\": \"\"}}, \"type\": \"scatter3d\"}], \"scattercarpet\": [{\"marker\": {\"colorbar\": {\"outlinewidth\": 0, \"ticks\": \"\"}}, \"type\": \"scattercarpet\"}], \"scattergeo\": [{\"marker\": {\"colorbar\": {\"outlinewidth\": 0, \"ticks\": \"\"}}, \"type\": \"scattergeo\"}], \"scattergl\": [{\"marker\": {\"colorbar\": {\"outlinewidth\": 0, \"ticks\": \"\"}}, \"type\": \"scattergl\"}], \"scattermapbox\": [{\"marker\": {\"colorbar\": {\"outlinewidth\": 0, \"ticks\": \"\"}}, \"type\": \"scattermapbox\"}], \"scatterpolar\": [{\"marker\": {\"colorbar\": {\"outlinewidth\": 0, \"ticks\": \"\"}}, \"type\": \"scatterpolar\"}], \"scatterpolargl\": [{\"marker\": {\"colorbar\": {\"outlinewidth\": 0, \"ticks\": \"\"}}, \"type\": \"scatterpolargl\"}], \"scatterternary\": [{\"marker\": {\"colorbar\": {\"outlinewidth\": 0, \"ticks\": \"\"}}, \"type\": \"scatterternary\"}], \"surface\": [{\"colorbar\": {\"outlinewidth\": 0, \"ticks\": \"\"}, \"colorscale\": [[0.0, \"#0d0887\"], [0.1111111111111111, \"#46039f\"], [0.2222222222222222, \"#7201a8\"], [0.3333333333333333, \"#9c179e\"], [0.4444444444444444, \"#bd3786\"], [0.5555555555555556, \"#d8576b\"], [0.6666666666666666, \"#ed7953\"], [0.7777777777777778, \"#fb9f3a\"], [0.8888888888888888, \"#fdca26\"], [1.0, \"#f0f921\"]], \"type\": \"surface\"}], \"table\": [{\"cells\": {\"fill\": {\"color\": \"#EBF0F8\"}, \"line\": {\"color\": \"white\"}}, \"header\": {\"fill\": {\"color\": \"#C8D4E3\"}, \"line\": {\"color\": \"white\"}}, \"type\": \"table\"}]}, \"layout\": {\"annotationdefaults\": {\"arrowcolor\": \"#2a3f5f\", \"arrowhead\": 0, \"arrowwidth\": 1}, \"coloraxis\": {\"colorbar\": {\"outlinewidth\": 0, \"ticks\": \"\"}}, \"colorscale\": {\"diverging\": [[0, \"#8e0152\"], [0.1, \"#c51b7d\"], [0.2, \"#de77ae\"], [0.3, \"#f1b6da\"], [0.4, \"#fde0ef\"], [0.5, \"#f7f7f7\"], [0.6, \"#e6f5d0\"], [0.7, \"#b8e186\"], [0.8, \"#7fbc41\"], [0.9, \"#4d9221\"], [1, \"#276419\"]], \"sequential\": [[0.0, \"#0d0887\"], [0.1111111111111111, \"#46039f\"], [0.2222222222222222, \"#7201a8\"], [0.3333333333333333, \"#9c179e\"], [0.4444444444444444, \"#bd3786\"], [0.5555555555555556, \"#d8576b\"], [0.6666666666666666, \"#ed7953\"], [0.7777777777777778, \"#fb9f3a\"], [0.8888888888888888, \"#fdca26\"], [1.0, \"#f0f921\"]], \"sequentialminus\": [[0.0, \"#0d0887\"], [0.1111111111111111, \"#46039f\"], [0.2222222222222222, \"#7201a8\"], [0.3333333333333333, \"#9c179e\"], [0.4444444444444444, \"#bd3786\"], [0.5555555555555556, \"#d8576b\"], [0.6666666666666666, \"#ed7953\"], [0.7777777777777778, \"#fb9f3a\"], [0.8888888888888888, \"#fdca26\"], [1.0, \"#f0f921\"]]}, \"colorway\": [\"#636efa\", \"#EF553B\", \"#00cc96\", \"#ab63fa\", \"#FFA15A\", \"#19d3f3\", \"#FF6692\", \"#B6E880\", \"#FF97FF\", \"#FECB52\"], \"font\": {\"color\": \"#2a3f5f\"}, \"geo\": {\"bgcolor\": \"white\", \"lakecolor\": \"white\", \"landcolor\": \"#E5ECF6\", \"showlakes\": true, \"showland\": true, \"subunitcolor\": \"white\"}, \"hoverlabel\": {\"align\": \"left\"}, \"hovermode\": \"closest\", \"mapbox\": {\"style\": \"light\"}, \"paper_bgcolor\": \"white\", \"plot_bgcolor\": \"#E5ECF6\", \"polar\": {\"angularaxis\": {\"gridcolor\": \"white\", \"linecolor\": \"white\", \"ticks\": \"\"}, \"bgcolor\": \"#E5ECF6\", \"radialaxis\": {\"gridcolor\": \"white\", \"linecolor\": \"white\", \"ticks\": \"\"}}, \"scene\": {\"xaxis\": {\"backgroundcolor\": \"#E5ECF6\", \"gridcolor\": \"white\", \"gridwidth\": 2, \"linecolor\": \"white\", \"showbackground\": true, \"ticks\": \"\", \"zerolinecolor\": \"white\"}, \"yaxis\": {\"backgroundcolor\": \"#E5ECF6\", \"gridcolor\": \"white\", \"gridwidth\": 2, \"linecolor\": \"white\", \"showbackground\": true, \"ticks\": \"\", \"zerolinecolor\": \"white\"}, \"zaxis\": {\"backgroundcolor\": \"#E5ECF6\", \"gridcolor\": \"white\", \"gridwidth\": 2, \"linecolor\": \"white\", \"showbackground\": true, \"ticks\": \"\", \"zerolinecolor\": \"white\"}}, \"shapedefaults\": {\"line\": {\"color\": \"#2a3f5f\"}}, \"ternary\": {\"aaxis\": {\"gridcolor\": \"white\", \"linecolor\": \"white\", \"ticks\": \"\"}, \"baxis\": {\"gridcolor\": \"white\", \"linecolor\": \"white\", \"ticks\": \"\"}, \"bgcolor\": \"#E5ECF6\", \"caxis\": {\"gridcolor\": \"white\", \"linecolor\": \"white\", \"ticks\": \"\"}}, \"title\": {\"x\": 0.05}, \"xaxis\": {\"automargin\": true, \"gridcolor\": \"white\", \"linecolor\": \"white\", \"ticks\": \"\", \"title\": {\"standoff\": 15}, \"zerolinecolor\": \"white\", \"zerolinewidth\": 2}, \"yaxis\": {\"automargin\": true, \"gridcolor\": \"white\", \"linecolor\": \"white\", \"ticks\": \"\", \"title\": {\"standoff\": 15}, \"zerolinecolor\": \"white\", \"zerolinewidth\": 2}}}, \"xaxis\": {\"anchor\": \"y\", \"domain\": [0.0, 1.0], \"title\": {\"text\": \"Number of times of used quotes\"}, \"type\": \"log\"}, \"yaxis\": {\"anchor\": \"x\", \"domain\": [0.0, 1.0], \"title\": {\"text\": \"Number of quotes\"}, \"type\": \"log\"}},\n",
              "                        {\"responsive\": true}\n",
              "                    ).then(function(){\n",
              "                            \n",
              "var gd = document.getElementById('d99ded60-d638-4348-b045-d3cde953b0d2');\n",
              "var x = new MutationObserver(function (mutations, observer) {{\n",
              "        var display = window.getComputedStyle(gd).display;\n",
              "        if (!display || display === 'none') {{\n",
              "            console.log([gd, 'removed!']);\n",
              "            Plotly.purge(gd);\n",
              "            observer.disconnect();\n",
              "        }}\n",
              "}});\n",
              "\n",
              "// Listen for the removal of the full notebook cells\n",
              "var notebookContainer = gd.closest('#notebook-container');\n",
              "if (notebookContainer) {{\n",
              "    x.observe(notebookContainer, {childList: true});\n",
              "}}\n",
              "\n",
              "// Listen for the clearing of the current output cell\n",
              "var outputEl = gd.closest('.output');\n",
              "if (outputEl) {{\n",
              "    x.observe(outputEl, {childList: true});\n",
              "}}\n",
              "\n",
              "                        })\n",
              "                };\n",
              "                \n",
              "            </script>\n",
              "        </div>\n",
              "</body>\n",
              "</html>"
            ]
          },
          "metadata": {}
        }
      ]
    },
    {
      "cell_type": "markdown",
      "source": [
        "### Creating node graph\n",
        "\n",
        "After this first investigation, the idea was to understand more how both newspapers create their opinions regarding global warming. To do so, we look at which newpapers are they sharing the more quotes. We thinks that a node graph will be the best way in order to observe those sharing."
      ],
      "metadata": {
        "id": "gfBtV0vUK1Hi"
      }
    },
    {
      "cell_type": "code",
      "execution_count": null,
      "metadata": {
        "id": "o058FNVfXuNA",
        "colab": {
          "base_uri": "https://localhost:8080/"
        },
        "outputId": "fbe59b4a-213d-40ad-ff0b-61712626b672"
      },
      "outputs": [
        {
          "output_type": "execute_result",
          "data": {
            "text/plain": [
              "dailyclimate.org              7375\n",
              "carbonbrief.org               6375\n",
              "insideclimatenews.org         5172\n",
              "breitbart.com                 3468\n",
              "theguardian.com               3164\n",
              "climatechangenews.com         3006\n",
              "thehill.com                   2929\n",
              "washingtonexaminer.com        2827\n",
              "commondreams.org              2807\n",
              "wordpress.com                 2495\n",
              "nytimes.com                   2325\n",
              "cbc.ca                        2302\n",
              "dailycaller.com               2248\n",
              "nationalobserver.com          2223\n",
              "yaleclimateconnections.org    2165\n",
              "msn.com                       2138\n",
              "politico.com                  2070\n",
              "afr.com                       2054\n",
              "thinkprogress.org             2008\n",
              "independent.co.uk             1776\n",
              "dtype: int64"
            ]
          },
          "metadata": {},
          "execution_count": 11
        }
      ],
      "source": [
        "# Number of quotations quoted only by 1 journal\n",
        "quotation_by_single_newspaper=[]\n",
        "for el in data_all['domain_name']:\n",
        "  if np.size(el)<=1:\n",
        "    quotation_by_single_newspaper.extend(el)\n",
        "pd.Series(quotation_by_single_newspaper).value_counts().head(20)"
      ]
    },
    {
      "cell_type": "code",
      "execution_count": null,
      "metadata": {
        "id": "4B6bBUTv5stk",
        "colab": {
          "base_uri": "https://localhost:8080/"
        },
        "outputId": "59df1b2b-149c-4b11-9675-43677030c517"
      },
      "outputs": [
        {
          "output_type": "stream",
          "name": "stdout",
          "text": [
            "Breitbart : \n",
            "breitbart.com           23184\n",
            "yahoo.com                5180\n",
            "msn.com                  4691\n",
            "news12.com               4370\n",
            "kdhnews.com              4183\n",
            "seattletimes.com         3816\n",
            "sfgate.com               3810\n",
            "startribune.com          3623\n",
            "washingtontimes.com      3609\n",
            "wftv.com                 3524\n",
            "wtop.com                 3337\n",
            "mysanantonio.com         3199\n",
            "wsbradio.com             3153\n",
            "wboc.com                 3130\n",
            "ctpost.com               3122\n",
            "wthr.com                 3067\n",
            "wsoctv.com               3012\n",
            "stamfordadvocate.com     2967\n",
            "newstimes.com            2946\n",
            "phys.org                 2914\n",
            "dtype: int64\n",
            "\n",
            "Inside climate news : \n",
            "insideclimatenews.org          19972\n",
            "environmentalhealthnews.org     2675\n",
            "dailyclimate.org                2644\n",
            "nytimes.com                     1864\n",
            "msn.com                         1807\n",
            "yahoo.com                       1230\n",
            "thehill.com                     1142\n",
            "startribune.com                  914\n",
            "seattletimes.com                 819\n",
            "breitbart.com                    804\n",
            "sfgate.com                       804\n",
            "cnbc.com                         689\n",
            "washingtontimes.com              651\n",
            "washingtonpost.com               645\n",
            "eenews.net                       639\n",
            "lmtonline.com                    639\n",
            "kdhnews.com                      583\n",
            "mysanantonio.com                 556\n",
            "newsmax.com                      545\n",
            "wtop.com                         517\n",
            "dtype: int64\n"
          ]
        }
      ],
      "source": [
        "# Quotations and who also uses them for breitbart and inside climate news\n",
        "breitbart_uses_acc=[]\n",
        "inside_uses_acc=[]\n",
        "for el in data_all['domain_name']:\n",
        "  if el.count('breitbart.com')>=1:\n",
        "    breitbart_uses_acc.extend(set(el))\n",
        "  if el.count('insideclimatenews.org')>=1:\n",
        "    inside_uses_acc.extend(set(el))\n",
        "\n",
        "breitbart_uses=pd.Series(breitbart_uses_acc).value_counts()\n",
        "inside_climate_news_uses=pd.Series(inside_uses_acc).value_counts()\n",
        "\n",
        "print(\"Breitbart : \")\n",
        "print(breitbart_uses.head(20))\n",
        "print(\"\\nInside climate news : \")\n",
        "print(inside_climate_news_uses.head(20))"
      ]
    },
    {
      "cell_type": "code",
      "execution_count": null,
      "metadata": {
        "id": "LbBDDqZciZFG",
        "colab": {
          "base_uri": "https://localhost:8080/",
          "height": 248
        },
        "outputId": "a3ca7554-ce7d-48e4-c842-1c538b6b8a38"
      },
      "outputs": [
        {
          "output_type": "display_data",
          "data": {
            "image/png": "[encoded data removed]",
            "text/plain": [
              "<Figure size 432x288 with 1 Axes>"
            ]
          },
          "metadata": {}
        }
      ],
      "source": [
        "# Generate a networkx graph of uses quotations\n",
        "import networkx as nx\n",
        "import matplotlib.pyplot as plt\n",
        "import matplotlib as mpl\n",
        "\n",
        "breightbart_score = breitbart_uses.loc['breitbart.com']\n",
        "carbonbrief_score = inside_climate_news_uses.loc['breitbart.com']\n",
        "\n",
        "Dict = {\"breitbart.com\": 0, \"insideclimatenews.org\": 1}\n",
        "nb_top = 70\n",
        "\n",
        "cmap = plt.cm.Accent\n",
        "norm = mpl.colors.Normalize(vmin=0, vmax=2)\n",
        "m = plt.cm.ScalarMappable(norm=norm, cmap=cmap)\n",
        "G = nx.Graph()\n",
        "G.add_nodes_from(Dict.keys())\n",
        "\n",
        "for index, row in pd.DataFrame(breitbart_uses).head(nb_top).iterrows():\n",
        "  if index != 'breitbart.com':\n",
        "    Dict[index] = 2\n",
        "    G.add_weighted_edges_from([('breitbart.com', index, breightbart_score/row)])\n",
        "\n",
        "for index, row in pd.DataFrame(inside_climate_news_uses).head(nb_top).iterrows():\n",
        "  if index != 'insideclimatenews.org':\n",
        "    G.add_weighted_edges_from([('insideclimatenews.org', index, carbonbrief_score/row)])\n",
        "    if index != 'breitbart.com':\n",
        "      Dict[index] = 2\n",
        "\n",
        "nodelist,node_color = zip(*Dict.items())\n",
        "nx.draw_networkx(G, with_labels=False, nodelist=nodelist, node_size=50, node_color=node_color,vmin=0.0,vmax=2.0, cmap=cmap)\n",
        "plt.show()"
      ]
    },
    {
      "cell_type": "markdown",
      "source": [
        "When we compute this node graph, we were expecting to find out the two clusters of Breitbart and Inside Climate News because we were were conscious that they probably do not share their quotes with same newpapers. But thanks to this graph we observe two more majors issues. First the third cluster between two others. After further investigation, we find out that this third cluster correspond to another type of newspapers. While, some newspapers are creating articles and providing their own opinions over a subject, some newspapers only relay those articles in their own websites like msn or Yahoo. The second issue was the size of links between nodes. They are way more longer for Inside Climate News than for Breitbart. This allows us to say that pershaps, Inside Climate News is more subject to use their own quotations and autors compare to Breitbart. We think that this graph is really relevent and have to be incorpored into the data story. So on, we decided to do again this plot with plotly to make it more legible. "
      ],
      "metadata": {
        "id": "u3krP2pQMkeA"
      }
    },
    {
      "cell_type": "code",
      "execution_count": null,
      "metadata": {
        "id": "-8dTV3pC3hyX",
        "colab": {
          "base_uri": "https://localhost:8080/",
          "height": 542
        },
        "outputId": "bb2ae12b-1dfd-47cc-f2cb-bade48bce73b"
      },
      "outputs": [
        {
          "output_type": "display_data",
          "data": {
            "text/html": [
              "<html>\n",
              "<head><meta charset=\"utf-8\" /></head>\n",
              "<body>\n",
              "    <div>\n",
              "            <script src=\"https://cdnjs.cloudflare.com/ajax/libs/mathjax/2.7.5/MathJax.js?config=TeX-AMS-MML_SVG\"></script><script type=\"text/javascript\">if (window.MathJax) {MathJax.Hub.Config({SVG: {font: \"STIX-Web\"}});}</script>\n",
              "                <script type=\"text/javascript\">window.PlotlyConfig = {MathJaxConfig: 'local'};</script>\n",
              "        <script src=\"https://cdn.plot.ly/plotly-latest.min.js\"></script>    \n",
              "            <div id=\"4403d9d4-f4b0-41b1-b6ad-6274c5d8d5ba\" class=\"plotly-graph-div\" style=\"height:525px; width:100%;\"></div>\n",
              "            <script type=\"text/javascript\">\n",
              "                \n",
              "                    window.PLOTLYENV=window.PLOTLYENV || {};\n",
              "                    \n",
              "                if (document.getElementById(\"4403d9d4-f4b0-41b1-b6ad-6274c5d8d5ba\")) {\n",
              "                    Plotly.newPlot(\n",
              "                        '4403d9d4-f4b0-41b1-b6ad-6274c5d8d5ba',\n",
              "                        [{\"hoverinfo\": \"none\", \"line\": {\"color\": \"#888\", \"width\": 0.5}, \"mode\": \"lines\", \"type\": \"scatter\", \"x\": [-0.08711999763389697, 0.19785490531941927, null, -0.08711999763389697, 0.1570188575678037, null, -0.08711999763389697, 0.13609452558825255, null, -0.08711999763389697, -0.24204328721763094, null, -0.08711999763389697, 0.1563922532355957, null, -0.08711999763389697, 0.12145711052286574, null, -0.08711999763389697, 0.1185528414396298, null, -0.08711999763389697, -0.26183616498254086, null, -0.08711999763389697, -0.16802758457251538, null, -0.08711999763389697, 0.1409993600118187, null, -0.08711999763389697, -0.21658819813288152, null, -0.08711999763389697, 0.015115372392197832, null, -0.08711999763389697, -0.29349026110547743, null, -0.08711999763389697, -0.18333590253123494, null, -0.08711999763389697, -0.1439276290665529, null, -0.08711999763389697, -0.04032930707057827, null, -0.08711999763389697, 0.09806852785257845, null, -0.08711999763389697, 0.09532343624803892, null, -0.08711999763389697, -0.19738160491425963, null, -0.08711999763389697, -0.03509394833727646, null, -0.08711999763389697, 0.07743663977556169, null, -0.08711999763389697, 0.05012782550481035, null, -0.08711999763389697, -0.09250021419426498, null, -0.08711999763389697, -0.11701022662621273, null, -0.08711999763389697, -0.13310740087500245, null, -0.08711999763389697, 0.05514834807279207, null, -0.08711999763389697, -0.15387823243488785, null, -0.08711999763389697, -0.0817328728441292, null, -0.08711999763389697, -0.04347451331146954, null, -0.08711999763389697, -0.19666821048311883, null, -0.08711999763389697, 0.05560624762612944, null, -0.08711999763389697, -0.08513573164614731, null, -0.08711999763389697, -0.04310781786349631, null, -0.08711999763389697, -0.29738911195516965, null, -0.08711999763389697, -0.30094864197683413, null, -0.08711999763389697, -0.07908491918687932, null, -0.08711999763389697, 0.0640083498598148, null, -0.08711999763389697, -0.2418060651683298, null, -0.08711999763389697, -0.2945250719209778, null, -0.08711999763389697, -0.17398046863436106, null, -0.08711999763389697, -0.3055654752726163, null, -0.08711999763389697, -0.2521879076005054, null, -0.08711999763389697, -0.08487268984190123, null, -0.08711999763389697, -0.24342021575654718, null, -0.08711999763389697, 0.003923486085459639, null, -0.08711999763389697, -0.20015912459272, null, -0.08711999763389697, -0.06801129333719481, null, -0.08711999763389697, 0.026629912686910527, null, -0.08711999763389697, 0.04316005104987695, null, -0.08711999763389697, -0.026424751103096798, null, -0.08711999763389697, -0.00923296352648567, null, -0.08711999763389697, 0.002791282042189619, null, -0.08711999763389697, -0.2242946296202949, null, -0.08711999763389697, -0.23855733801960471, null, -0.08711999763389697, -0.15895661078021397, null, -0.08711999763389697, -0.15533161546485907, null, -0.08711999763389697, -0.20024148560005034, null, -0.08711999763389697, -0.04421063224584658, null, -0.08711999763389697, -0.2858205450015192, null, -0.08711999763389697, -0.2564545707478588, null, -0.08711999763389697, -0.1004452878790763, null, -0.08711999763389697, 0.033571239912607284, null, -0.08711999763389697, 0.008603027683303415, null, -0.08711999763389697, -0.12153544250838008, null, -0.08711999763389697, 0.0063941190801923556, null, -0.08711999763389697, -0.1132021634198575, null, -0.08711999763389697, -0.0019716646214444932, null, -0.08711999763389697, -0.14869939258160633, null, -0.08711999763389697, -0.03269527579109758, null, -0.08711999763389697, 0.07108206363720845, null, 0.07108206363720845, 0.6884174252363099, null, 0.07108206363720845, 0.09875999545865792, null, 0.07108206363720845, -0.19775533963528866, null, 0.07108206363720845, 0.1570188575678037, null, 0.07108206363720845, 0.19785490531941927, null, 0.07108206363720845, 0.2247986081573892, null, 0.07108206363720845, 0.1185528414396298, null, 0.07108206363720845, 0.1563922532355957, null, 0.07108206363720845, 0.12145711052286574, null, 0.07108206363720845, -0.27769650812077257, null, 0.07108206363720845, -0.26183616498254086, null, 0.07108206363720845, 0.5433951324947894, null, 0.07108206363720845, 0.4949730474962446, null, 0.07108206363720845, 0.36281396693069434, null, 0.07108206363720845, -0.24204328721763094, null, 0.07108206363720845, -0.21658819813288152, null, 0.07108206363720845, -0.17398046863436106, null, 0.07108206363720845, 0.1409993600118187, null, 0.07108206363720845, 0.13609452558825255, null, 0.07108206363720845, -0.12153544250838008, null, 0.07108206363720845, -0.1269440391203794, null, 0.07108206363720845, -0.20356194172762485, null, 0.07108206363720845, -0.16802758457251538, null, 0.07108206363720845, -0.03024507402074008, null, 0.07108206363720845, 0.1862335972961683, null, 0.07108206363720845, -0.11701022662621273, null, 0.07108206363720845, 0.05057050122439626, null, 0.07108206363720845, 0.3887279556300961, null, 0.07108206363720845, 0.09806852785257845, null, 0.07108206363720845, 0.24821583869125624, null, 0.07108206363720845, -0.18333590253123494, null, 0.07108206363720845, -0.026424751103096798, null, 0.07108206363720845, -0.04032930707057827, null, 0.07108206363720845, -0.03509394833727646, null, 0.07108206363720845, 0.09532343624803892, null, 0.07108206363720845, 0.04316005104987695, null, 0.07108206363720845, -0.15387823243488785, null, 0.07108206363720845, -0.09250021419426498, null, 0.07108206363720845, 0.12661560880680003, null, 0.07108206363720845, 0.42573958738246465, null, 0.07108206363720845, -0.1439276290665529, null, 0.07108206363720845, 0.3170417249481809, null, 0.07108206363720845, 0.39821953426186946, null, 0.07108206363720845, 0.290184019122796, null, 0.07108206363720845, -0.08487268984190123, null, 0.07108206363720845, 0.4103739063310002, null, 0.07108206363720845, 0.29160296552816634, null, 0.07108206363720845, 0.3439937736632298, null, 0.07108206363720845, 0.05012782550481035, null, 0.07108206363720845, 0.37518435844560755, null, 0.07108206363720845, 0.05560624762612944, null, 0.07108206363720845, 0.08668038200102844, null, 0.07108206363720845, -0.05813925906864184, null, 0.07108206363720845, 0.03290090243031752, null, 0.07108206363720845, 0.22861475942655873, null, 0.07108206363720845, 0.002791282042189619, null, 0.07108206363720845, -0.026555139281203774, null, 0.07108206363720845, 0.003923486085459639, null, 0.07108206363720845, -0.07908491918687932, null, 0.07108206363720845, -0.06801129333719481, null, 0.07108206363720845, -0.09860059679869734, null, 0.07108206363720845, 0.12554481899968004, null, 0.07108206363720845, 0.0063941190801923556, null, 0.07108206363720845, 0.1821124948266708, null, 0.07108206363720845, -0.16176233021317038, null, 0.07108206363720845, -0.03269527579109758, null, 0.07108206363720845, 0.05514834807279207, null, 0.07108206363720845, 0.015115372392197832, null], \"y\": [-0.2227659640282391, -0.24669389616608042, null, -0.2227659640282391, -0.3373290523175876, null, -0.2227659640282391, -0.06208431108459005, null, -0.2227659640282391, -0.0010265435136704493, null, -0.2227659640282391, -0.18721191010369193, null, -0.2227659640282391, -0.21514524204959262, null, -0.2227659640282391, -0.2619926107266703, null, -0.2227659640282391, -0.06607126317325616, null, -0.2227659640282391, 0.025428946128497987, null, -0.2227659640282391, -0.12728853181726357, null, -0.2227659640282391, -0.06211538562779591, null, -0.2227659640282391, -0.003768530651030861, null, -0.2227659640282391, -0.3987571781346569, null, -0.2227659640282391, -0.025963272635036477, null, -0.2227659640282391, -0.0019001507368977364, null, -0.2227659640282391, 0.013584249721402996, null, -0.2227659640282391, -0.1548905287827377, null, -0.2227659640282391, -0.10374774423065518, null, -0.2227659640282391, -0.45796428822329943, null, -0.2227659640282391, -0.026468878713779103, null, -0.2227659640282391, -0.4077417873044277, null, -0.2227659640282391, -0.044294160364689264, null, -0.2227659640282391, 0.013160956215268372, null, -0.2227659640282391, -0.029538522177524718, null, -0.2227659640282391, -0.46762380051289654, null, -0.2227659640282391, -0.0765871929297054, null, -0.2227659640282391, -0.0692516669178238, null, -0.2227659640282391, -0.46632923625518646, null, -0.2227659640282391, -0.4071230529057763, null, -0.2227659640282391, -0.3460210958213909, null, -0.2227659640282391, -0.12012734601805672, null, -0.2227659640282391, -0.3473482716979981, null, -0.2227659640282391, -0.4493569288552338, null, -0.2227659640282391, -0.1677073459511142, null, -0.2227659640282391, -0.335021956815652, null, -0.2227659640282391, -0.037376641329729766, null, -0.2227659640282391, -0.3478748537575925, null, -0.2227659640282391, -0.3864005867881397, null, -0.2227659640282391, -0.2095569253920487, null, -0.2227659640282391, -0.12243785535305418, null, -0.2227659640282391, -0.24659533808980402, null, -0.2227659640282391, -0.18361854952949766, null, -0.2227659640282391, -0.08509872625952865, null, -0.2227659640282391, -0.3026609579744673, null, -0.2227659640282391, -0.15387079730088757, null, -0.2227659640282391, -0.2755269886818621, null, -0.2227659640282391, -0.11774404004185564, null, -0.2227659640282391, -0.3992477665966997, null, -0.2227659640282391, -0.17406281201218135, null, -0.2227659640282391, -0.08172607595112587, null, -0.2227659640282391, -0.4209922988596397, null, -0.2227659640282391, -0.05863686686781579, null, -0.2227659640282391, -0.22236193992721548, null, -0.2227659640282391, -0.3403775199185837, null, -0.2227659640282391, -0.37551920946014855, null, -0.2227659640282391, -0.4162795224335227, null, -0.2227659640282391, -0.39648292381978345, null, -0.2227659640282391, -0.35077214138037904, null, -0.2227659640282391, -0.2938345314217819, null, -0.2227659640282391, -0.25485149720984757, null, -0.2227659640282391, -0.41481368148997466, null, -0.2227659640282391, -0.29647555154282323, null, -0.2227659640282391, -0.3646260212165302, null, -0.2227659640282391, -0.09453814183930143, null, -0.2227659640282391, -0.10923052067525378, null, -0.2227659640282391, -0.3735540278740242, null, -0.2227659640282391, -0.31807680658368437, null, -0.2227659640282391, -0.31252797475571936, null, -0.2227659640282391, -0.11906446931896443, null, -0.2227659640282391, 0.1754398568897449, null, 0.1754398568897449, 0.7227847531675671, null, 0.1754398568897449, 1.0, null, 0.1754398568897449, 0.8439734194441895, null, 0.1754398568897449, -0.3373290523175876, null, 0.1754398568897449, -0.24669389616608042, null, 0.1754398568897449, 0.7576523297798133, null, 0.1754398568897449, -0.2619926107266703, null, 0.1754398568897449, -0.18721191010369193, null, 0.1754398568897449, -0.21514524204959262, null, 0.1754398568897449, 0.5198989967204647, null, 0.1754398568897449, -0.06607126317325616, null, 0.1754398568897449, 0.2510224846893892, null, 0.1754398568897449, 0.4044302064848793, null, 0.1754398568897449, 0.5613021628314331, null, 0.1754398568897449, -0.0010265435136704493, null, 0.1754398568897449, -0.06211538562779591, null, 0.1754398568897449, -0.12243785535305418, null, 0.1754398568897449, -0.12728853181726357, null, 0.1754398568897449, -0.06208431108459005, null, 0.1754398568897449, -0.09453814183930143, null, 0.1754398568897449, 0.5328779834608268, null, 0.1754398568897449, 0.45506195579984704, null, 0.1754398568897449, 0.025428946128497987, null, 0.1754398568897449, 0.5700182072532858, null, 0.1754398568897449, 0.5630503080179474, null, 0.1754398568897449, -0.029538522177524718, null, 0.1754398568897449, 0.5658664668796245, null, 0.1754398568897449, 0.40766261833118245, null, 0.1754398568897449, -0.1548905287827377, null, 0.1754398568897449, 0.5043481437919287, null, 0.1754398568897449, -0.025963272635036477, null, 0.1754398568897449, -0.08172607595112587, null, 0.1754398568897449, 0.013584249721402996, null, 0.1754398568897449, -0.026468878713779103, null, 0.1754398568897449, -0.10374774423065518, null, 0.1754398568897449, -0.17406281201218135, null, 0.1754398568897449, -0.0692516669178238, null, 0.1754398568897449, 0.013160956215268372, null, 0.1754398568897449, 0.5206978156898824, null, 0.1754398568897449, 0.2473386885022493, null, 0.1754398568897449, -0.0019001507368977364, null, 0.1754398568897449, 0.37362154732209485, null, 0.1754398568897449, 0.17937613677396413, null, 0.1754398568897449, 0.43978407563718325, null, 0.1754398568897449, -0.08509872625952865, null, 0.1754398568897449, 0.11827406296219242, null, 0.1754398568897449, 0.30101440627447135, null, 0.1754398568897449, 0.23166188234423354, null, 0.1754398568897449, -0.044294160364689264, null, 0.1754398568897449, 0.3078386104245449, null, 0.1754398568897449, -0.12012734601805672, null, 0.1754398568897449, 0.4712200419229319, null, 0.1754398568897449, 0.4751134524888604, null, 0.1754398568897449, 0.43719196268665844, null, 0.1754398568897449, 0.37053101472826655, null, 0.1754398568897449, -0.05863686686781579, null, 0.1754398568897449, 0.4160146319399991, null, 0.1754398568897449, -0.15387079730088757, null, 0.1754398568897449, -0.037376641329729766, null, 0.1754398568897449, -0.11774404004185564, null, 0.1754398568897449, 0.39571628683635773, null, 0.1754398568897449, 0.37920548926131215, null, 0.1754398568897449, -0.10923052067525378, null, 0.1754398568897449, 0.4373462810528029, null, 0.1754398568897449, 0.3645617764421726, null, 0.1754398568897449, -0.11906446931896443, null, 0.1754398568897449, -0.0765871929297054, null, 0.1754398568897449, -0.003768530651030861, null]}, {\"hoverinfo\": \"text\", \"marker\": {\"color\": [70, 69, 2, 2, 2, 2, 2, 2, 2, 2, 2, 2, 2, 2, 1, 2, 2, 2, 2, 2, 1, 2, 1, 2, 2, 2, 1, 2, 2, 1, 1, 1, 2, 1, 1, 1, 1, 2, 1, 1, 1, 2, 1, 1, 2, 1, 2, 1, 2, 1, 2, 2, 1, 2, 1, 1, 1, 1, 1, 1, 1, 1, 1, 1, 1, 2, 2, 1, 1, 1, 2, 1, 1, 1, 1, 1, 1, 1, 1, 1, 1, 1, 1, 1, 1, 1, 1, 1, 1, 1, 1, 1, 1, 1, 1, 1, 1, 1, 1, 1, 1, 1, 1, 1], \"colorbar\": {\"thickness\": 15, \"title\": {\"side\": \"right\", \"text\": \"Node Connections\"}, \"xanchor\": \"left\"}, \"colorscale\": [[0.0, \"rgb(255,255,217)\"], [0.125, \"rgb(237,248,177)\"], [0.25, \"rgb(199,233,180)\"], [0.375, \"rgb(127,205,187)\"], [0.5, \"rgb(65,182,196)\"], [0.625, \"rgb(29,145,192)\"], [0.75, \"rgb(34,94,168)\"], [0.875, \"rgb(37,52,148)\"], [1.0, \"rgb(8,29,88)\"]], \"line\": {\"width\": 2}, \"reversescale\": true, \"showscale\": true, \"size\": 10}, \"mode\": \"markers\", \"text\": [\"breitbart.com\", \"insideclimatenews.org\", \"yahoo.com\", \"msn.com\", \"news12.com\", \"kdhnews.com\", \"seattletimes.com\", \"sfgate.com\", \"startribune.com\", \"washingtontimes.com\", \"wftv.com\", \"wtop.com\", \"mysanantonio.com\", \"wsbradio.com\", \"wboc.com\", \"ctpost.com\", \"wthr.com\", \"wsoctv.com\", \"stamfordadvocate.com\", \"newstimes.com\", \"phys.org\", \"indiatimes.com\", \"wokv.com\", \"gazette.com\", \"newsok.com\", \"tbo.com\", \"upi.com\", \"channelnewsasia.com\", \"thehour.com\", \"ksl.com\", \"readingeagle.com\", \"ctvnews.ca\", \"kob.com\", \"dailyherald.com\", \"wsiltv.com\", \"abc-7.com\", \"wsbtv.com\", \"wpxi.com\", \"kiro7.com\", \"bcdemocrat.com\", \"actionnewsjax.com\", \"newsmax.com\", \"herald-dispatch.com\", \"lasvegassun.com\", \"infotel.ca\", \"foxnews.com\", \"columbian.com\", \"lethbridgeherald.com\", \"chron.com\", \"digitaljournal.com\", \"expressnews.com\", \"spokesman.com\", \"smdailyjournal.com\", \"nydailynews.com\", \"wect.com\", \"timesunion.com\", \"nhregister.com\", \"pulse.ng\", \"journal-news.com\", \"krmg.com\", \"wral.com\", \"fox13memphis.com\", \"fox23.com\", \"570news.com\", \"ivpressonline.com\", \"sacbee.com\", \"therepublic.com\", \"newsadvance.com\", \"wacotrib.com\", \"go.com\", \"stltoday.com\", \"environmentalhealthnews.org\", \"dailyclimate.org\", \"nytimes.com\", \"thehill.com\", \"cnbc.com\", \"washingtonpost.com\", \"eenews.net\", \"lmtonline.com\", \"greentechmedia.com\", \"latimes.com\", \"ecowatch.com\", \"huffingtonpost.com\", \"reuters.com\", \"sandiegouniontribune.com\", \"bostonglobe.com\", \"kansascity.com\", \"investing.com\", \"nwaonline.com\", \"chicagotribune.com\", \"kansas.com\", \"bloomberg.com\", \"denverpost.com\", \"trust.org\", \"miamiherald.com\", \"whig.com\", \"cbsnews.com\", \"hypervocal.com\", \"abqjournal.com\", \"adn.com\", \"houstonchronicle.com\", \"cnn.com\", \"durangoherald.com\", \"theglobeandmail.com\"], \"type\": \"scatter\", \"x\": [-0.08711999763389697, 0.07108206363720845, 0.19785490531941927, 0.1570188575678037, 0.13609452558825255, -0.24204328721763094, 0.1563922532355957, 0.12145711052286574, 0.1185528414396298, -0.26183616498254086, -0.16802758457251538, 0.1409993600118187, -0.21658819813288152, 0.015115372392197832, -0.29349026110547743, -0.18333590253123494, -0.1439276290665529, -0.04032930707057827, 0.09806852785257845, 0.09532343624803892, -0.19738160491425963, -0.03509394833727646, 0.07743663977556169, 0.05012782550481035, -0.09250021419426498, -0.11701022662621273, -0.13310740087500245, 0.05514834807279207, -0.15387823243488785, -0.0817328728441292, -0.04347451331146954, -0.19666821048311883, 0.05560624762612944, -0.08513573164614731, -0.04310781786349631, -0.29738911195516965, -0.30094864197683413, -0.07908491918687932, 0.0640083498598148, -0.2418060651683298, -0.2945250719209778, -0.17398046863436106, -0.3055654752726163, -0.2521879076005054, -0.08487268984190123, -0.24342021575654718, 0.003923486085459639, -0.20015912459272, -0.06801129333719481, 0.026629912686910527, 0.04316005104987695, -0.026424751103096798, -0.00923296352648567, 0.002791282042189619, -0.2242946296202949, -0.23855733801960471, -0.15895661078021397, -0.15533161546485907, -0.20024148560005034, -0.04421063224584658, -0.2858205450015192, -0.2564545707478588, -0.1004452878790763, 0.033571239912607284, 0.008603027683303415, -0.12153544250838008, 0.0063941190801923556, -0.1132021634198575, -0.0019716646214444932, -0.14869939258160633, -0.03269527579109758, 0.6884174252363099, 0.09875999545865792, -0.19775533963528866, 0.2247986081573892, -0.27769650812077257, 0.5433951324947894, 0.4949730474962446, 0.36281396693069434, -0.1269440391203794, -0.20356194172762485, -0.03024507402074008, 0.1862335972961683, 0.05057050122439626, 0.3887279556300961, 0.24821583869125624, 0.12661560880680003, 0.42573958738246465, 0.3170417249481809, 0.39821953426186946, 0.290184019122796, 0.4103739063310002, 0.29160296552816634, 0.3439937736632298, 0.37518435844560755, 0.08668038200102844, -0.05813925906864184, 0.03290090243031752, 0.22861475942655873, -0.026555139281203774, -0.09860059679869734, 0.12554481899968004, 0.1821124948266708, -0.16176233021317038], \"y\": [-0.2227659640282391, 0.1754398568897449, -0.24669389616608042, -0.3373290523175876, -0.06208431108459005, -0.0010265435136704493, -0.18721191010369193, -0.21514524204959262, -0.2619926107266703, -0.06607126317325616, 0.025428946128497987, -0.12728853181726357, -0.06211538562779591, -0.003768530651030861, -0.3987571781346569, -0.025963272635036477, -0.0019001507368977364, 0.013584249721402996, -0.1548905287827377, -0.10374774423065518, -0.45796428822329943, -0.026468878713779103, -0.4077417873044277, -0.044294160364689264, 0.013160956215268372, -0.029538522177524718, -0.46762380051289654, -0.0765871929297054, -0.0692516669178238, -0.46632923625518646, -0.4071230529057763, -0.3460210958213909, -0.12012734601805672, -0.3473482716979981, -0.4493569288552338, -0.1677073459511142, -0.335021956815652, -0.037376641329729766, -0.3478748537575925, -0.3864005867881397, -0.2095569253920487, -0.12243785535305418, -0.24659533808980402, -0.18361854952949766, -0.08509872625952865, -0.3026609579744673, -0.15387079730088757, -0.2755269886818621, -0.11774404004185564, -0.3992477665966997, -0.17406281201218135, -0.08172607595112587, -0.4209922988596397, -0.05863686686781579, -0.22236193992721548, -0.3403775199185837, -0.37551920946014855, -0.4162795224335227, -0.39648292381978345, -0.35077214138037904, -0.2938345314217819, -0.25485149720984757, -0.41481368148997466, -0.29647555154282323, -0.3646260212165302, -0.09453814183930143, -0.10923052067525378, -0.3735540278740242, -0.31807680658368437, -0.31252797475571936, -0.11906446931896443, 0.7227847531675671, 1.0, 0.8439734194441895, 0.7576523297798133, 0.5198989967204647, 0.2510224846893892, 0.4044302064848793, 0.5613021628314331, 0.5328779834608268, 0.45506195579984704, 0.5700182072532858, 0.5630503080179474, 0.5658664668796245, 0.40766261833118245, 0.5043481437919287, 0.5206978156898824, 0.2473386885022493, 0.37362154732209485, 0.17937613677396413, 0.43978407563718325, 0.11827406296219242, 0.30101440627447135, 0.23166188234423354, 0.3078386104245449, 0.4712200419229319, 0.4751134524888604, 0.43719196268665844, 0.37053101472826655, 0.4160146319399991, 0.39571628683635773, 0.37920548926131215, 0.4373462810528029, 0.3645617764421726]}],\n",
              "                        {\"hovermode\": \"closest\", \"margin\": {\"b\": 20, \"l\": 5, \"r\": 5, \"t\": 40}, \"showlegend\": false, \"template\": {\"data\": {\"bar\": [{\"error_x\": {\"color\": \"#2a3f5f\"}, \"error_y\": {\"color\": \"#2a3f5f\"}, \"marker\": {\"line\": {\"color\": \"#E5ECF6\", \"width\": 0.5}}, \"type\": \"bar\"}], \"barpolar\": [{\"marker\": {\"line\": {\"color\": \"#E5ECF6\", \"width\": 0.5}}, \"type\": \"barpolar\"}], \"carpet\": [{\"aaxis\": {\"endlinecolor\": \"#2a3f5f\", \"gridcolor\": \"white\", \"linecolor\": \"white\", \"minorgridcolor\": \"white\", \"startlinecolor\": \"#2a3f5f\"}, \"baxis\": {\"endlinecolor\": \"#2a3f5f\", \"gridcolor\": \"white\", \"linecolor\": \"white\", \"minorgridcolor\": \"white\", \"startlinecolor\": \"#2a3f5f\"}, \"type\": \"carpet\"}], \"choropleth\": [{\"colorbar\": {\"outlinewidth\": 0, \"ticks\": \"\"}, \"type\": \"choropleth\"}], \"contour\": [{\"colorbar\": {\"outlinewidth\": 0, \"ticks\": \"\"}, \"colorscale\": [[0.0, \"#0d0887\"], [0.1111111111111111, \"#46039f\"], [0.2222222222222222, \"#7201a8\"], [0.3333333333333333, \"#9c179e\"], [0.4444444444444444, \"#bd3786\"], [0.5555555555555556, \"#d8576b\"], [0.6666666666666666, \"#ed7953\"], [0.7777777777777778, \"#fb9f3a\"], [0.8888888888888888, \"#fdca26\"], [1.0, \"#f0f921\"]], \"type\": \"contour\"}], \"contourcarpet\": [{\"colorbar\": {\"outlinewidth\": 0, \"ticks\": \"\"}, \"type\": \"contourcarpet\"}], \"heatmap\": [{\"colorbar\": {\"outlinewidth\": 0, \"ticks\": \"\"}, \"colorscale\": [[0.0, \"#0d0887\"], [0.1111111111111111, \"#46039f\"], [0.2222222222222222, \"#7201a8\"], [0.3333333333333333, \"#9c179e\"], [0.4444444444444444, \"#bd3786\"], [0.5555555555555556, \"#d8576b\"], [0.6666666666666666, \"#ed7953\"], [0.7777777777777778, \"#fb9f3a\"], [0.8888888888888888, \"#fdca26\"], [1.0, \"#f0f921\"]], \"type\": \"heatmap\"}], \"heatmapgl\": [{\"colorbar\": {\"outlinewidth\": 0, \"ticks\": \"\"}, \"colorscale\": [[0.0, \"#0d0887\"], [0.1111111111111111, \"#46039f\"], [0.2222222222222222, \"#7201a8\"], [0.3333333333333333, \"#9c179e\"], [0.4444444444444444, \"#bd3786\"], [0.5555555555555556, \"#d8576b\"], [0.6666666666666666, \"#ed7953\"], [0.7777777777777778, \"#fb9f3a\"], [0.8888888888888888, \"#fdca26\"], [1.0, \"#f0f921\"]], \"type\": \"heatmapgl\"}], \"histogram\": [{\"marker\": {\"colorbar\": {\"outlinewidth\": 0, \"ticks\": \"\"}}, \"type\": \"histogram\"}], \"histogram2d\": [{\"colorbar\": {\"outlinewidth\": 0, \"ticks\": \"\"}, \"colorscale\": [[0.0, \"#0d0887\"], [0.1111111111111111, \"#46039f\"], [0.2222222222222222, \"#7201a8\"], [0.3333333333333333, \"#9c179e\"], [0.4444444444444444, \"#bd3786\"], [0.5555555555555556, \"#d8576b\"], [0.6666666666666666, \"#ed7953\"], [0.7777777777777778, \"#fb9f3a\"], [0.8888888888888888, \"#fdca26\"], [1.0, \"#f0f921\"]], \"type\": \"histogram2d\"}], \"histogram2dcontour\": [{\"colorbar\": {\"outlinewidth\": 0, \"ticks\": \"\"}, \"colorscale\": [[0.0, \"#0d0887\"], [0.1111111111111111, \"#46039f\"], [0.2222222222222222, \"#7201a8\"], [0.3333333333333333, \"#9c179e\"], [0.4444444444444444, \"#bd3786\"], [0.5555555555555556, \"#d8576b\"], [0.6666666666666666, \"#ed7953\"], [0.7777777777777778, \"#fb9f3a\"], [0.8888888888888888, \"#fdca26\"], [1.0, \"#f0f921\"]], \"type\": \"histogram2dcontour\"}], \"mesh3d\": [{\"colorbar\": {\"outlinewidth\": 0, \"ticks\": \"\"}, \"type\": \"mesh3d\"}], \"parcoords\": [{\"line\": {\"colorbar\": {\"outlinewidth\": 0, \"ticks\": \"\"}}, \"type\": \"parcoords\"}], \"pie\": [{\"automargin\": true, \"type\": \"pie\"}], \"scatter\": [{\"marker\": {\"colorbar\": {\"outlinewidth\": 0, \"ticks\": \"\"}}, \"type\": \"scatter\"}], \"scatter3d\": [{\"line\": {\"colorbar\": {\"outlinewidth\": 0, \"ticks\": \"\"}}, \"marker\": {\"colorbar\": {\"outlinewidth\": 0, \"ticks\": \"\"}}, \"type\": \"scatter3d\"}], \"scattercarpet\": [{\"marker\": {\"colorbar\": {\"outlinewidth\": 0, \"ticks\": \"\"}}, \"type\": \"scattercarpet\"}], \"scattergeo\": [{\"marker\": {\"colorbar\": {\"outlinewidth\": 0, \"ticks\": \"\"}}, \"type\": \"scattergeo\"}], \"scattergl\": [{\"marker\": {\"colorbar\": {\"outlinewidth\": 0, \"ticks\": \"\"}}, \"type\": \"scattergl\"}], \"scattermapbox\": [{\"marker\": {\"colorbar\": {\"outlinewidth\": 0, \"ticks\": \"\"}}, \"type\": \"scattermapbox\"}], \"scatterpolar\": [{\"marker\": {\"colorbar\": {\"outlinewidth\": 0, \"ticks\": \"\"}}, \"type\": \"scatterpolar\"}], \"scatterpolargl\": [{\"marker\": {\"colorbar\": {\"outlinewidth\": 0, \"ticks\": \"\"}}, \"type\": \"scatterpolargl\"}], \"scatterternary\": [{\"marker\": {\"colorbar\": {\"outlinewidth\": 0, \"ticks\": \"\"}}, \"type\": \"scatterternary\"}], \"surface\": [{\"colorbar\": {\"outlinewidth\": 0, \"ticks\": \"\"}, \"colorscale\": [[0.0, \"#0d0887\"], [0.1111111111111111, \"#46039f\"], [0.2222222222222222, \"#7201a8\"], [0.3333333333333333, \"#9c179e\"], [0.4444444444444444, \"#bd3786\"], [0.5555555555555556, \"#d8576b\"], [0.6666666666666666, \"#ed7953\"], [0.7777777777777778, \"#fb9f3a\"], [0.8888888888888888, \"#fdca26\"], [1.0, \"#f0f921\"]], \"type\": \"surface\"}], \"table\": [{\"cells\": {\"fill\": {\"color\": \"#EBF0F8\"}, \"line\": {\"color\": \"white\"}}, \"header\": {\"fill\": {\"color\": \"#C8D4E3\"}, \"line\": {\"color\": \"white\"}}, \"type\": \"table\"}]}, \"layout\": {\"annotationdefaults\": {\"arrowcolor\": \"#2a3f5f\", \"arrowhead\": 0, \"arrowwidth\": 1}, \"coloraxis\": {\"colorbar\": {\"outlinewidth\": 0, \"ticks\": \"\"}}, \"colorscale\": {\"diverging\": [[0, \"#8e0152\"], [0.1, \"#c51b7d\"], [0.2, \"#de77ae\"], [0.3, \"#f1b6da\"], [0.4, \"#fde0ef\"], [0.5, \"#f7f7f7\"], [0.6, \"#e6f5d0\"], [0.7, \"#b8e186\"], [0.8, \"#7fbc41\"], [0.9, \"#4d9221\"], [1, \"#276419\"]], \"sequential\": [[0.0, \"#0d0887\"], [0.1111111111111111, \"#46039f\"], [0.2222222222222222, \"#7201a8\"], [0.3333333333333333, \"#9c179e\"], [0.4444444444444444, \"#bd3786\"], [0.5555555555555556, \"#d8576b\"], [0.6666666666666666, \"#ed7953\"], [0.7777777777777778, \"#fb9f3a\"], [0.8888888888888888, \"#fdca26\"], [1.0, \"#f0f921\"]], \"sequentialminus\": [[0.0, \"#0d0887\"], [0.1111111111111111, \"#46039f\"], [0.2222222222222222, \"#7201a8\"], [0.3333333333333333, \"#9c179e\"], [0.4444444444444444, \"#bd3786\"], [0.5555555555555556, \"#d8576b\"], [0.6666666666666666, \"#ed7953\"], [0.7777777777777778, \"#fb9f3a\"], [0.8888888888888888, \"#fdca26\"], [1.0, \"#f0f921\"]]}, \"colorway\": [\"#636efa\", \"#EF553B\", \"#00cc96\", \"#ab63fa\", \"#FFA15A\", \"#19d3f3\", \"#FF6692\", \"#B6E880\", \"#FF97FF\", \"#FECB52\"], \"font\": {\"color\": \"#2a3f5f\"}, \"geo\": {\"bgcolor\": \"white\", \"lakecolor\": \"white\", \"landcolor\": \"#E5ECF6\", \"showlakes\": true, \"showland\": true, \"subunitcolor\": \"white\"}, \"hoverlabel\": {\"align\": \"left\"}, \"hovermode\": \"closest\", \"mapbox\": {\"style\": \"light\"}, \"paper_bgcolor\": \"white\", \"plot_bgcolor\": \"#E5ECF6\", \"polar\": {\"angularaxis\": {\"gridcolor\": \"white\", \"linecolor\": \"white\", \"ticks\": \"\"}, \"bgcolor\": \"#E5ECF6\", \"radialaxis\": {\"gridcolor\": \"white\", \"linecolor\": \"white\", \"ticks\": \"\"}}, \"scene\": {\"xaxis\": {\"backgroundcolor\": \"#E5ECF6\", \"gridcolor\": \"white\", \"gridwidth\": 2, \"linecolor\": \"white\", \"showbackground\": true, \"ticks\": \"\", \"zerolinecolor\": \"white\"}, \"yaxis\": {\"backgroundcolor\": \"#E5ECF6\", \"gridcolor\": \"white\", \"gridwidth\": 2, \"linecolor\": \"white\", \"showbackground\": true, \"ticks\": \"\", \"zerolinecolor\": \"white\"}, \"zaxis\": {\"backgroundcolor\": \"#E5ECF6\", \"gridcolor\": \"white\", \"gridwidth\": 2, \"linecolor\": \"white\", \"showbackground\": true, \"ticks\": \"\", \"zerolinecolor\": \"white\"}}, \"shapedefaults\": {\"line\": {\"color\": \"#2a3f5f\"}}, \"ternary\": {\"aaxis\": {\"gridcolor\": \"white\", \"linecolor\": \"white\", \"ticks\": \"\"}, \"baxis\": {\"gridcolor\": \"white\", \"linecolor\": \"white\", \"ticks\": \"\"}, \"bgcolor\": \"#E5ECF6\", \"caxis\": {\"gridcolor\": \"white\", \"linecolor\": \"white\", \"ticks\": \"\"}}, \"title\": {\"x\": 0.05}, \"xaxis\": {\"automargin\": true, \"gridcolor\": \"white\", \"linecolor\": \"white\", \"ticks\": \"\", \"title\": {\"standoff\": 15}, \"zerolinecolor\": \"white\", \"zerolinewidth\": 2}, \"yaxis\": {\"automargin\": true, \"gridcolor\": \"white\", \"linecolor\": \"white\", \"ticks\": \"\", \"title\": {\"standoff\": 15}, \"zerolinecolor\": \"white\", \"zerolinewidth\": 2}}}, \"title\": {\"font\": {\"size\": 16}, \"text\": \"Breitbart & InsideClimateNews clusters\"}, \"xaxis\": {\"showgrid\": false, \"showticklabels\": false, \"zeroline\": false}, \"yaxis\": {\"showgrid\": false, \"showticklabels\": false, \"zeroline\": false}},\n",
              "                        {\"responsive\": true}\n",
              "                    ).then(function(){\n",
              "                            \n",
              "var gd = document.getElementById('4403d9d4-f4b0-41b1-b6ad-6274c5d8d5ba');\n",
              "var x = new MutationObserver(function (mutations, observer) {{\n",
              "        var display = window.getComputedStyle(gd).display;\n",
              "        if (!display || display === 'none') {{\n",
              "            console.log([gd, 'removed!']);\n",
              "            Plotly.purge(gd);\n",
              "            observer.disconnect();\n",
              "        }}\n",
              "}});\n",
              "\n",
              "// Listen for the removal of the full notebook cells\n",
              "var notebookContainer = gd.closest('#notebook-container');\n",
              "if (notebookContainer) {{\n",
              "    x.observe(notebookContainer, {childList: true});\n",
              "}}\n",
              "\n",
              "// Listen for the clearing of the current output cell\n",
              "var outputEl = gd.closest('.output');\n",
              "if (outputEl) {{\n",
              "    x.observe(outputEl, {childList: true});\n",
              "}}\n",
              "\n",
              "                        })\n",
              "                };\n",
              "                \n",
              "            </script>\n",
              "        </div>\n",
              "</body>\n",
              "</html>"
            ]
          },
          "metadata": {}
        }
      ],
      "source": [
        "# Plot graph using plotly for data story\n",
        "import plotly.graph_objects as go\n",
        "edge_x = []\n",
        "edge_y = []\n",
        "\n",
        "pos_ = nx.spring_layout(G)\n",
        "for edge in G.edges():\n",
        "    x0, y0 = pos_[edge[0]]\n",
        "    x1, y1 = pos_[edge[1]]\n",
        "    edge_x.append(x0)\n",
        "    edge_x.append(x1)\n",
        "    edge_x.append(None)\n",
        "    edge_y.append(y0)\n",
        "    edge_y.append(y1)\n",
        "    edge_y.append(None)\n",
        "\n",
        "edge_trace = go.Scatter(\n",
        "    x=edge_x, y=edge_y,\n",
        "    line=dict(width=0.5, color='#888'),\n",
        "    hoverinfo='none',\n",
        "    mode='lines')\n",
        "\n",
        "node_x = []\n",
        "node_y = []\n",
        "for node in G.nodes():\n",
        "    x, y = pos_[node]\n",
        "    node_x.append(x)\n",
        "    node_y.append(y)\n",
        "\n",
        "node_trace = go.Scatter(\n",
        "    x=node_x, y=node_y,\n",
        "    mode='markers',\n",
        "    hoverinfo='text',\n",
        "    marker=dict(\n",
        "        showscale=True,\n",
        "        # colorscale options\n",
        "        #'Greys' | 'YlGnBu' | 'Greens' | 'YlOrRd' | 'Bluered' | 'RdBu' |\n",
        "        #'Reds' | 'Blues' | 'Picnic' | 'Rainbow' | 'Portland' | 'Jet' |\n",
        "        #'Hot' | 'Blackbody' | 'Earth' | 'Electric' | 'Viridis' |\n",
        "        colorscale='YlGnBu',\n",
        "        reversescale=True,\n",
        "        color=[],\n",
        "        size=10,\n",
        "        colorbar=dict(\n",
        "            thickness=15,\n",
        "            title='Node Connections',\n",
        "            xanchor='left',\n",
        "            titleside='right'\n",
        "        ),\n",
        "        line_width=2))\n",
        "\n",
        "node_adjacencies = []\n",
        "node_text = []\n",
        "for node, adjacencies in enumerate(G.adjacency()):\n",
        "    node_adjacencies.append(len(adjacencies[1]))\n",
        "    node_text.append(list(G.nodes)[node])\n",
        "\n",
        "node_trace.marker.color = node_adjacencies\n",
        "node_trace.text = node_text\n",
        "\n",
        "fig = go.Figure(data=[edge_trace, node_trace],\n",
        "             layout=go.Layout(\n",
        "                title='Breitbart & InsideClimateNews clusters',\n",
        "                titlefont_size=16,\n",
        "                showlegend=False,\n",
        "                hovermode='closest',\n",
        "                margin=dict(b=20,l=5,r=5,t=40),\n",
        "                xaxis=dict(showgrid=False, zeroline=False, showticklabels=False),\n",
        "                yaxis=dict(showgrid=False, zeroline=False, showticklabels=False))\n",
        "                )\n",
        "fig.write_html('/content/drive/MyDrive/cluster_graph.html')\n",
        "fig.show()"
      ]
    },
    {
      "cell_type": "markdown",
      "source": [
        "Finally, we try to investigate if some quotes are reused uniquely for the same newpapers but this investigation doesn't lead us to conclusive results."
      ],
      "metadata": {
        "id": "S3hZNemMPvRi"
      }
    },
    {
      "cell_type": "code",
      "execution_count": null,
      "metadata": {
        "id": "DbswQeaZQmTP",
        "colab": {
          "base_uri": "https://localhost:8080/"
        },
        "outputId": "03adbde1-6b59-445b-f9de-fd083da5dacb"
      },
      "outputs": [
        {
          "output_type": "stream",
          "name": "stdout",
          "text": [
            "breitbart.com    440\n",
            "dtype: int64\n",
            "insideclimatenews.org    559\n",
            "dtype: int64\n",
            "nytimes.com    864\n",
            "dtype: int64\n"
          ]
        }
      ],
      "source": [
        "# Number of quotes reused uniquely by the same journal\n",
        "reuse_breitbart=[]\n",
        "reuse_inside_climate_news=[]\n",
        "reuse_nyt=[]\n",
        "for el in data_all['domain_name']:\n",
        "  if np.size(el)>=2:\n",
        "    if el.count('breitbart.com')==np.size(el):\n",
        "      reuse_breitbart.extend(set(el))\n",
        "    if el.count('insideclimatenews.org')==np.size(el):\n",
        "      reuse_inside_climate_news.extend(set(el))\n",
        "    if el.count('nytimes.com')==np.size(el):\n",
        "      reuse_nyt.extend(set(el))\n",
        "print(pd.Series(reuse_breitbart).value_counts())\n",
        "print(pd.Series(reuse_inside_climate_news).value_counts())\n",
        "print(pd.Series(reuse_nyt).value_counts())"
      ]
    },
    {
      "cell_type": "markdown",
      "metadata": {
        "id": "I3l-9meWAlVo"
      },
      "source": [
        "## Politcal views using Wikidata\n",
        "\n",
        "### Loading wikidata and establishing political parts\n",
        "\n",
        "First we load wikidata set and the parquet file. "
      ]
    },
    {
      "cell_type": "code",
      "execution_count": null,
      "metadata": {
        "colab": {
          "base_uri": "https://localhost:8080/",
          "height": 455
        },
        "id": "h2CQtegOA7_T",
        "outputId": "de86206c-2727-4ad4-e770-b9036c8fc6b1"
      },
      "outputs": [
        {
          "output_type": "execute_result",
          "data": {
            "text/html": [
              "\n",
              "  <div id=\"df-f37d8797-d172-4acf-9ae2-55545be4fb8a\">\n",
              "    <div class=\"colab-df-container\">\n",
              "      <div>\n",
              "<style scoped>\n",
              "    .dataframe tbody tr th:only-of-type {\n",
              "        vertical-align: middle;\n",
              "    }\n",
              "\n",
              "    .dataframe tbody tr th {\n",
              "        vertical-align: top;\n",
              "    }\n",
              "\n",
              "    .dataframe thead th {\n",
              "        text-align: right;\n",
              "    }\n",
              "</style>\n",
              "<table border=\"1\" class=\"dataframe\">\n",
              "  <thead>\n",
              "    <tr style=\"text-align: right;\">\n",
              "      <th></th>\n",
              "      <th>Label</th>\n",
              "      <th>Description</th>\n",
              "    </tr>\n",
              "    <tr>\n",
              "      <th>QID</th>\n",
              "      <th></th>\n",
              "      <th></th>\n",
              "    </tr>\n",
              "  </thead>\n",
              "  <tbody>\n",
              "    <tr>\n",
              "      <th>Q31</th>\n",
              "      <td>Belgium</td>\n",
              "      <td>country in western Europe</td>\n",
              "    </tr>\n",
              "    <tr>\n",
              "      <th>Q45</th>\n",
              "      <td>Portugal</td>\n",
              "      <td>country in southwestern Europe</td>\n",
              "    </tr>\n",
              "    <tr>\n",
              "      <th>Q75</th>\n",
              "      <td>Internet</td>\n",
              "      <td>global system of connected computer networks</td>\n",
              "    </tr>\n",
              "    <tr>\n",
              "      <th>Q148</th>\n",
              "      <td>People's Republic of China</td>\n",
              "      <td>sovereign state in East Asia</td>\n",
              "    </tr>\n",
              "    <tr>\n",
              "      <th>Q155</th>\n",
              "      <td>Brazil</td>\n",
              "      <td>country in South America</td>\n",
              "    </tr>\n",
              "    <tr>\n",
              "      <th>...</th>\n",
              "      <td>...</td>\n",
              "      <td>...</td>\n",
              "    </tr>\n",
              "    <tr>\n",
              "      <th>Q106302506</th>\n",
              "      <td>didgeridooist</td>\n",
              "      <td>musician who plays the didgeridoo</td>\n",
              "    </tr>\n",
              "    <tr>\n",
              "      <th>Q106341153</th>\n",
              "      <td>biochemistry teacher</td>\n",
              "      <td>teacher of biochemistry at any level</td>\n",
              "    </tr>\n",
              "    <tr>\n",
              "      <th>Q106368830</th>\n",
              "      <td>2018 Wigan Metropolitan Borough Council electi...</td>\n",
              "      <td>NaN</td>\n",
              "    </tr>\n",
              "    <tr>\n",
              "      <th>Q106369692</th>\n",
              "      <td>2018 Wigan Metropolitan Borough Council electi...</td>\n",
              "      <td>NaN</td>\n",
              "    </tr>\n",
              "    <tr>\n",
              "      <th>Q106376887</th>\n",
              "      <td>NaN</td>\n",
              "      <td>NaN</td>\n",
              "    </tr>\n",
              "  </tbody>\n",
              "</table>\n",
              "<p>36969 rows × 2 columns</p>\n",
              "</div>\n",
              "      <button class=\"colab-df-convert\" onclick=\"convertToInteractive('df-f37d8797-d172-4acf-9ae2-55545be4fb8a')\"\n",
              "              title=\"Convert this dataframe to an interactive table.\"\n",
              "              style=\"display:none;\">\n",
              "        \n",
              "  <svg xmlns=\"http://www.w3.org/2000/svg\" height=\"24px\"viewBox=\"0 0 24 24\"\n",
              "       width=\"24px\">\n",
              "    <path d=\"M0 0h24v24H0V0z\" fill=\"none\"/>\n",
              "    <path d=\"M18.56 5.44l.94 2.06.94-2.06 2.06-.94-2.06-.94-.94-2.06-.94 2.06-2.06.94zm-11 1L8.5 8.5l.94-2.06 2.06-.94-2.06-.94L8.5 2.5l-.94 2.06-2.06.94zm10 10l.94 2.06.94-2.06 2.06-.94-2.06-.94-.94-2.06-.94 2.06-2.06.94z\"/><path d=\"M17.41 7.96l-1.37-1.37c-.4-.4-.92-.59-1.43-.59-.52 0-1.04.2-1.43.59L10.3 9.45l-7.72 7.72c-.78.78-.78 2.05 0 2.83L4 21.41c.39.39.9.59 1.41.59.51 0 1.02-.2 1.41-.59l7.78-7.78 2.81-2.81c.8-.78.8-2.07 0-2.86zM5.41 20L4 18.59l7.72-7.72 1.47 1.35L5.41 20z\"/>\n",
              "  </svg>\n",
              "      </button>\n",
              "      \n",
              "  <style>\n",
              "    .colab-df-container {\n",
              "      display:flex;\n",
              "      flex-wrap:wrap;\n",
              "      gap: 12px;\n",
              "    }\n",
              "\n",
              "    .colab-df-convert {\n",
              "      background-color: #E8F0FE;\n",
              "      border: none;\n",
              "      border-radius: 50%;\n",
              "      cursor: pointer;\n",
              "      display: none;\n",
              "      fill: #1967D2;\n",
              "      height: 32px;\n",
              "      padding: 0 0 0 0;\n",
              "      width: 32px;\n",
              "    }\n",
              "\n",
              "    .colab-df-convert:hover {\n",
              "      background-color: #E2EBFA;\n",
              "      box-shadow: 0px 1px 2px rgba(60, 64, 67, 0.3), 0px 1px 3px 1px rgba(60, 64, 67, 0.15);\n",
              "      fill: #174EA6;\n",
              "    }\n",
              "\n",
              "    [theme=dark] .colab-df-convert {\n",
              "      background-color: #3B4455;\n",
              "      fill: #D2E3FC;\n",
              "    }\n",
              "\n",
              "    [theme=dark] .colab-df-convert:hover {\n",
              "      background-color: #434B5C;\n",
              "      box-shadow: 0px 1px 3px 1px rgba(0, 0, 0, 0.15);\n",
              "      filter: drop-shadow(0px 1px 2px rgba(0, 0, 0, 0.3));\n",
              "      fill: #FFFFFF;\n",
              "    }\n",
              "  </style>\n",
              "\n",
              "      <script>\n",
              "        const buttonEl =\n",
              "          document.querySelector('#df-f37d8797-d172-4acf-9ae2-55545be4fb8a button.colab-df-convert');\n",
              "        buttonEl.style.display =\n",
              "          google.colab.kernel.accessAllowed ? 'block' : 'none';\n",
              "\n",
              "        async function convertToInteractive(key) {\n",
              "          const element = document.querySelector('#df-f37d8797-d172-4acf-9ae2-55545be4fb8a');\n",
              "          const dataTable =\n",
              "            await google.colab.kernel.invokeFunction('convertToInteractive',\n",
              "                                                     [key], {});\n",
              "          if (!dataTable) return;\n",
              "\n",
              "          const docLinkHtml = 'Like what you see? Visit the ' +\n",
              "            '<a target=\"_blank\" href=https://colab.research.google.com/notebooks/data_table.ipynb>data table notebook</a>'\n",
              "            + ' to learn more about interactive tables.';\n",
              "          element.innerHTML = '';\n",
              "          dataTable['output_type'] = 'display_data';\n",
              "          await google.colab.output.renderOutput(dataTable, element);\n",
              "          const docLink = document.createElement('div');\n",
              "          docLink.innerHTML = docLinkHtml;\n",
              "          element.appendChild(docLink);\n",
              "        }\n",
              "      </script>\n",
              "    </div>\n",
              "  </div>\n",
              "  "
            ],
            "text/plain": [
              "                                                        Label                                   Description\n",
              "QID                                                                                                        \n",
              "Q31                                                   Belgium                     country in western Europe\n",
              "Q45                                                  Portugal                country in southwestern Europe\n",
              "Q75                                                  Internet  global system of connected computer networks\n",
              "Q148                               People's Republic of China                  sovereign state in East Asia\n",
              "Q155                                                   Brazil                      country in South America\n",
              "...                                                       ...                                           ...\n",
              "Q106302506                                      didgeridooist             musician who plays the didgeridoo\n",
              "Q106341153                               biochemistry teacher          teacher of biochemistry at any level\n",
              "Q106368830  2018 Wigan Metropolitan Borough Council electi...                                           NaN\n",
              "Q106369692  2018 Wigan Metropolitan Borough Council electi...                                           NaN\n",
              "Q106376887                                                NaN                                           NaN\n",
              "\n",
              "[36969 rows x 2 columns]"
            ]
          },
          "metadata": {},
          "execution_count": 9
        }
      ],
      "source": [
        "# Loading wikidata labels\n",
        "wikidata_file='/content/drive/MyDrive/Project datasets/wikidata_labels_descriptions_quotebank.csv.bz2'\n",
        "wiki_df = pd.read_csv(wikidata_file, compression='bz2', index_col='QID')\n",
        "wiki_df"
      ]
    },
    {
      "cell_type": "code",
      "execution_count": null,
      "metadata": {
        "id": "f2oZGWcDAoTr",
        "colab": {
          "base_uri": "https://localhost:8080/"
        },
        "outputId": "961cf8a8-76b0-48b1-cfc6-a956029ebb35"
      },
      "outputs": [
        {
          "output_type": "execute_result",
          "data": {
            "text/plain": [
              "Democratic Party                            28041\n",
              "Communist Party of the Soviet Union         27920\n",
              "Republican Party                            26954\n",
              "Communist Party of China                    14583\n",
              "Social Democratic Party of Germany          11490\n",
              "National Socialist German Workers' Party    11033\n",
              "Christian Democratic Union                   8109\n",
              "independent politician                       6002\n",
              "Conservative Party                           5368\n",
              "Labour Party                                 5242\n",
              "Liberal Party                                5138\n",
              "Social Democratic Party                      4586\n",
              "Indian National Congress                     4347\n",
              "Polish United Workers' Party                 3659\n",
              "National Liberal Party                       3642\n",
              "Centre Party                                 3543\n",
              "Socialist Unity Party of Germany             3529\n",
              "Socialist Party                              2889\n",
              "Liberal Party of Canada                      2809\n",
              "Communist Party of Germany                   2680\n",
              "Bharatiya Janata Party                       2564\n",
              "Communist Party of Czechoslovakia            2443\n",
              "Spanish Socialist Workers' Party             2410\n",
              "Liberal Democratic Party                     2381\n",
              "Norwegian Labour Party                       2359\n",
              "Name: party, dtype: int64"
            ]
          },
          "metadata": {},
          "execution_count": 10
        }
      ],
      "source": [
        "# Process parties of speakers in the parquet file\n",
        "wikidata_parquet_file='/content/drive/MyDrive/Project datasets/speaker_attributes.parquet'\n",
        "parquet_df = pd.read_parquet(wikidata_parquet_file)\n",
        "parties_df = parquet_df[~(parquet_df.party.isna())]['party']\n",
        "res = parties_df.map(lambda parties: list(map(lambda party: wiki_df['Label'].get(party), parties)))\n",
        "res.explode().value_counts().head(25)"
      ]
    },
    {
      "cell_type": "markdown",
      "source": [
        "This brieve analysis just give an idea of the parties of the different speakers\n",
        "We take into account all parties of the speakers and not only their last one,\n",
        "this make sense as they might have been in a different party when they express their opinion. "
      ],
      "metadata": {
        "id": "EKa376DFXJAs"
      }
    },
    {
      "cell_type": "code",
      "execution_count": null,
      "metadata": {
        "id": "i9GACk-FAor3",
        "colab": {
          "base_uri": "https://localhost:8080/"
        },
        "outputId": "bbafb59e-a1d5-4c20-fc49-fc7ba392d498"
      },
      "outputs": [
        {
          "output_type": "execute_result",
          "data": {
            "text/plain": [
              "id\n",
              "Q23            [Q327591]\n",
              "Q207            [Q29468]\n",
              "Q368           [Q327591]\n",
              "Q815          [Q1759368]\n",
              "Q873            [Q29552]\n",
              "                 ...    \n",
              "Q106371401     [Q234277]\n",
              "Q106377030      [Q79854]\n",
              "Q106377068     [Q234277]\n",
              "Q106378203       [Q9630]\n",
              "Q106391184      [Q49768]\n",
              "Name: party, Length: 399176, dtype: object"
            ]
          },
          "metadata": {},
          "execution_count": 11
        }
      ],
      "source": [
        "authors = parquet_df.set_index('id')\n",
        "authors_parties = authors['party']\n",
        "authors_parties = authors_parties[~(authors_parties.isna())]\n",
        "authors_parties"
      ]
    },
    {
      "cell_type": "markdown",
      "source": [
        "### Analysing political views of Breitbart and Inside Climate News quotes authors\n",
        "\n",
        "After performing the method in order to obtain political parties, we want to apply this method to Breitbart and Inside Climate News quotes authors in order to understand about which quotes are used either by breitbart or Inside Climate News and who are their autors."
      ],
      "metadata": {
        "id": "b_lrqg63Qqe8"
      }
    },
    {
      "cell_type": "code",
      "execution_count": null,
      "metadata": {
        "id": "4cjcntowAxqQ",
        "colab": {
          "base_uri": "https://localhost:8080/"
        },
        "outputId": "b770ef8b-2c93-42d3-c21a-a73de9707f12"
      },
      "outputs": [
        {
          "output_type": "stream",
          "name": "stdout",
          "text": [
            "breitbart -> 23185\n",
            "inside climate news -> 19973\n"
          ]
        }
      ],
      "source": [
        "# Extract quotes for Breitbart and Inside Climate News\n",
        "breitbart_df = data_all[data_all.domain_name.map(lambda domaines: domaines.count('breitbart.com') > 0)]\n",
        "inside_climate_news_df = data_all[data_all.domain_name.map(lambda domaines: domaines.count('insideclimatenews.org') > 0)]\n",
        "print('breitbart -> '+str(len(breitbart_df)))\n",
        "print('inside climate news -> '+str(len(inside_climate_news_df)))"
      ]
    },
    {
      "cell_type": "markdown",
      "source": [
        "The fonction below is useful to compute distributions of political views either for Breitbart or Inside Climate News."
      ],
      "metadata": {
        "id": "_Jde7E5DSGYC"
      }
    },
    {
      "cell_type": "code",
      "source": [
        "def compute_authors_political_assignement(data_df, domaine_name):\n",
        "  def repeat_qid(qids, n):\n",
        "    if len(qids) > 0 :\n",
        "      return [qids[0] for _ in range(n)]\n",
        "    else:\n",
        "      return [np.nan for _ in range(n)]\n",
        "\n",
        "  speakers_df = data_df.apply(lambda s: repeat_qid(s['qids'], len(list(filter(lambda d: d==domaine_name, s['domain_name'])))), axis=1).explode()#.drop_duplicates()\n",
        "  non_identified = speakers_df[(speakers_df.isna())]\n",
        "\n",
        "  speakers_df = speakers_df[~(speakers_df.isna())]\n",
        "  speakers_parties_df = speakers_df.map(lambda s:authors_parties.get(s))\n",
        "  political_distribution = speakers_parties_df.map(lambda parties: None if parties is None else list(map(lambda party: wiki_df['Label'].get(party), parties))[0])\n",
        "  return (non_identified, political_distribution)"
      ],
      "metadata": {
        "id": "0MS7JfULIjHk"
      },
      "execution_count": null,
      "outputs": []
    },
    {
      "cell_type": "code",
      "source": [
        "# Use of icn for Breitbart for more brievity\n",
        "(non_identified_breitbart, political_distribution_breitbart) = compute_authors_political_assignement(breitbart_df, 'breitbart.com')\n",
        "print(\"Non-identified speaker or political parties :\" +str(len(non_identified_breitbart)))\n",
        "print(\"Others :\" +str(len(political_distribution_breitbart.explode())))\n",
        "political_distribution_breitbart.explode().value_counts().head(10)"
      ],
      "metadata": {
        "colab": {
          "base_uri": "https://localhost:8080/"
        },
        "id": "yCZlKhqumlnD",
        "outputId": "0ed688a0-b32d-4434-d302-ff321431fe1c"
      },
      "execution_count": null,
      "outputs": [
        {
          "output_type": "stream",
          "name": "stdout",
          "text": [
            "Non-identified speaker or political parties :12463\n",
            "Others :49125\n"
          ]
        },
        {
          "output_type": "execute_result",
          "data": {
            "text/plain": [
              "Republican Party                 15258\n",
              "Democratic Party                 10214\n",
              "Independence Party of America     4142\n",
              "independent politician            1468\n",
              "Socialist Party                   1036\n",
              "Christian Democratic Union         468\n",
              "La République En Marche            466\n",
              "Democratic Awakening               360\n",
              "Liberty Union Party                330\n",
              "Conservative Party                 216\n",
              "dtype: int64"
            ]
          },
          "metadata": {},
          "execution_count": 17
        }
      ]
    },
    {
      "cell_type": "code",
      "execution_count": null,
      "metadata": {
        "colab": {
          "base_uri": "https://localhost:8080/"
        },
        "id": "z9uAPl_tDiw5",
        "outputId": "558e3698-42c7-456a-929c-a002872107b1"
      },
      "outputs": [
        {
          "output_type": "stream",
          "name": "stdout",
          "text": [
            "Non-identified speaker or political parties :8074\n",
            "Others :13128\n"
          ]
        },
        {
          "output_type": "execute_result",
          "data": {
            "text/plain": [
              "Republican Party              2361\n",
              "Democratic Party              2173\n",
              "Socialist Party                 78\n",
              "Liberal Party of Canada         44\n",
              "La République En Marche         43\n",
              "independent politician          39\n",
              "Labour Party                    39\n",
              "Christian Democratic Union      33\n",
              "Australian Labor Party          28\n",
              "Conservative Party              27\n",
              "dtype: int64"
            ]
          },
          "metadata": {},
          "execution_count": 16
        }
      ],
      "source": [
        "# Use of icn for InsideClimateNews for more brievity\n",
        "(non_identified_icn, political_distribution_icn) = compute_authors_political_assignement(inside_climate_news_df, 'insideclimatenews.org')\n",
        "print(\"Non-identified speaker or political parties :\" +str(len(non_identified_icn)))\n",
        "print(\"Others :\" +str(len(political_distribution_icn.explode())))\n",
        "political_distribution_icn.explode().value_counts().head(10)"
      ]
    },
    {
      "cell_type": "markdown",
      "source": [
        "After calculationg those distributions, we handle those result to find out the best visualization possible. After a quick review of visualization on plotly, we made the choice to choose pie chart which look for us the relevent way to plot those results."
      ],
      "metadata": {
        "id": "_poGyYvhS5oZ"
      }
    },
    {
      "cell_type": "code",
      "execution_count": null,
      "metadata": {
        "id": "2TJpwxqeDzrK"
      },
      "outputs": [],
      "source": [
        "# Compute statistics for breitbart\n",
        "politics_b=(domaine_quotes_count.loc['breitbart.com']-len(non_identified_breitbart))/domaine_quotes_count.loc['breitbart.com']\n",
        "typepo_b=political_distribution_breitbart.explode().value_counts()\n",
        "politics_c=len(political_distribution_breitbart.explode())/domaine_quotes_count.loc['breitbart.com']\n",
        "typepo_c=political_distribution_breitbart.explode().value_counts()\n",
        "\n",
        "republicanp_b=typepo_b.loc['Republican Party']/len(political_distribution_breitbart.explode())*politics_b\n",
        "democratep_b=typepo_b.loc['Democratic Party']/len(political_distribution_breitbart.explode())*politics_b\n",
        "independent_b=typepo_b.loc['Independence Party of America']/len(political_distribution_breitbart.explode())*politics_b\n",
        "\n",
        "unknowsp_b=len(non_identified_breitbart)/domaine_quotes_count.loc['breitbart.com']\n",
        "other_parties_b=1-(unknowsp_b+democratep_b+republicanp_b+independent_b)"
      ]
    },
    {
      "cell_type": "code",
      "execution_count": null,
      "metadata": {
        "id": "O3uNFThBhcBv"
      },
      "outputs": [],
      "source": [
        "# Compute statistiques for InsideClimatenews\n",
        "politics_c=len(political_distribution_icn.explode())/domaine_quotes_count.loc['insideclimatenews.org']\n",
        "typepo_c=political_distribution_icn.explode().value_counts()\n",
        "\n",
        "republicanp_c=typepo_c.loc['Republican Party']/len(political_distribution_icn.explode())*politics_c\n",
        "democratep_c=typepo_c.loc['Democratic Party']/len(political_distribution_icn.explode())*politics_c\n",
        "\n",
        "unknowsp_c=len(non_identified_icn)/domaine_quotes_count.loc['insideclimatenews.org']\n",
        "other_parties_c=1-(unknowsp_c+democratep_c+republicanp_c)"
      ]
    },
    {
      "cell_type": "code",
      "source": [
        "# config for pie chart generation\n",
        "labels = ['Republicains','Democrats','Unknown','Other Parties','Independent']\n",
        "colors=['red','blue','green','yellow','purple']"
      ],
      "metadata": {
        "id": "O-kEIsHlLaI1"
      },
      "execution_count": null,
      "outputs": []
    },
    {
      "cell_type": "code",
      "execution_count": null,
      "metadata": {
        "colab": {
          "base_uri": "https://localhost:8080/",
          "height": 542
        },
        "id": "DscjME0o8b7a",
        "outputId": "e623b578-3c25-46d5-c252-601f5c20f419"
      },
      "outputs": [
        {
          "output_type": "display_data",
          "data": {
            "text/html": [
              "<html>\n",
              "<head><meta charset=\"utf-8\" /></head>\n",
              "<body>\n",
              "    <div>\n",
              "            <script src=\"https://cdnjs.cloudflare.com/ajax/libs/mathjax/2.7.5/MathJax.js?config=TeX-AMS-MML_SVG\"></script><script type=\"text/javascript\">if (window.MathJax) {MathJax.Hub.Config({SVG: {font: \"STIX-Web\"}});}</script>\n",
              "                <script type=\"text/javascript\">window.PlotlyConfig = {MathJaxConfig: 'local'};</script>\n",
              "        <script src=\"https://cdn.plot.ly/plotly-latest.min.js\"></script>    \n",
              "            <div id=\"f1b2684b-2529-4d7d-9dbc-28d5c18ad81a\" class=\"plotly-graph-div\" style=\"height:525px; width:100%;\"></div>\n",
              "            <script type=\"text/javascript\">\n",
              "                \n",
              "                    window.PLOTLYENV=window.PLOTLYENV || {};\n",
              "                    \n",
              "                if (document.getElementById(\"f1b2684b-2529-4d7d-9dbc-28d5c18ad81a\")) {\n",
              "                    Plotly.newPlot(\n",
              "                        'f1b2684b-2529-4d7d-9dbc-28d5c18ad81a',\n",
              "                        [{\"labels\": [\"Republicains\", \"Democrats\", \"Unknown\", \"Other Parties\", \"Independent\"], \"marker\": {\"colors\": [\"red\", \"blue\", \"green\", \"yellow\", \"purple\"]}, \"type\": \"pie\", \"values\": [11.135741911140459, 10.249033110083953, 38.081313083671354, 40.53391189510423]}],\n",
              "                        {\"template\": {\"data\": {\"bar\": [{\"error_x\": {\"color\": \"#2a3f5f\"}, \"error_y\": {\"color\": \"#2a3f5f\"}, \"marker\": {\"line\": {\"color\": \"#E5ECF6\", \"width\": 0.5}}, \"type\": \"bar\"}], \"barpolar\": [{\"marker\": {\"line\": {\"color\": \"#E5ECF6\", \"width\": 0.5}}, \"type\": \"barpolar\"}], \"carpet\": [{\"aaxis\": {\"endlinecolor\": \"#2a3f5f\", \"gridcolor\": \"white\", \"linecolor\": \"white\", \"minorgridcolor\": \"white\", \"startlinecolor\": \"#2a3f5f\"}, \"baxis\": {\"endlinecolor\": \"#2a3f5f\", \"gridcolor\": \"white\", \"linecolor\": \"white\", \"minorgridcolor\": \"white\", \"startlinecolor\": \"#2a3f5f\"}, \"type\": \"carpet\"}], \"choropleth\": [{\"colorbar\": {\"outlinewidth\": 0, \"ticks\": \"\"}, \"type\": \"choropleth\"}], \"contour\": [{\"colorbar\": {\"outlinewidth\": 0, \"ticks\": \"\"}, \"colorscale\": [[0.0, \"#0d0887\"], [0.1111111111111111, \"#46039f\"], [0.2222222222222222, \"#7201a8\"], [0.3333333333333333, \"#9c179e\"], [0.4444444444444444, \"#bd3786\"], [0.5555555555555556, \"#d8576b\"], [0.6666666666666666, \"#ed7953\"], [0.7777777777777778, \"#fb9f3a\"], [0.8888888888888888, \"#fdca26\"], [1.0, \"#f0f921\"]], \"type\": \"contour\"}], \"contourcarpet\": [{\"colorbar\": {\"outlinewidth\": 0, \"ticks\": \"\"}, \"type\": \"contourcarpet\"}], \"heatmap\": [{\"colorbar\": {\"outlinewidth\": 0, \"ticks\": \"\"}, \"colorscale\": [[0.0, \"#0d0887\"], [0.1111111111111111, \"#46039f\"], [0.2222222222222222, \"#7201a8\"], [0.3333333333333333, \"#9c179e\"], [0.4444444444444444, \"#bd3786\"], [0.5555555555555556, \"#d8576b\"], [0.6666666666666666, \"#ed7953\"], [0.7777777777777778, \"#fb9f3a\"], [0.8888888888888888, \"#fdca26\"], [1.0, \"#f0f921\"]], \"type\": \"heatmap\"}], \"heatmapgl\": [{\"colorbar\": {\"outlinewidth\": 0, \"ticks\": \"\"}, \"colorscale\": [[0.0, \"#0d0887\"], [0.1111111111111111, \"#46039f\"], [0.2222222222222222, \"#7201a8\"], [0.3333333333333333, \"#9c179e\"], [0.4444444444444444, \"#bd3786\"], [0.5555555555555556, \"#d8576b\"], [0.6666666666666666, \"#ed7953\"], [0.7777777777777778, \"#fb9f3a\"], [0.8888888888888888, \"#fdca26\"], [1.0, \"#f0f921\"]], \"type\": \"heatmapgl\"}], \"histogram\": [{\"marker\": {\"colorbar\": {\"outlinewidth\": 0, \"ticks\": \"\"}}, \"type\": \"histogram\"}], \"histogram2d\": [{\"colorbar\": {\"outlinewidth\": 0, \"ticks\": \"\"}, \"colorscale\": [[0.0, \"#0d0887\"], [0.1111111111111111, \"#46039f\"], [0.2222222222222222, \"#7201a8\"], [0.3333333333333333, \"#9c179e\"], [0.4444444444444444, \"#bd3786\"], [0.5555555555555556, \"#d8576b\"], [0.6666666666666666, \"#ed7953\"], [0.7777777777777778, \"#fb9f3a\"], [0.8888888888888888, \"#fdca26\"], [1.0, \"#f0f921\"]], \"type\": \"histogram2d\"}], \"histogram2dcontour\": [{\"colorbar\": {\"outlinewidth\": 0, \"ticks\": \"\"}, \"colorscale\": [[0.0, \"#0d0887\"], [0.1111111111111111, \"#46039f\"], [0.2222222222222222, \"#7201a8\"], [0.3333333333333333, \"#9c179e\"], [0.4444444444444444, \"#bd3786\"], [0.5555555555555556, \"#d8576b\"], [0.6666666666666666, \"#ed7953\"], [0.7777777777777778, \"#fb9f3a\"], [0.8888888888888888, \"#fdca26\"], [1.0, \"#f0f921\"]], \"type\": \"histogram2dcontour\"}], \"mesh3d\": [{\"colorbar\": {\"outlinewidth\": 0, \"ticks\": \"\"}, \"type\": \"mesh3d\"}], \"parcoords\": [{\"line\": {\"colorbar\": {\"outlinewidth\": 0, \"ticks\": \"\"}}, \"type\": \"parcoords\"}], \"pie\": [{\"automargin\": true, \"type\": \"pie\"}], \"scatter\": [{\"marker\": {\"colorbar\": {\"outlinewidth\": 0, \"ticks\": \"\"}}, \"type\": \"scatter\"}], \"scatter3d\": [{\"line\": {\"colorbar\": {\"outlinewidth\": 0, \"ticks\": \"\"}}, \"marker\": {\"colorbar\": {\"outlinewidth\": 0, \"ticks\": \"\"}}, \"type\": \"scatter3d\"}], \"scattercarpet\": [{\"marker\": {\"colorbar\": {\"outlinewidth\": 0, \"ticks\": \"\"}}, \"type\": \"scattercarpet\"}], \"scattergeo\": [{\"marker\": {\"colorbar\": {\"outlinewidth\": 0, \"ticks\": \"\"}}, \"type\": \"scattergeo\"}], \"scattergl\": [{\"marker\": {\"colorbar\": {\"outlinewidth\": 0, \"ticks\": \"\"}}, \"type\": \"scattergl\"}], \"scattermapbox\": [{\"marker\": {\"colorbar\": {\"outlinewidth\": 0, \"ticks\": \"\"}}, \"type\": \"scattermapbox\"}], \"scatterpolar\": [{\"marker\": {\"colorbar\": {\"outlinewidth\": 0, \"ticks\": \"\"}}, \"type\": \"scatterpolar\"}], \"scatterpolargl\": [{\"marker\": {\"colorbar\": {\"outlinewidth\": 0, \"ticks\": \"\"}}, \"type\": \"scatterpolargl\"}], \"scatterternary\": [{\"marker\": {\"colorbar\": {\"outlinewidth\": 0, \"ticks\": \"\"}}, \"type\": \"scatterternary\"}], \"surface\": [{\"colorbar\": {\"outlinewidth\": 0, \"ticks\": \"\"}, \"colorscale\": [[0.0, \"#0d0887\"], [0.1111111111111111, \"#46039f\"], [0.2222222222222222, \"#7201a8\"], [0.3333333333333333, \"#9c179e\"], [0.4444444444444444, \"#bd3786\"], [0.5555555555555556, \"#d8576b\"], [0.6666666666666666, \"#ed7953\"], [0.7777777777777778, \"#fb9f3a\"], [0.8888888888888888, \"#fdca26\"], [1.0, \"#f0f921\"]], \"type\": \"surface\"}], \"table\": [{\"cells\": {\"fill\": {\"color\": \"#EBF0F8\"}, \"line\": {\"color\": \"white\"}}, \"header\": {\"fill\": {\"color\": \"#C8D4E3\"}, \"line\": {\"color\": \"white\"}}, \"type\": \"table\"}]}, \"layout\": {\"annotationdefaults\": {\"arrowcolor\": \"#2a3f5f\", \"arrowhead\": 0, \"arrowwidth\": 1}, \"coloraxis\": {\"colorbar\": {\"outlinewidth\": 0, \"ticks\": \"\"}}, \"colorscale\": {\"diverging\": [[0, \"#8e0152\"], [0.1, \"#c51b7d\"], [0.2, \"#de77ae\"], [0.3, \"#f1b6da\"], [0.4, \"#fde0ef\"], [0.5, \"#f7f7f7\"], [0.6, \"#e6f5d0\"], [0.7, \"#b8e186\"], [0.8, \"#7fbc41\"], [0.9, \"#4d9221\"], [1, \"#276419\"]], \"sequential\": [[0.0, \"#0d0887\"], [0.1111111111111111, \"#46039f\"], [0.2222222222222222, \"#7201a8\"], [0.3333333333333333, \"#9c179e\"], [0.4444444444444444, \"#bd3786\"], [0.5555555555555556, \"#d8576b\"], [0.6666666666666666, \"#ed7953\"], [0.7777777777777778, \"#fb9f3a\"], [0.8888888888888888, \"#fdca26\"], [1.0, \"#f0f921\"]], \"sequentialminus\": [[0.0, \"#0d0887\"], [0.1111111111111111, \"#46039f\"], [0.2222222222222222, \"#7201a8\"], [0.3333333333333333, \"#9c179e\"], [0.4444444444444444, \"#bd3786\"], [0.5555555555555556, \"#d8576b\"], [0.6666666666666666, \"#ed7953\"], [0.7777777777777778, \"#fb9f3a\"], [0.8888888888888888, \"#fdca26\"], [1.0, \"#f0f921\"]]}, \"colorway\": [\"#636efa\", \"#EF553B\", \"#00cc96\", \"#ab63fa\", \"#FFA15A\", \"#19d3f3\", \"#FF6692\", \"#B6E880\", \"#FF97FF\", \"#FECB52\"], \"font\": {\"color\": \"#2a3f5f\"}, \"geo\": {\"bgcolor\": \"white\", \"lakecolor\": \"white\", \"landcolor\": \"#E5ECF6\", \"showlakes\": true, \"showland\": true, \"subunitcolor\": \"white\"}, \"hoverlabel\": {\"align\": \"left\"}, \"hovermode\": \"closest\", \"mapbox\": {\"style\": \"light\"}, \"paper_bgcolor\": \"white\", \"plot_bgcolor\": \"#E5ECF6\", \"polar\": {\"angularaxis\": {\"gridcolor\": \"white\", \"linecolor\": \"white\", \"ticks\": \"\"}, \"bgcolor\": \"#E5ECF6\", \"radialaxis\": {\"gridcolor\": \"white\", \"linecolor\": \"white\", \"ticks\": \"\"}}, \"scene\": {\"xaxis\": {\"backgroundcolor\": \"#E5ECF6\", \"gridcolor\": \"white\", \"gridwidth\": 2, \"linecolor\": \"white\", \"showbackground\": true, \"ticks\": \"\", \"zerolinecolor\": \"white\"}, \"yaxis\": {\"backgroundcolor\": \"#E5ECF6\", \"gridcolor\": \"white\", \"gridwidth\": 2, \"linecolor\": \"white\", \"showbackground\": true, \"ticks\": \"\", \"zerolinecolor\": \"white\"}, \"zaxis\": {\"backgroundcolor\": \"#E5ECF6\", \"gridcolor\": \"white\", \"gridwidth\": 2, \"linecolor\": \"white\", \"showbackground\": true, \"ticks\": \"\", \"zerolinecolor\": \"white\"}}, \"shapedefaults\": {\"line\": {\"color\": \"#2a3f5f\"}}, \"ternary\": {\"aaxis\": {\"gridcolor\": \"white\", \"linecolor\": \"white\", \"ticks\": \"\"}, \"baxis\": {\"gridcolor\": \"white\", \"linecolor\": \"white\", \"ticks\": \"\"}, \"bgcolor\": \"#E5ECF6\", \"caxis\": {\"gridcolor\": \"white\", \"linecolor\": \"white\", \"ticks\": \"\"}}, \"title\": {\"x\": 0.05}, \"xaxis\": {\"automargin\": true, \"gridcolor\": \"white\", \"linecolor\": \"white\", \"ticks\": \"\", \"title\": {\"standoff\": 15}, \"zerolinecolor\": \"white\", \"zerolinewidth\": 2}, \"yaxis\": {\"automargin\": true, \"gridcolor\": \"white\", \"linecolor\": \"white\", \"ticks\": \"\", \"title\": {\"standoff\": 15}, \"zerolinecolor\": \"white\", \"zerolinewidth\": 2}}}},\n",
              "                        {\"responsive\": true}\n",
              "                    ).then(function(){\n",
              "                            \n",
              "var gd = document.getElementById('f1b2684b-2529-4d7d-9dbc-28d5c18ad81a');\n",
              "var x = new MutationObserver(function (mutations, observer) {{\n",
              "        var display = window.getComputedStyle(gd).display;\n",
              "        if (!display || display === 'none') {{\n",
              "            console.log([gd, 'removed!']);\n",
              "            Plotly.purge(gd);\n",
              "            observer.disconnect();\n",
              "        }}\n",
              "}});\n",
              "\n",
              "// Listen for the removal of the full notebook cells\n",
              "var notebookContainer = gd.closest('#notebook-container');\n",
              "if (notebookContainer) {{\n",
              "    x.observe(notebookContainer, {childList: true});\n",
              "}}\n",
              "\n",
              "// Listen for the clearing of the current output cell\n",
              "var outputEl = gd.closest('.output');\n",
              "if (outputEl) {{\n",
              "    x.observe(outputEl, {childList: true});\n",
              "}}\n",
              "\n",
              "                        })\n",
              "                };\n",
              "                \n",
              "            </script>\n",
              "        </div>\n",
              "</body>\n",
              "</html>"
            ]
          },
          "metadata": {}
        }
      ],
      "source": [
        "# Distribution of authors political opinion for InsideClimateNews\n",
        "values = [republicanp_c*100, democratep_c*100, unknowsp_c*100, other_parties_c*100]\n",
        "\n",
        "fig = go.Figure(data=[go.Pie(labels=labels, values=values)])\n",
        "fig.update_traces(marker=dict(colors=colors))\n",
        "fig.write_html('/content/drive/MyDrive/pieinside.html')\n",
        "fig.show()"
      ]
    },
    {
      "cell_type": "code",
      "execution_count": null,
      "metadata": {
        "colab": {
          "base_uri": "https://localhost:8080/",
          "height": 542
        },
        "id": "A-IT25CImNhf",
        "outputId": "399b40d1-51c2-455d-bb58-36b13447f853"
      },
      "outputs": [
        {
          "output_type": "display_data",
          "data": {
            "text/html": [
              "<html>\n",
              "<head><meta charset=\"utf-8\" /></head>\n",
              "<body>\n",
              "    <div>\n",
              "            <script src=\"https://cdnjs.cloudflare.com/ajax/libs/mathjax/2.7.5/MathJax.js?config=TeX-AMS-MML_SVG\"></script><script type=\"text/javascript\">if (window.MathJax) {MathJax.Hub.Config({SVG: {font: \"STIX-Web\"}});}</script>\n",
              "                <script type=\"text/javascript\">window.PlotlyConfig = {MathJaxConfig: 'local'};</script>\n",
              "        <script src=\"https://cdn.plot.ly/plotly-latest.min.js\"></script>    \n",
              "            <div id=\"7f46692b-77ae-4ced-aa26-b683bb0ad004\" class=\"plotly-graph-div\" style=\"height:525px; width:100%;\"></div>\n",
              "            <script type=\"text/javascript\">\n",
              "                \n",
              "                    window.PLOTLYENV=window.PLOTLYENV || {};\n",
              "                    \n",
              "                if (document.getElementById(\"7f46692b-77ae-4ced-aa26-b683bb0ad004\")) {\n",
              "                    Plotly.newPlot(\n",
              "                        '7f46692b-77ae-4ced-aa26-b683bb0ad004',\n",
              "                        [{\"labels\": [\"Republicains\", \"Democrats\", \"Unknown\", \"Other Parties\", \"Independent\"], \"marker\": {\"colors\": [\"red\", \"blue\", \"green\", \"yellow\", \"purple\"]}, \"type\": \"pie\", \"values\": [21.40677973457759, 14.330111954972836, 31.078250461323627, 27.373684585223714, 5.811173263902241]}],\n",
              "                        {\"template\": {\"data\": {\"bar\": [{\"error_x\": {\"color\": \"#2a3f5f\"}, \"error_y\": {\"color\": \"#2a3f5f\"}, \"marker\": {\"line\": {\"color\": \"#E5ECF6\", \"width\": 0.5}}, \"type\": \"bar\"}], \"barpolar\": [{\"marker\": {\"line\": {\"color\": \"#E5ECF6\", \"width\": 0.5}}, \"type\": \"barpolar\"}], \"carpet\": [{\"aaxis\": {\"endlinecolor\": \"#2a3f5f\", \"gridcolor\": \"white\", \"linecolor\": \"white\", \"minorgridcolor\": \"white\", \"startlinecolor\": \"#2a3f5f\"}, \"baxis\": {\"endlinecolor\": \"#2a3f5f\", \"gridcolor\": \"white\", \"linecolor\": \"white\", \"minorgridcolor\": \"white\", \"startlinecolor\": \"#2a3f5f\"}, \"type\": \"carpet\"}], \"choropleth\": [{\"colorbar\": {\"outlinewidth\": 0, \"ticks\": \"\"}, \"type\": \"choropleth\"}], \"contour\": [{\"colorbar\": {\"outlinewidth\": 0, \"ticks\": \"\"}, \"colorscale\": [[0.0, \"#0d0887\"], [0.1111111111111111, \"#46039f\"], [0.2222222222222222, \"#7201a8\"], [0.3333333333333333, \"#9c179e\"], [0.4444444444444444, \"#bd3786\"], [0.5555555555555556, \"#d8576b\"], [0.6666666666666666, \"#ed7953\"], [0.7777777777777778, \"#fb9f3a\"], [0.8888888888888888, \"#fdca26\"], [1.0, \"#f0f921\"]], \"type\": \"contour\"}], \"contourcarpet\": [{\"colorbar\": {\"outlinewidth\": 0, \"ticks\": \"\"}, \"type\": \"contourcarpet\"}], \"heatmap\": [{\"colorbar\": {\"outlinewidth\": 0, \"ticks\": \"\"}, \"colorscale\": [[0.0, \"#0d0887\"], [0.1111111111111111, \"#46039f\"], [0.2222222222222222, \"#7201a8\"], [0.3333333333333333, \"#9c179e\"], [0.4444444444444444, \"#bd3786\"], [0.5555555555555556, \"#d8576b\"], [0.6666666666666666, \"#ed7953\"], [0.7777777777777778, \"#fb9f3a\"], [0.8888888888888888, \"#fdca26\"], [1.0, \"#f0f921\"]], \"type\": \"heatmap\"}], \"heatmapgl\": [{\"colorbar\": {\"outlinewidth\": 0, \"ticks\": \"\"}, \"colorscale\": [[0.0, \"#0d0887\"], [0.1111111111111111, \"#46039f\"], [0.2222222222222222, \"#7201a8\"], [0.3333333333333333, \"#9c179e\"], [0.4444444444444444, \"#bd3786\"], [0.5555555555555556, \"#d8576b\"], [0.6666666666666666, \"#ed7953\"], [0.7777777777777778, \"#fb9f3a\"], [0.8888888888888888, \"#fdca26\"], [1.0, \"#f0f921\"]], \"type\": \"heatmapgl\"}], \"histogram\": [{\"marker\": {\"colorbar\": {\"outlinewidth\": 0, \"ticks\": \"\"}}, \"type\": \"histogram\"}], \"histogram2d\": [{\"colorbar\": {\"outlinewidth\": 0, \"ticks\": \"\"}, \"colorscale\": [[0.0, \"#0d0887\"], [0.1111111111111111, \"#46039f\"], [0.2222222222222222, \"#7201a8\"], [0.3333333333333333, \"#9c179e\"], [0.4444444444444444, \"#bd3786\"], [0.5555555555555556, \"#d8576b\"], [0.6666666666666666, \"#ed7953\"], [0.7777777777777778, \"#fb9f3a\"], [0.8888888888888888, \"#fdca26\"], [1.0, \"#f0f921\"]], \"type\": \"histogram2d\"}], \"histogram2dcontour\": [{\"colorbar\": {\"outlinewidth\": 0, \"ticks\": \"\"}, \"colorscale\": [[0.0, \"#0d0887\"], [0.1111111111111111, \"#46039f\"], [0.2222222222222222, \"#7201a8\"], [0.3333333333333333, \"#9c179e\"], [0.4444444444444444, \"#bd3786\"], [0.5555555555555556, \"#d8576b\"], [0.6666666666666666, \"#ed7953\"], [0.7777777777777778, \"#fb9f3a\"], [0.8888888888888888, \"#fdca26\"], [1.0, \"#f0f921\"]], \"type\": \"histogram2dcontour\"}], \"mesh3d\": [{\"colorbar\": {\"outlinewidth\": 0, \"ticks\": \"\"}, \"type\": \"mesh3d\"}], \"parcoords\": [{\"line\": {\"colorbar\": {\"outlinewidth\": 0, \"ticks\": \"\"}}, \"type\": \"parcoords\"}], \"pie\": [{\"automargin\": true, \"type\": \"pie\"}], \"scatter\": [{\"marker\": {\"colorbar\": {\"outlinewidth\": 0, \"ticks\": \"\"}}, \"type\": \"scatter\"}], \"scatter3d\": [{\"line\": {\"colorbar\": {\"outlinewidth\": 0, \"ticks\": \"\"}}, \"marker\": {\"colorbar\": {\"outlinewidth\": 0, \"ticks\": \"\"}}, \"type\": \"scatter3d\"}], \"scattercarpet\": [{\"marker\": {\"colorbar\": {\"outlinewidth\": 0, \"ticks\": \"\"}}, \"type\": \"scattercarpet\"}], \"scattergeo\": [{\"marker\": {\"colorbar\": {\"outlinewidth\": 0, \"ticks\": \"\"}}, \"type\": \"scattergeo\"}], \"scattergl\": [{\"marker\": {\"colorbar\": {\"outlinewidth\": 0, \"ticks\": \"\"}}, \"type\": \"scattergl\"}], \"scattermapbox\": [{\"marker\": {\"colorbar\": {\"outlinewidth\": 0, \"ticks\": \"\"}}, \"type\": \"scattermapbox\"}], \"scatterpolar\": [{\"marker\": {\"colorbar\": {\"outlinewidth\": 0, \"ticks\": \"\"}}, \"type\": \"scatterpolar\"}], \"scatterpolargl\": [{\"marker\": {\"colorbar\": {\"outlinewidth\": 0, \"ticks\": \"\"}}, \"type\": \"scatterpolargl\"}], \"scatterternary\": [{\"marker\": {\"colorbar\": {\"outlinewidth\": 0, \"ticks\": \"\"}}, \"type\": \"scatterternary\"}], \"surface\": [{\"colorbar\": {\"outlinewidth\": 0, \"ticks\": \"\"}, \"colorscale\": [[0.0, \"#0d0887\"], [0.1111111111111111, \"#46039f\"], [0.2222222222222222, \"#7201a8\"], [0.3333333333333333, \"#9c179e\"], [0.4444444444444444, \"#bd3786\"], [0.5555555555555556, \"#d8576b\"], [0.6666666666666666, \"#ed7953\"], [0.7777777777777778, \"#fb9f3a\"], [0.8888888888888888, \"#fdca26\"], [1.0, \"#f0f921\"]], \"type\": \"surface\"}], \"table\": [{\"cells\": {\"fill\": {\"color\": \"#EBF0F8\"}, \"line\": {\"color\": \"white\"}}, \"header\": {\"fill\": {\"color\": \"#C8D4E3\"}, \"line\": {\"color\": \"white\"}}, \"type\": \"table\"}]}, \"layout\": {\"annotationdefaults\": {\"arrowcolor\": \"#2a3f5f\", \"arrowhead\": 0, \"arrowwidth\": 1}, \"coloraxis\": {\"colorbar\": {\"outlinewidth\": 0, \"ticks\": \"\"}}, \"colorscale\": {\"diverging\": [[0, \"#8e0152\"], [0.1, \"#c51b7d\"], [0.2, \"#de77ae\"], [0.3, \"#f1b6da\"], [0.4, \"#fde0ef\"], [0.5, \"#f7f7f7\"], [0.6, \"#e6f5d0\"], [0.7, \"#b8e186\"], [0.8, \"#7fbc41\"], [0.9, \"#4d9221\"], [1, \"#276419\"]], \"sequential\": [[0.0, \"#0d0887\"], [0.1111111111111111, \"#46039f\"], [0.2222222222222222, \"#7201a8\"], [0.3333333333333333, \"#9c179e\"], [0.4444444444444444, \"#bd3786\"], [0.5555555555555556, \"#d8576b\"], [0.6666666666666666, \"#ed7953\"], [0.7777777777777778, \"#fb9f3a\"], [0.8888888888888888, \"#fdca26\"], [1.0, \"#f0f921\"]], \"sequentialminus\": [[0.0, \"#0d0887\"], [0.1111111111111111, \"#46039f\"], [0.2222222222222222, \"#7201a8\"], [0.3333333333333333, \"#9c179e\"], [0.4444444444444444, \"#bd3786\"], [0.5555555555555556, \"#d8576b\"], [0.6666666666666666, \"#ed7953\"], [0.7777777777777778, \"#fb9f3a\"], [0.8888888888888888, \"#fdca26\"], [1.0, \"#f0f921\"]]}, \"colorway\": [\"#636efa\", \"#EF553B\", \"#00cc96\", \"#ab63fa\", \"#FFA15A\", \"#19d3f3\", \"#FF6692\", \"#B6E880\", \"#FF97FF\", \"#FECB52\"], \"font\": {\"color\": \"#2a3f5f\"}, \"geo\": {\"bgcolor\": \"white\", \"lakecolor\": \"white\", \"landcolor\": \"#E5ECF6\", \"showlakes\": true, \"showland\": true, \"subunitcolor\": \"white\"}, \"hoverlabel\": {\"align\": \"left\"}, \"hovermode\": \"closest\", \"mapbox\": {\"style\": \"light\"}, \"paper_bgcolor\": \"white\", \"plot_bgcolor\": \"#E5ECF6\", \"polar\": {\"angularaxis\": {\"gridcolor\": \"white\", \"linecolor\": \"white\", \"ticks\": \"\"}, \"bgcolor\": \"#E5ECF6\", \"radialaxis\": {\"gridcolor\": \"white\", \"linecolor\": \"white\", \"ticks\": \"\"}}, \"scene\": {\"xaxis\": {\"backgroundcolor\": \"#E5ECF6\", \"gridcolor\": \"white\", \"gridwidth\": 2, \"linecolor\": \"white\", \"showbackground\": true, \"ticks\": \"\", \"zerolinecolor\": \"white\"}, \"yaxis\": {\"backgroundcolor\": \"#E5ECF6\", \"gridcolor\": \"white\", \"gridwidth\": 2, \"linecolor\": \"white\", \"showbackground\": true, \"ticks\": \"\", \"zerolinecolor\": \"white\"}, \"zaxis\": {\"backgroundcolor\": \"#E5ECF6\", \"gridcolor\": \"white\", \"gridwidth\": 2, \"linecolor\": \"white\", \"showbackground\": true, \"ticks\": \"\", \"zerolinecolor\": \"white\"}}, \"shapedefaults\": {\"line\": {\"color\": \"#2a3f5f\"}}, \"ternary\": {\"aaxis\": {\"gridcolor\": \"white\", \"linecolor\": \"white\", \"ticks\": \"\"}, \"baxis\": {\"gridcolor\": \"white\", \"linecolor\": \"white\", \"ticks\": \"\"}, \"bgcolor\": \"#E5ECF6\", \"caxis\": {\"gridcolor\": \"white\", \"linecolor\": \"white\", \"ticks\": \"\"}}, \"title\": {\"x\": 0.05}, \"xaxis\": {\"automargin\": true, \"gridcolor\": \"white\", \"linecolor\": \"white\", \"ticks\": \"\", \"title\": {\"standoff\": 15}, \"zerolinecolor\": \"white\", \"zerolinewidth\": 2}, \"yaxis\": {\"automargin\": true, \"gridcolor\": \"white\", \"linecolor\": \"white\", \"ticks\": \"\", \"title\": {\"standoff\": 15}, \"zerolinecolor\": \"white\", \"zerolinewidth\": 2}}}},\n",
              "                        {\"responsive\": true}\n",
              "                    ).then(function(){\n",
              "                            \n",
              "var gd = document.getElementById('7f46692b-77ae-4ced-aa26-b683bb0ad004');\n",
              "var x = new MutationObserver(function (mutations, observer) {{\n",
              "        var display = window.getComputedStyle(gd).display;\n",
              "        if (!display || display === 'none') {{\n",
              "            console.log([gd, 'removed!']);\n",
              "            Plotly.purge(gd);\n",
              "            observer.disconnect();\n",
              "        }}\n",
              "}});\n",
              "\n",
              "// Listen for the removal of the full notebook cells\n",
              "var notebookContainer = gd.closest('#notebook-container');\n",
              "if (notebookContainer) {{\n",
              "    x.observe(notebookContainer, {childList: true});\n",
              "}}\n",
              "\n",
              "// Listen for the clearing of the current output cell\n",
              "var outputEl = gd.closest('.output');\n",
              "if (outputEl) {{\n",
              "    x.observe(outputEl, {childList: true});\n",
              "}}\n",
              "\n",
              "                        })\n",
              "                };\n",
              "                \n",
              "            </script>\n",
              "        </div>\n",
              "</body>\n",
              "</html>"
            ]
          },
          "metadata": {}
        }
      ],
      "source": [
        "# Distribution of authors political opinion for Breitbart\n",
        "values = [republicanp_b*100, democratep_b*100, unknowsp_b*100, other_parties_b*100, independent_b*100]\n",
        "\n",
        "fig = go.Figure(data=[go.Pie(labels=labels, values=values)])\n",
        "fig.update_traces(marker=dict(colors=colors))\n",
        "fig.write_html('/content/drive/MyDrive/pie_breitbart_final.html')\n",
        "fig.show()"
      ]
    },
    {
      "cell_type": "markdown",
      "source": [
        "Those pie charts tell us a lot about political views evoked by quotes in Breitbart and in Inside Climate News. We first notice that only beitbart use same quotes of the Independence party of America. Besides, we also have to take in account that one third of polical views have not be assign or speakers have not be find out which can be interpreted as a confidence interval. But, we obviously notice that breitbart pie chart represent more American point of view while Inside Climate News looks to have a more global point regarding cliamte change issues because it takes more into account other parties which corresponds to all no American parties.  "
      ],
      "metadata": {
        "id": "nXYaZnewTu9I"
      }
    }
  ],
  "metadata": {
    "colab": {
      "collapsed_sections": [],
      "name": "notebook_newspaper_and_political_analysis.ipynb",
      "provenance": []
    },
    "kernelspec": {
      "display_name": "Python 3",
      "language": "python",
      "name": "python3"
    },
    "language_info": {
      "codemirror_mode": {
        "name": "ipython",
        "version": 3
      },
      "file_extension": ".py",
      "mimetype": "text/x-python",
      "name": "python",
      "nbconvert_exporter": "python",
      "pygments_lexer": "ipython3",
      "version": "3.8.8"
    }
  },
  "nbformat": 4,
  "nbformat_minor": 0
}